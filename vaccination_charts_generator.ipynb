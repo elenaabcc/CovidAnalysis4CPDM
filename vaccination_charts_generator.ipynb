{
 "cells": [
  {
   "cell_type": "code",
   "execution_count": 1,
   "metadata": {},
   "outputs": [],
   "source": [
    "from vaccination_etl_dataframe import *\n",
    "from plotly.subplots import make_subplots\n",
    "import plotly.graph_objects as go"
   ]
  },
  {
   "cell_type": "markdown",
   "metadata": {},
   "source": [
    "## BAR CHART"
   ]
  },
  {
   "cell_type": "code",
   "execution_count": 2,
   "metadata": {},
   "outputs": [
    {
     "data": {
      "application/vnd.plotly.v1+json": {
       "config": {
        "plotlyServerURL": "https://plot.ly"
       },
       "data": [
        {
         "marker": {
          "line": {
           "color": "white",
           "width": 1
          }
         },
         "name": "AZ",
         "opacity": 0.6,
         "type": "bar",
         "x": [
          "AT",
          "BE",
          "BG",
          "CY",
          "CZ",
          "DE",
          "DK",
          "EE",
          "EL",
          "ES",
          "FI",
          "FR",
          "HR",
          "HU",
          "IE",
          "IS",
          "IT",
          "LI",
          "LT",
          "LU",
          "LV",
          "MT",
          "NL",
          "NO",
          "PL",
          "PT",
          "RO",
          "SE",
          "SI",
          "SK"
         ],
         "y": [
          1582771,
          2842678,
          478451,
          254490,
          885489,
          12743071,
          154967,
          234535,
          1548942,
          9794631,
          553832,
          7827963,
          566072,
          1251605,
          1197645,
          115473,
          11974865,
          536242,
          105262,
          259676,
          227393,
          2800752,
          146655,
          5288514,
          2231642,
          852250,
          1334925,
          327025,
          842121
         ]
        },
        {
         "marker": {
          "line": {
           "color": "white",
           "width": 1
          }
         },
         "name": "COM",
         "opacity": 0.6,
         "type": "bar",
         "x": [
          "AT",
          "BE",
          "BG",
          "CY",
          "CZ",
          "DE",
          "DK",
          "EE",
          "EL",
          "ES",
          "FI",
          "FR",
          "HR",
          "HU",
          "IE",
          "IS",
          "IT",
          "LI",
          "LT",
          "LU",
          "LV",
          "MT",
          "NL",
          "NO",
          "PL",
          "PT",
          "RO",
          "SE",
          "SI",
          "SK"
         ],
         "y": [
          12222806,
          14691457,
          2302920,
          1073686,
          12185014,
          110914191,
          9559735,
          1251947,
          13428613,
          51624072,
          7450536,
          91656388,
          3451024,
          7794058,
          6627936,
          400174,
          70548912,
          19092,
          2841920,
          644530,
          1259181,
          587866,
          19333771,
          7354716,
          33493512,
          12671273,
          10850970,
          12941404,
          1985111,
          4365285
         ]
        },
        {
         "marker": {
          "line": {
           "color": "white",
           "width": 1
          }
         },
         "name": "JANSS",
         "opacity": 0.6,
         "type": "bar",
         "x": [
          "AT",
          "BE",
          "BG",
          "CY",
          "CZ",
          "DE",
          "DK",
          "EE",
          "EL",
          "ES",
          "FI",
          "FR",
          "HR",
          "HU",
          "IE",
          "IS",
          "IT",
          "LI",
          "LT",
          "LU",
          "LV",
          "MT",
          "NL",
          "NO",
          "PL",
          "PT",
          "RO",
          "SE",
          "SI",
          "SK"
         ],
         "y": [
          354848,
          414005,
          465744,
          26334,
          405394,
          3580634,
          46882,
          74698,
          664002,
          1981138,
          0,
          1062060,
          188556,
          306384,
          237635,
          54182,
          1478138,
          214,
          281503,
          40947,
          263030,
          31778,
          867074,
          6405,
          2527742,
          1129550,
          1939988,
          136346,
          166913
         ]
        },
        {
         "marker": {
          "line": {
           "color": "white",
           "width": 1
          }
         },
         "name": "MOD",
         "opacity": 0.6,
         "type": "bar",
         "x": [
          "AT",
          "BE",
          "BG",
          "CY",
          "CZ",
          "DE",
          "DK",
          "EE",
          "EL",
          "ES",
          "FI",
          "FR",
          "HR",
          "HU",
          "IE",
          "IS",
          "IT",
          "LI",
          "LT",
          "LU",
          "LV",
          "MT",
          "NL",
          "NO",
          "PL",
          "PT",
          "RO",
          "SE",
          "SI",
          "SK"
         ],
         "y": [
          1469044,
          2317314,
          413494,
          135203,
          1322258,
          22556371,
          1499143,
          193338,
          1344047,
          10261515,
          1127409,
          17976870,
          453831,
          978843,
          1026493,
          90908,
          20556509,
          41305,
          300817,
          191938,
          544988,
          157390,
          4964417,
          1819916,
          3371446,
          2508938,
          908769,
          2346118,
          226030,
          608333
         ]
        },
        {
         "marker": {
          "line": {
           "color": "white",
           "width": 1
          }
         },
         "name": "UNK",
         "opacity": 0.6,
         "type": "bar",
         "x": [
          "AT",
          "BE",
          "BG",
          "CY",
          "CZ",
          "DE",
          "DK",
          "EE",
          "EL",
          "ES",
          "FI",
          "FR",
          "HR",
          "HU",
          "IE",
          "IS",
          "IT",
          "LI",
          "LT",
          "LU",
          "LV",
          "MT",
          "NL",
          "NO",
          "PL",
          "PT",
          "RO",
          "SE",
          "SI",
          "SK"
         ],
         "y": [
          3435,
          17,
          0,
          4821,
          14755,
          0,
          0,
          2176
         ]
        },
        {
         "marker": {
          "line": {
           "color": "white",
           "width": 1
          }
         },
         "name": "BECNBG",
         "opacity": 0.6,
         "type": "bar",
         "x": [
          "AT",
          "BE",
          "BG",
          "CY",
          "CZ",
          "DE",
          "DK",
          "EE",
          "EL",
          "ES",
          "FI",
          "FR",
          "HR",
          "HU",
          "IE",
          "IS",
          "IT",
          "LI",
          "LT",
          "LU",
          "LV",
          "MT",
          "NL",
          "NO",
          "PL",
          "PT",
          "RO",
          "SE",
          "SI",
          "SK"
         ],
         "y": [
          2239144
         ]
        },
        {
         "marker": {
          "line": {
           "color": "white",
           "width": 1
          }
         },
         "name": "SPU",
         "opacity": 0.6,
         "type": "bar",
         "x": [
          "AT",
          "BE",
          "BG",
          "CY",
          "CZ",
          "DE",
          "DK",
          "EE",
          "EL",
          "ES",
          "FI",
          "FR",
          "HR",
          "HU",
          "IE",
          "IS",
          "IT",
          "LI",
          "LT",
          "LU",
          "LV",
          "MT",
          "NL",
          "NO",
          "PL",
          "PT",
          "RO",
          "SE",
          "SI",
          "SK"
         ],
         "y": [
          1807392,
          37688
         ]
        }
       ],
       "layout": {
        "barmode": "stack",
        "height": 620,
        "template": {
         "data": {
          "bar": [
           {
            "error_x": {
             "color": "#2a3f5f"
            },
            "error_y": {
             "color": "#2a3f5f"
            },
            "marker": {
             "line": {
              "color": "#E5ECF6",
              "width": 0.5
             },
             "pattern": {
              "fillmode": "overlay",
              "size": 10,
              "solidity": 0.2
             }
            },
            "type": "bar"
           }
          ],
          "barpolar": [
           {
            "marker": {
             "line": {
              "color": "#E5ECF6",
              "width": 0.5
             },
             "pattern": {
              "fillmode": "overlay",
              "size": 10,
              "solidity": 0.2
             }
            },
            "type": "barpolar"
           }
          ],
          "carpet": [
           {
            "aaxis": {
             "endlinecolor": "#2a3f5f",
             "gridcolor": "white",
             "linecolor": "white",
             "minorgridcolor": "white",
             "startlinecolor": "#2a3f5f"
            },
            "baxis": {
             "endlinecolor": "#2a3f5f",
             "gridcolor": "white",
             "linecolor": "white",
             "minorgridcolor": "white",
             "startlinecolor": "#2a3f5f"
            },
            "type": "carpet"
           }
          ],
          "choropleth": [
           {
            "colorbar": {
             "outlinewidth": 0,
             "ticks": ""
            },
            "type": "choropleth"
           }
          ],
          "contour": [
           {
            "colorbar": {
             "outlinewidth": 0,
             "ticks": ""
            },
            "colorscale": [
             [
              0,
              "#0d0887"
             ],
             [
              0.1111111111111111,
              "#46039f"
             ],
             [
              0.2222222222222222,
              "#7201a8"
             ],
             [
              0.3333333333333333,
              "#9c179e"
             ],
             [
              0.4444444444444444,
              "#bd3786"
             ],
             [
              0.5555555555555556,
              "#d8576b"
             ],
             [
              0.6666666666666666,
              "#ed7953"
             ],
             [
              0.7777777777777778,
              "#fb9f3a"
             ],
             [
              0.8888888888888888,
              "#fdca26"
             ],
             [
              1,
              "#f0f921"
             ]
            ],
            "type": "contour"
           }
          ],
          "contourcarpet": [
           {
            "colorbar": {
             "outlinewidth": 0,
             "ticks": ""
            },
            "type": "contourcarpet"
           }
          ],
          "heatmap": [
           {
            "colorbar": {
             "outlinewidth": 0,
             "ticks": ""
            },
            "colorscale": [
             [
              0,
              "#0d0887"
             ],
             [
              0.1111111111111111,
              "#46039f"
             ],
             [
              0.2222222222222222,
              "#7201a8"
             ],
             [
              0.3333333333333333,
              "#9c179e"
             ],
             [
              0.4444444444444444,
              "#bd3786"
             ],
             [
              0.5555555555555556,
              "#d8576b"
             ],
             [
              0.6666666666666666,
              "#ed7953"
             ],
             [
              0.7777777777777778,
              "#fb9f3a"
             ],
             [
              0.8888888888888888,
              "#fdca26"
             ],
             [
              1,
              "#f0f921"
             ]
            ],
            "type": "heatmap"
           }
          ],
          "heatmapgl": [
           {
            "colorbar": {
             "outlinewidth": 0,
             "ticks": ""
            },
            "colorscale": [
             [
              0,
              "#0d0887"
             ],
             [
              0.1111111111111111,
              "#46039f"
             ],
             [
              0.2222222222222222,
              "#7201a8"
             ],
             [
              0.3333333333333333,
              "#9c179e"
             ],
             [
              0.4444444444444444,
              "#bd3786"
             ],
             [
              0.5555555555555556,
              "#d8576b"
             ],
             [
              0.6666666666666666,
              "#ed7953"
             ],
             [
              0.7777777777777778,
              "#fb9f3a"
             ],
             [
              0.8888888888888888,
              "#fdca26"
             ],
             [
              1,
              "#f0f921"
             ]
            ],
            "type": "heatmapgl"
           }
          ],
          "histogram": [
           {
            "marker": {
             "pattern": {
              "fillmode": "overlay",
              "size": 10,
              "solidity": 0.2
             }
            },
            "type": "histogram"
           }
          ],
          "histogram2d": [
           {
            "colorbar": {
             "outlinewidth": 0,
             "ticks": ""
            },
            "colorscale": [
             [
              0,
              "#0d0887"
             ],
             [
              0.1111111111111111,
              "#46039f"
             ],
             [
              0.2222222222222222,
              "#7201a8"
             ],
             [
              0.3333333333333333,
              "#9c179e"
             ],
             [
              0.4444444444444444,
              "#bd3786"
             ],
             [
              0.5555555555555556,
              "#d8576b"
             ],
             [
              0.6666666666666666,
              "#ed7953"
             ],
             [
              0.7777777777777778,
              "#fb9f3a"
             ],
             [
              0.8888888888888888,
              "#fdca26"
             ],
             [
              1,
              "#f0f921"
             ]
            ],
            "type": "histogram2d"
           }
          ],
          "histogram2dcontour": [
           {
            "colorbar": {
             "outlinewidth": 0,
             "ticks": ""
            },
            "colorscale": [
             [
              0,
              "#0d0887"
             ],
             [
              0.1111111111111111,
              "#46039f"
             ],
             [
              0.2222222222222222,
              "#7201a8"
             ],
             [
              0.3333333333333333,
              "#9c179e"
             ],
             [
              0.4444444444444444,
              "#bd3786"
             ],
             [
              0.5555555555555556,
              "#d8576b"
             ],
             [
              0.6666666666666666,
              "#ed7953"
             ],
             [
              0.7777777777777778,
              "#fb9f3a"
             ],
             [
              0.8888888888888888,
              "#fdca26"
             ],
             [
              1,
              "#f0f921"
             ]
            ],
            "type": "histogram2dcontour"
           }
          ],
          "mesh3d": [
           {
            "colorbar": {
             "outlinewidth": 0,
             "ticks": ""
            },
            "type": "mesh3d"
           }
          ],
          "parcoords": [
           {
            "line": {
             "colorbar": {
              "outlinewidth": 0,
              "ticks": ""
             }
            },
            "type": "parcoords"
           }
          ],
          "pie": [
           {
            "automargin": true,
            "type": "pie"
           }
          ],
          "scatter": [
           {
            "marker": {
             "colorbar": {
              "outlinewidth": 0,
              "ticks": ""
             }
            },
            "type": "scatter"
           }
          ],
          "scatter3d": [
           {
            "line": {
             "colorbar": {
              "outlinewidth": 0,
              "ticks": ""
             }
            },
            "marker": {
             "colorbar": {
              "outlinewidth": 0,
              "ticks": ""
             }
            },
            "type": "scatter3d"
           }
          ],
          "scattercarpet": [
           {
            "marker": {
             "colorbar": {
              "outlinewidth": 0,
              "ticks": ""
             }
            },
            "type": "scattercarpet"
           }
          ],
          "scattergeo": [
           {
            "marker": {
             "colorbar": {
              "outlinewidth": 0,
              "ticks": ""
             }
            },
            "type": "scattergeo"
           }
          ],
          "scattergl": [
           {
            "marker": {
             "colorbar": {
              "outlinewidth": 0,
              "ticks": ""
             }
            },
            "type": "scattergl"
           }
          ],
          "scattermapbox": [
           {
            "marker": {
             "colorbar": {
              "outlinewidth": 0,
              "ticks": ""
             }
            },
            "type": "scattermapbox"
           }
          ],
          "scatterpolar": [
           {
            "marker": {
             "colorbar": {
              "outlinewidth": 0,
              "ticks": ""
             }
            },
            "type": "scatterpolar"
           }
          ],
          "scatterpolargl": [
           {
            "marker": {
             "colorbar": {
              "outlinewidth": 0,
              "ticks": ""
             }
            },
            "type": "scatterpolargl"
           }
          ],
          "scatterternary": [
           {
            "marker": {
             "colorbar": {
              "outlinewidth": 0,
              "ticks": ""
             }
            },
            "type": "scatterternary"
           }
          ],
          "surface": [
           {
            "colorbar": {
             "outlinewidth": 0,
             "ticks": ""
            },
            "colorscale": [
             [
              0,
              "#0d0887"
             ],
             [
              0.1111111111111111,
              "#46039f"
             ],
             [
              0.2222222222222222,
              "#7201a8"
             ],
             [
              0.3333333333333333,
              "#9c179e"
             ],
             [
              0.4444444444444444,
              "#bd3786"
             ],
             [
              0.5555555555555556,
              "#d8576b"
             ],
             [
              0.6666666666666666,
              "#ed7953"
             ],
             [
              0.7777777777777778,
              "#fb9f3a"
             ],
             [
              0.8888888888888888,
              "#fdca26"
             ],
             [
              1,
              "#f0f921"
             ]
            ],
            "type": "surface"
           }
          ],
          "table": [
           {
            "cells": {
             "fill": {
              "color": "#EBF0F8"
             },
             "line": {
              "color": "white"
             }
            },
            "header": {
             "fill": {
              "color": "#C8D4E3"
             },
             "line": {
              "color": "white"
             }
            },
            "type": "table"
           }
          ]
         },
         "layout": {
          "annotationdefaults": {
           "arrowcolor": "#2a3f5f",
           "arrowhead": 0,
           "arrowwidth": 1
          },
          "autotypenumbers": "strict",
          "coloraxis": {
           "colorbar": {
            "outlinewidth": 0,
            "ticks": ""
           }
          },
          "colorscale": {
           "diverging": [
            [
             0,
             "#8e0152"
            ],
            [
             0.1,
             "#c51b7d"
            ],
            [
             0.2,
             "#de77ae"
            ],
            [
             0.3,
             "#f1b6da"
            ],
            [
             0.4,
             "#fde0ef"
            ],
            [
             0.5,
             "#f7f7f7"
            ],
            [
             0.6,
             "#e6f5d0"
            ],
            [
             0.7,
             "#b8e186"
            ],
            [
             0.8,
             "#7fbc41"
            ],
            [
             0.9,
             "#4d9221"
            ],
            [
             1,
             "#276419"
            ]
           ],
           "sequential": [
            [
             0,
             "#0d0887"
            ],
            [
             0.1111111111111111,
             "#46039f"
            ],
            [
             0.2222222222222222,
             "#7201a8"
            ],
            [
             0.3333333333333333,
             "#9c179e"
            ],
            [
             0.4444444444444444,
             "#bd3786"
            ],
            [
             0.5555555555555556,
             "#d8576b"
            ],
            [
             0.6666666666666666,
             "#ed7953"
            ],
            [
             0.7777777777777778,
             "#fb9f3a"
            ],
            [
             0.8888888888888888,
             "#fdca26"
            ],
            [
             1,
             "#f0f921"
            ]
           ],
           "sequentialminus": [
            [
             0,
             "#0d0887"
            ],
            [
             0.1111111111111111,
             "#46039f"
            ],
            [
             0.2222222222222222,
             "#7201a8"
            ],
            [
             0.3333333333333333,
             "#9c179e"
            ],
            [
             0.4444444444444444,
             "#bd3786"
            ],
            [
             0.5555555555555556,
             "#d8576b"
            ],
            [
             0.6666666666666666,
             "#ed7953"
            ],
            [
             0.7777777777777778,
             "#fb9f3a"
            ],
            [
             0.8888888888888888,
             "#fdca26"
            ],
            [
             1,
             "#f0f921"
            ]
           ]
          },
          "colorway": [
           "#636efa",
           "#EF553B",
           "#00cc96",
           "#ab63fa",
           "#FFA15A",
           "#19d3f3",
           "#FF6692",
           "#B6E880",
           "#FF97FF",
           "#FECB52"
          ],
          "font": {
           "color": "#2a3f5f"
          },
          "geo": {
           "bgcolor": "white",
           "lakecolor": "white",
           "landcolor": "#E5ECF6",
           "showlakes": true,
           "showland": true,
           "subunitcolor": "white"
          },
          "hoverlabel": {
           "align": "left"
          },
          "hovermode": "closest",
          "mapbox": {
           "style": "light"
          },
          "paper_bgcolor": "white",
          "plot_bgcolor": "#E5ECF6",
          "polar": {
           "angularaxis": {
            "gridcolor": "white",
            "linecolor": "white",
            "ticks": ""
           },
           "bgcolor": "#E5ECF6",
           "radialaxis": {
            "gridcolor": "white",
            "linecolor": "white",
            "ticks": ""
           }
          },
          "scene": {
           "xaxis": {
            "backgroundcolor": "#E5ECF6",
            "gridcolor": "white",
            "gridwidth": 2,
            "linecolor": "white",
            "showbackground": true,
            "ticks": "",
            "zerolinecolor": "white"
           },
           "yaxis": {
            "backgroundcolor": "#E5ECF6",
            "gridcolor": "white",
            "gridwidth": 2,
            "linecolor": "white",
            "showbackground": true,
            "ticks": "",
            "zerolinecolor": "white"
           },
           "zaxis": {
            "backgroundcolor": "#E5ECF6",
            "gridcolor": "white",
            "gridwidth": 2,
            "linecolor": "white",
            "showbackground": true,
            "ticks": "",
            "zerolinecolor": "white"
           }
          },
          "shapedefaults": {
           "line": {
            "color": "#2a3f5f"
           }
          },
          "ternary": {
           "aaxis": {
            "gridcolor": "white",
            "linecolor": "white",
            "ticks": ""
           },
           "baxis": {
            "gridcolor": "white",
            "linecolor": "white",
            "ticks": ""
           },
           "bgcolor": "#E5ECF6",
           "caxis": {
            "gridcolor": "white",
            "linecolor": "white",
            "ticks": ""
           }
          },
          "title": {
           "x": 0.05
          },
          "xaxis": {
           "automargin": true,
           "gridcolor": "white",
           "linecolor": "white",
           "ticks": "",
           "title": {
            "standoff": 15
           },
           "zerolinecolor": "white",
           "zerolinewidth": 2
          },
          "yaxis": {
           "automargin": true,
           "gridcolor": "white",
           "linecolor": "white",
           "ticks": "",
           "title": {
            "standoff": 15
           },
           "zerolinecolor": "white",
           "zerolinewidth": 2
          }
         }
        },
        "title": {
         "text": "Vaccine in 2021 overall"
        }
       }
      }
     },
     "metadata": {},
     "output_type": "display_data"
    }
   ],
   "source": [
    "# Create a list of all the tyoe of vaccine \n",
    "vaccineTypes = ['AZ', 'COM', 'JANSS', 'MOD', 'UNK', 'BECNBG', 'SPU']\n",
    "\n",
    "\n",
    "# _____________________________________CREATE BAR CHART ____________________________________________________________________________________________________________________________________________________\n",
    "\n",
    "overallVaccine_BarChart_2021 = go.Figure(data=[ \n",
    "    go.Bar(name=vaccine, x=data_covid19_ecdc_2021['ReportingCountry'].unique(), y=data_covid19_ecdc_2021[data_covid19_ecdc_2021['Vaccine']==vaccine]['TotDoses'] )for vaccine in vaccineTypes\n",
    "])\n",
    "\n",
    "overallVaccine_BarChart_2021.update_traces(marker_line_color='white',\n",
    "                  marker_line_width=1, \n",
    "                  opacity=0.6,) \n",
    "\n",
    "overallVaccine_BarChart_2021.update_layout(\n",
    "                barmode='stack',\n",
    "                height = 620,\n",
    "                title_text='Vaccine in 2021 overall',\n",
    "               )\n",
    "\n",
    "# ________________________________________________________________________________________________________________________________________________________________________________________\n",
    "\n",
    "#Storing the chart for Dashboard\n",
    "#%store overallVaccine_BarChart_2021\n"
   ]
  },
  {
   "cell_type": "markdown",
   "metadata": {},
   "source": [
    "## TABLE"
   ]
  },
  {
   "cell_type": "code",
   "execution_count": 3,
   "metadata": {},
   "outputs": [
    {
     "data": {
      "application/vnd.plotly.v1+json": {
       "config": {
        "plotlyServerURL": "https://plot.ly"
       },
       "data": [
        {
         "cells": {
          "align": [
           "center",
           "center",
           "center",
           "center",
           "center",
           "center",
           "center",
           "center"
          ],
          "fill": {
           "color": [
            "#F4F4F8",
            "#F4F4F8",
            "#F4F4F8",
            "#F4F4F8",
            "#F4F4F8",
            "#F4F4F8",
            "#F4F4F8",
            "#F4F4F8"
           ]
          },
          "font": {
           "color": "#393B45",
           "size": 11
          },
          "height": 30,
          "line": {
           "color": "white"
          },
          "values": [
           [
            "AT",
            "BE",
            "BG",
            "CY",
            "CZ",
            "DE",
            "DK",
            "EE",
            "EL",
            "ES",
            "FI",
            "FR",
            "HR",
            "HU",
            "IE",
            "IS",
            "IT",
            "LI",
            "LT",
            "LU",
            "LV",
            "MT",
            "NL",
            "NO",
            "PL",
            "PT",
            "RO",
            "SE",
            "SI",
            "SK"
           ],
           [
            15632904,
            20265454,
            3660609,
            1489713,
            14798155,
            149794267,
            11260744,
            1754518,
            16985604,
            73661356,
            9131777,
            118528102,
            4674238,
            14377426,
            9089709,
            660737,
            104558424,
            60611,
            3960482,
            982677,
            2326875,
            1004427,
            27968190,
            9327692,
            44681214,
            18541403,
            14551977,
            16622447,
            2674512,
            6020340
           ],
           [
            354848,
            414005,
            465744,
            26334,
            405394,
            3580634,
            46882,
            74698,
            664002,
            1981138,
            0,
            1062060,
            188556,
            306384,
            237635,
            54182,
            1478138,
            214,
            281503,
            40947,
            263030,
            31778,
            867074,
            6405,
            2527742,
            1129550,
            1939988,
            0,
            136346,
            166913
           ],
           [
            1582771,
            2842678,
            478451,
            254490,
            885489,
            12743071,
            154967,
            234535,
            1548942,
            9794631,
            553832,
            7827963,
            566072,
            1251605,
            1197645,
            115473,
            11974865,
            0,
            536242,
            105262,
            259676,
            227393,
            2800752,
            146655,
            5288514,
            2231642,
            852250,
            1334925,
            327025,
            842121
           ],
           [
            12222806,
            14691457,
            2302920,
            1073686,
            12185014,
            110914191,
            9559735,
            1251947,
            13428613,
            51624072,
            7450536,
            91656388,
            3451024,
            7794058,
            6627936,
            400174,
            70548912,
            19092,
            2841920,
            644530,
            1259181,
            587866,
            19333771,
            7354716,
            33493512,
            12671273,
            10850970,
            12941404,
            1985111,
            4365285
           ],
           [
            1469044,
            2317314,
            413494,
            135203,
            1322258,
            22556371,
            1499143,
            193338,
            1344047,
            10261515,
            1127409,
            17976870,
            453831,
            978843,
            1026493,
            90908,
            20556509,
            41305,
            300817,
            191938,
            544988,
            157390,
            4964417,
            1819916,
            3371446,
            2508938,
            908769,
            2346118,
            226030,
            608333
           ],
           [
            0,
            0,
            0,
            0,
            0,
            0,
            0,
            0,
            0,
            0,
            0,
            0,
            0,
            2239144,
            0,
            0,
            0,
            0,
            0,
            0,
            0,
            0,
            0,
            0,
            0,
            0,
            0,
            0,
            0,
            0
           ],
           [
            0,
            0,
            0,
            0,
            0,
            0,
            0,
            0,
            0,
            0,
            0,
            0,
            0,
            1807392,
            0,
            0,
            0,
            0,
            0,
            0,
            0,
            0,
            0,
            0,
            0,
            0,
            0,
            0,
            0,
            37688
           ]
          ]
         },
         "columnwidth": [
          15,
          20,
          20,
          20,
          20,
          20,
          20,
          20
         ],
         "header": {
          "align": [
           "center",
           "center",
           "center",
           "center",
           "center",
           "center",
           "center",
           "center"
          ],
          "fill": {
           "color": [
            "#393B45"
           ]
          },
          "font": {
           "color": "#F4F4F8",
           "size": 15
          },
          "height": 30,
          "line": {
           "color": "white"
          },
          "values": [
           "<b>Country</b>",
           "<b>Total Vaccine</b>",
           "<b>Johnson & Johnson</b>",
           "<b>AstraZeneca</b>",
           "<b>Comirnaty Pfizer</b>",
           "<b>Moderna</b>",
           "<b>Inactivated </b>",
           "<b>Sputnik</b>"
          ]
         },
         "type": "table"
        }
       ],
       "layout": {
        "height": 1220,
        "template": {
         "data": {
          "bar": [
           {
            "error_x": {
             "color": "#2a3f5f"
            },
            "error_y": {
             "color": "#2a3f5f"
            },
            "marker": {
             "line": {
              "color": "#E5ECF6",
              "width": 0.5
             },
             "pattern": {
              "fillmode": "overlay",
              "size": 10,
              "solidity": 0.2
             }
            },
            "type": "bar"
           }
          ],
          "barpolar": [
           {
            "marker": {
             "line": {
              "color": "#E5ECF6",
              "width": 0.5
             },
             "pattern": {
              "fillmode": "overlay",
              "size": 10,
              "solidity": 0.2
             }
            },
            "type": "barpolar"
           }
          ],
          "carpet": [
           {
            "aaxis": {
             "endlinecolor": "#2a3f5f",
             "gridcolor": "white",
             "linecolor": "white",
             "minorgridcolor": "white",
             "startlinecolor": "#2a3f5f"
            },
            "baxis": {
             "endlinecolor": "#2a3f5f",
             "gridcolor": "white",
             "linecolor": "white",
             "minorgridcolor": "white",
             "startlinecolor": "#2a3f5f"
            },
            "type": "carpet"
           }
          ],
          "choropleth": [
           {
            "colorbar": {
             "outlinewidth": 0,
             "ticks": ""
            },
            "type": "choropleth"
           }
          ],
          "contour": [
           {
            "colorbar": {
             "outlinewidth": 0,
             "ticks": ""
            },
            "colorscale": [
             [
              0,
              "#0d0887"
             ],
             [
              0.1111111111111111,
              "#46039f"
             ],
             [
              0.2222222222222222,
              "#7201a8"
             ],
             [
              0.3333333333333333,
              "#9c179e"
             ],
             [
              0.4444444444444444,
              "#bd3786"
             ],
             [
              0.5555555555555556,
              "#d8576b"
             ],
             [
              0.6666666666666666,
              "#ed7953"
             ],
             [
              0.7777777777777778,
              "#fb9f3a"
             ],
             [
              0.8888888888888888,
              "#fdca26"
             ],
             [
              1,
              "#f0f921"
             ]
            ],
            "type": "contour"
           }
          ],
          "contourcarpet": [
           {
            "colorbar": {
             "outlinewidth": 0,
             "ticks": ""
            },
            "type": "contourcarpet"
           }
          ],
          "heatmap": [
           {
            "colorbar": {
             "outlinewidth": 0,
             "ticks": ""
            },
            "colorscale": [
             [
              0,
              "#0d0887"
             ],
             [
              0.1111111111111111,
              "#46039f"
             ],
             [
              0.2222222222222222,
              "#7201a8"
             ],
             [
              0.3333333333333333,
              "#9c179e"
             ],
             [
              0.4444444444444444,
              "#bd3786"
             ],
             [
              0.5555555555555556,
              "#d8576b"
             ],
             [
              0.6666666666666666,
              "#ed7953"
             ],
             [
              0.7777777777777778,
              "#fb9f3a"
             ],
             [
              0.8888888888888888,
              "#fdca26"
             ],
             [
              1,
              "#f0f921"
             ]
            ],
            "type": "heatmap"
           }
          ],
          "heatmapgl": [
           {
            "colorbar": {
             "outlinewidth": 0,
             "ticks": ""
            },
            "colorscale": [
             [
              0,
              "#0d0887"
             ],
             [
              0.1111111111111111,
              "#46039f"
             ],
             [
              0.2222222222222222,
              "#7201a8"
             ],
             [
              0.3333333333333333,
              "#9c179e"
             ],
             [
              0.4444444444444444,
              "#bd3786"
             ],
             [
              0.5555555555555556,
              "#d8576b"
             ],
             [
              0.6666666666666666,
              "#ed7953"
             ],
             [
              0.7777777777777778,
              "#fb9f3a"
             ],
             [
              0.8888888888888888,
              "#fdca26"
             ],
             [
              1,
              "#f0f921"
             ]
            ],
            "type": "heatmapgl"
           }
          ],
          "histogram": [
           {
            "marker": {
             "pattern": {
              "fillmode": "overlay",
              "size": 10,
              "solidity": 0.2
             }
            },
            "type": "histogram"
           }
          ],
          "histogram2d": [
           {
            "colorbar": {
             "outlinewidth": 0,
             "ticks": ""
            },
            "colorscale": [
             [
              0,
              "#0d0887"
             ],
             [
              0.1111111111111111,
              "#46039f"
             ],
             [
              0.2222222222222222,
              "#7201a8"
             ],
             [
              0.3333333333333333,
              "#9c179e"
             ],
             [
              0.4444444444444444,
              "#bd3786"
             ],
             [
              0.5555555555555556,
              "#d8576b"
             ],
             [
              0.6666666666666666,
              "#ed7953"
             ],
             [
              0.7777777777777778,
              "#fb9f3a"
             ],
             [
              0.8888888888888888,
              "#fdca26"
             ],
             [
              1,
              "#f0f921"
             ]
            ],
            "type": "histogram2d"
           }
          ],
          "histogram2dcontour": [
           {
            "colorbar": {
             "outlinewidth": 0,
             "ticks": ""
            },
            "colorscale": [
             [
              0,
              "#0d0887"
             ],
             [
              0.1111111111111111,
              "#46039f"
             ],
             [
              0.2222222222222222,
              "#7201a8"
             ],
             [
              0.3333333333333333,
              "#9c179e"
             ],
             [
              0.4444444444444444,
              "#bd3786"
             ],
             [
              0.5555555555555556,
              "#d8576b"
             ],
             [
              0.6666666666666666,
              "#ed7953"
             ],
             [
              0.7777777777777778,
              "#fb9f3a"
             ],
             [
              0.8888888888888888,
              "#fdca26"
             ],
             [
              1,
              "#f0f921"
             ]
            ],
            "type": "histogram2dcontour"
           }
          ],
          "mesh3d": [
           {
            "colorbar": {
             "outlinewidth": 0,
             "ticks": ""
            },
            "type": "mesh3d"
           }
          ],
          "parcoords": [
           {
            "line": {
             "colorbar": {
              "outlinewidth": 0,
              "ticks": ""
             }
            },
            "type": "parcoords"
           }
          ],
          "pie": [
           {
            "automargin": true,
            "type": "pie"
           }
          ],
          "scatter": [
           {
            "marker": {
             "colorbar": {
              "outlinewidth": 0,
              "ticks": ""
             }
            },
            "type": "scatter"
           }
          ],
          "scatter3d": [
           {
            "line": {
             "colorbar": {
              "outlinewidth": 0,
              "ticks": ""
             }
            },
            "marker": {
             "colorbar": {
              "outlinewidth": 0,
              "ticks": ""
             }
            },
            "type": "scatter3d"
           }
          ],
          "scattercarpet": [
           {
            "marker": {
             "colorbar": {
              "outlinewidth": 0,
              "ticks": ""
             }
            },
            "type": "scattercarpet"
           }
          ],
          "scattergeo": [
           {
            "marker": {
             "colorbar": {
              "outlinewidth": 0,
              "ticks": ""
             }
            },
            "type": "scattergeo"
           }
          ],
          "scattergl": [
           {
            "marker": {
             "colorbar": {
              "outlinewidth": 0,
              "ticks": ""
             }
            },
            "type": "scattergl"
           }
          ],
          "scattermapbox": [
           {
            "marker": {
             "colorbar": {
              "outlinewidth": 0,
              "ticks": ""
             }
            },
            "type": "scattermapbox"
           }
          ],
          "scatterpolar": [
           {
            "marker": {
             "colorbar": {
              "outlinewidth": 0,
              "ticks": ""
             }
            },
            "type": "scatterpolar"
           }
          ],
          "scatterpolargl": [
           {
            "marker": {
             "colorbar": {
              "outlinewidth": 0,
              "ticks": ""
             }
            },
            "type": "scatterpolargl"
           }
          ],
          "scatterternary": [
           {
            "marker": {
             "colorbar": {
              "outlinewidth": 0,
              "ticks": ""
             }
            },
            "type": "scatterternary"
           }
          ],
          "surface": [
           {
            "colorbar": {
             "outlinewidth": 0,
             "ticks": ""
            },
            "colorscale": [
             [
              0,
              "#0d0887"
             ],
             [
              0.1111111111111111,
              "#46039f"
             ],
             [
              0.2222222222222222,
              "#7201a8"
             ],
             [
              0.3333333333333333,
              "#9c179e"
             ],
             [
              0.4444444444444444,
              "#bd3786"
             ],
             [
              0.5555555555555556,
              "#d8576b"
             ],
             [
              0.6666666666666666,
              "#ed7953"
             ],
             [
              0.7777777777777778,
              "#fb9f3a"
             ],
             [
              0.8888888888888888,
              "#fdca26"
             ],
             [
              1,
              "#f0f921"
             ]
            ],
            "type": "surface"
           }
          ],
          "table": [
           {
            "cells": {
             "fill": {
              "color": "#EBF0F8"
             },
             "line": {
              "color": "white"
             }
            },
            "header": {
             "fill": {
              "color": "#C8D4E3"
             },
             "line": {
              "color": "white"
             }
            },
            "type": "table"
           }
          ]
         },
         "layout": {
          "annotationdefaults": {
           "arrowcolor": "#2a3f5f",
           "arrowhead": 0,
           "arrowwidth": 1
          },
          "autotypenumbers": "strict",
          "coloraxis": {
           "colorbar": {
            "outlinewidth": 0,
            "ticks": ""
           }
          },
          "colorscale": {
           "diverging": [
            [
             0,
             "#8e0152"
            ],
            [
             0.1,
             "#c51b7d"
            ],
            [
             0.2,
             "#de77ae"
            ],
            [
             0.3,
             "#f1b6da"
            ],
            [
             0.4,
             "#fde0ef"
            ],
            [
             0.5,
             "#f7f7f7"
            ],
            [
             0.6,
             "#e6f5d0"
            ],
            [
             0.7,
             "#b8e186"
            ],
            [
             0.8,
             "#7fbc41"
            ],
            [
             0.9,
             "#4d9221"
            ],
            [
             1,
             "#276419"
            ]
           ],
           "sequential": [
            [
             0,
             "#0d0887"
            ],
            [
             0.1111111111111111,
             "#46039f"
            ],
            [
             0.2222222222222222,
             "#7201a8"
            ],
            [
             0.3333333333333333,
             "#9c179e"
            ],
            [
             0.4444444444444444,
             "#bd3786"
            ],
            [
             0.5555555555555556,
             "#d8576b"
            ],
            [
             0.6666666666666666,
             "#ed7953"
            ],
            [
             0.7777777777777778,
             "#fb9f3a"
            ],
            [
             0.8888888888888888,
             "#fdca26"
            ],
            [
             1,
             "#f0f921"
            ]
           ],
           "sequentialminus": [
            [
             0,
             "#0d0887"
            ],
            [
             0.1111111111111111,
             "#46039f"
            ],
            [
             0.2222222222222222,
             "#7201a8"
            ],
            [
             0.3333333333333333,
             "#9c179e"
            ],
            [
             0.4444444444444444,
             "#bd3786"
            ],
            [
             0.5555555555555556,
             "#d8576b"
            ],
            [
             0.6666666666666666,
             "#ed7953"
            ],
            [
             0.7777777777777778,
             "#fb9f3a"
            ],
            [
             0.8888888888888888,
             "#fdca26"
            ],
            [
             1,
             "#f0f921"
            ]
           ]
          },
          "colorway": [
           "#636efa",
           "#EF553B",
           "#00cc96",
           "#ab63fa",
           "#FFA15A",
           "#19d3f3",
           "#FF6692",
           "#B6E880",
           "#FF97FF",
           "#FECB52"
          ],
          "font": {
           "color": "#2a3f5f"
          },
          "geo": {
           "bgcolor": "white",
           "lakecolor": "white",
           "landcolor": "#E5ECF6",
           "showlakes": true,
           "showland": true,
           "subunitcolor": "white"
          },
          "hoverlabel": {
           "align": "left"
          },
          "hovermode": "closest",
          "mapbox": {
           "style": "light"
          },
          "paper_bgcolor": "white",
          "plot_bgcolor": "#E5ECF6",
          "polar": {
           "angularaxis": {
            "gridcolor": "white",
            "linecolor": "white",
            "ticks": ""
           },
           "bgcolor": "#E5ECF6",
           "radialaxis": {
            "gridcolor": "white",
            "linecolor": "white",
            "ticks": ""
           }
          },
          "scene": {
           "xaxis": {
            "backgroundcolor": "#E5ECF6",
            "gridcolor": "white",
            "gridwidth": 2,
            "linecolor": "white",
            "showbackground": true,
            "ticks": "",
            "zerolinecolor": "white"
           },
           "yaxis": {
            "backgroundcolor": "#E5ECF6",
            "gridcolor": "white",
            "gridwidth": 2,
            "linecolor": "white",
            "showbackground": true,
            "ticks": "",
            "zerolinecolor": "white"
           },
           "zaxis": {
            "backgroundcolor": "#E5ECF6",
            "gridcolor": "white",
            "gridwidth": 2,
            "linecolor": "white",
            "showbackground": true,
            "ticks": "",
            "zerolinecolor": "white"
           }
          },
          "shapedefaults": {
           "line": {
            "color": "#2a3f5f"
           }
          },
          "ternary": {
           "aaxis": {
            "gridcolor": "white",
            "linecolor": "white",
            "ticks": ""
           },
           "baxis": {
            "gridcolor": "white",
            "linecolor": "white",
            "ticks": ""
           },
           "bgcolor": "#E5ECF6",
           "caxis": {
            "gridcolor": "white",
            "linecolor": "white",
            "ticks": ""
           }
          },
          "title": {
           "x": 0.05
          },
          "xaxis": {
           "automargin": true,
           "gridcolor": "white",
           "linecolor": "white",
           "ticks": "",
           "title": {
            "standoff": 15
           },
           "zerolinecolor": "white",
           "zerolinewidth": 2
          },
          "yaxis": {
           "automargin": true,
           "gridcolor": "white",
           "linecolor": "white",
           "ticks": "",
           "title": {
            "standoff": 15
           },
           "zerolinecolor": "white",
           "zerolinewidth": 2
          }
         }
        },
        "width": 1020
       }
      }
     },
     "metadata": {},
     "output_type": "display_data"
    }
   ],
   "source": [
    "# Create a list of all country based on its ISO code\n",
    "ISO = ['AT', 'BE', 'BG', 'CY', 'CZ', 'DE', 'DK', 'EE', 'EL', 'ES', 'FI', 'FR', 'HR', 'HU', 'IE', 'IS', 'IT', \n",
    "        'LI', 'LT', 'LU', 'LV', 'MT', 'NL', 'NO', 'PL', 'PT', 'RO', 'SE', 'SI', 'SK']\n",
    "\n",
    "# Create a list of total vacccination of each country (sum of all the type of vaccine for all the 2021)\n",
    "totalVaccine_table = data_covid19_ecdc_2021.groupby(['ReportingCountry'], as_index=False)['TotDoses'].sum()\n",
    "totalVaccine_table.drop(['ReportingCountry'], axis=1, inplace=True)\n",
    "totalVaccine_table = totalVaccine_table.TotDoses.tolist()\n",
    "\n",
    "# Not all the country has all the type of vaccine. Next this issue is solved.\n",
    "data_covid19_ecdc_2021_bazinga = (data_covid19_ecdc_2021.set_index(['ReportingCountry','Vaccine'])['TotDoses']\n",
    "        .unstack(fill_value=0)\n",
    "        .stack()\n",
    "        .reset_index(name='TotDoses'))\n",
    "\n",
    "# Palette to generate table\n",
    "palette_table = ['#eae3db','#f2f2f2','#F4F4F8', '#393B45', '#dac9c1']\n",
    "\n",
    "# _____________________________________CREATE TABLE ____________________________________________________________________________________________________________________________________________________\n",
    "\n",
    "overallVaccine_Table_2021 = go.Figure(data=[go.Table( columnwidth = [15,20,20, 20,20,20,20,20],\n",
    "                                header=dict(values=['<b>Country</b>', '<b>Total Vaccine</b>','<b>Johnson & Johnson</b>', '<b>AstraZeneca</b>', '<b>Comirnaty Pfizer</b>' , '<b>Moderna</b>', '<b>Inactivated </b>', '<b>Sputnik</b>'], \n",
    "                                # Appereance\n",
    "                                        line_color='white',\n",
    "                                        fill=dict(color=[palette_table[3]]),\n",
    "                                        align=['center', 'center', 'center', 'center', 'center','center', 'center', 'center'],\n",
    "                                        font=dict(color=palette_table[2], size=15),\n",
    "                                        height=30 \n",
    "                                ),\n",
    "                                cells=dict(values=[\n",
    "                                                    [iso for iso in ISO],\n",
    "                                                    [value for value in totalVaccine_table],                                    \n",
    "                                                    [value for value in data_covid19_ecdc_2021_bazinga[data_covid19_ecdc_2021_bazinga['Vaccine']=='JANSS']['TotDoses']],\n",
    "                                                    [value for value in data_covid19_ecdc_2021_bazinga[data_covid19_ecdc_2021_bazinga['Vaccine']=='AZ']['TotDoses']],\n",
    "                                                    [value for value in data_covid19_ecdc_2021_bazinga[data_covid19_ecdc_2021_bazinga['Vaccine']=='COM']['TotDoses']],\n",
    "                                                    [value for value in data_covid19_ecdc_2021_bazinga[data_covid19_ecdc_2021_bazinga['Vaccine']=='MOD']['TotDoses']],\n",
    "                                                    [value for value in data_covid19_ecdc_2021_bazinga[data_covid19_ecdc_2021_bazinga['Vaccine']=='BECNBG']['TotDoses']],\n",
    "                                                    [value for value in data_covid19_ecdc_2021_bazinga[data_covid19_ecdc_2021_bazinga['Vaccine']=='SPU']['TotDoses']]], \n",
    "                                        # Appereance\n",
    "                                                line_color='white',\n",
    "                                                fill=dict(color=[palette_table[2], palette_table[2], palette_table[2], palette_table[2], palette_table[2], palette_table[2], palette_table[2], palette_table[2]]),\n",
    "                                                align=['center', 'center', 'center', 'center', 'center','center', 'center', 'center'],\n",
    "                                                font=dict(color=palette_table[3], size=11),\n",
    "                                                height=30                               \n",
    "                                            )                                                  \n",
    "                                )\n",
    "                     ])\n",
    "\n",
    "overallVaccine_Table_2021.update_layout(height=1220, width=1020)\n",
    "\n",
    "# ________________________________________________________________________________________________________________________________________________________________________________________\n",
    "\n",
    "#Storing the table for Dashboard\n",
    "#%store overallVaccine_Table_2021\n"
   ]
  },
  {
   "cell_type": "code",
   "execution_count": 17,
   "metadata": {},
   "outputs": [],
   "source": [
    "\n",
    "tot =  [value for value in totalVaccine_table]\n",
    "janss =  [value for value in data_covid19_ecdc_2021_bazinga[data_covid19_ecdc_2021_bazinga['Vaccine']=='JANSS']['TotDoses']]\n",
    "az = [value for value in data_covid19_ecdc_2021_bazinga[data_covid19_ecdc_2021_bazinga['Vaccine']=='AZ']['TotDoses']]\n",
    "com = [value for value in data_covid19_ecdc_2021_bazinga[data_covid19_ecdc_2021_bazinga['Vaccine']=='COM']['TotDoses']]\n",
    "mod = [value for value in data_covid19_ecdc_2021_bazinga[data_covid19_ecdc_2021_bazinga['Vaccine']=='MOD']['TotDoses']]\n",
    "becnbg = [value for value in data_covid19_ecdc_2021_bazinga[data_covid19_ecdc_2021_bazinga['Vaccine']=='BECNBG']['TotDoses']]\n",
    "spu = [value for value in data_covid19_ecdc_2021_bazinga[data_covid19_ecdc_2021_bazinga['Vaccine']=='SPU']['TotDoses']]\n"
   ]
  },
  {
   "cell_type": "code",
   "execution_count": 33,
   "metadata": {},
   "outputs": [
    {
     "name": "stdout",
     "output_type": "stream",
     "text": [
      "[]\n"
     ]
    }
   ],
   "source": [
    "janssPercs = [] \n",
    "for tots in tot:\n",
    "    for vaccine in janss:\n",
    "        #print(vaccine/tots)\n",
    "         janssPercs.append(str(round(vaccine/tots*100,2))+'%')\n",
    "\n",
    "azPercs = [] \n",
    "for tots in tot:\n",
    "    for vaccine in az:\n",
    "        #print(vaccine/tots)\n",
    "         azPercs.append(str(round(vaccine/tots*100,2))+'%')\n",
    "\n",
    "comPercs = [] \n",
    "for tots in tot:\n",
    "    for vaccine in com:\n",
    "        #print(vaccine/tots)\n",
    "         comPercs.append(str(round(vaccine/tots*100,2))+'%')\n",
    "\n",
    "modPercs = [] \n",
    "for tots in tot:\n",
    "    for vaccine in mod:\n",
    "        #print(vaccine/tots)\n",
    "         modPercs.append(str(round(vaccine/tots*100,2))+'%')\n",
    "\n",
    "becnbg = [] \n",
    "for tots in tot:\n",
    "    for vaccine in becnbg:\n",
    "        #print(vaccine/tots)\n",
    "         becnbg.append(str(round(vaccine/tots*100,2))+'%')\n",
    "\n",
    "spuPerc = [] \n",
    "for tots in tot:\n",
    "    for vaccine in spu:\n",
    "        #print(vaccine/tots)\n",
    "         spuPerc.append(str(round(vaccine/tots*100,2))+'%')"
   ]
  },
  {
   "cell_type": "code",
   "execution_count": 30,
   "metadata": {},
   "outputs": [
    {
     "data": {
      "application/vnd.plotly.v1+json": {
       "config": {
        "plotlyServerURL": "https://plot.ly"
       },
       "data": [
        {
         "cells": {
          "align": [
           "center",
           "center",
           "center",
           "center",
           "center",
           "center",
           "center",
           "center"
          ],
          "fill": {
           "color": [
            "#F4F4F8",
            "#F4F4F8",
            "#F4F4F8",
            "#F4F4F8",
            "#F4F4F8",
            "#F4F4F8",
            "#F4F4F8",
            "#F4F4F8"
           ]
          },
          "font": {
           "color": "#393B45",
           "size": 11
          },
          "height": 30,
          "line": {
           "color": "white"
          },
          "values": [
           [
            "AT",
            "BE",
            "BG",
            "CY",
            "CZ",
            "DE",
            "DK",
            "EE",
            "EL",
            "ES",
            "FI",
            "FR",
            "HR",
            "HU",
            "IE",
            "IS",
            "IT",
            "LI",
            "LT",
            "LU",
            "LV",
            "MT",
            "NL",
            "NO",
            "PL",
            "PT",
            "RO",
            "SE",
            "SI",
            "SK"
           ],
           [
            "2.27%",
            "2.65%",
            "2.98%",
            "0.17%",
            "2.59%",
            "22.9%",
            "0.3%",
            "0.48%",
            "4.25%",
            "12.67%",
            "0.0%",
            "6.79%",
            "1.21%",
            "1.96%",
            "1.52%",
            "0.35%",
            "9.46%",
            "0.0%",
            "1.8%",
            "0.26%",
            "1.68%",
            "0.2%",
            "5.55%",
            "0.04%",
            "16.17%",
            "7.23%",
            "12.41%",
            "0.0%",
            "0.87%",
            "1.07%",
            "1.75%",
            "2.04%",
            "2.3%",
            "0.13%",
            "2.0%",
            "17.67%",
            "0.23%",
            "0.37%",
            "3.28%",
            "9.78%",
            "0.0%",
            "5.24%",
            "0.93%",
            "1.51%",
            "1.17%",
            "0.27%",
            "7.29%",
            "0.0%",
            "1.39%",
            "0.2%",
            "1.3%",
            "0.16%",
            "4.28%",
            "0.03%",
            "12.47%",
            "5.57%",
            "9.57%",
            "0.0%",
            "0.67%",
            "0.82%",
            "9.69%",
            "11.31%",
            "12.72%",
            "0.72%",
            "11.07%",
            "97.82%",
            "1.28%",
            "2.04%",
            "18.14%",
            "54.12%",
            "0.0%",
            "29.01%",
            "5.15%",
            "8.37%",
            "6.49%",
            "1.48%",
            "40.38%",
            "0.01%",
            "7.69%",
            "1.12%",
            "7.19%",
            "0.87%",
            "23.69%",
            "0.17%",
            "69.05%",
            "30.86%",
            "53.0%",
            "0.0%",
            "3.72%",
            "4.56%",
            "23.82%",
            "27.79%",
            "31.26%",
            "1.77%",
            "27.21%",
            "240.36%",
            "3.15%",
            "5.01%",
            "44.57%",
            "132.99%",
            "0.0%",
            "71.29%",
            "12.66%",
            "20.57%",
            "15.95%",
            "3.64%",
            "99.22%",
            "0.01%",
            "18.9%",
            "2.75%",
            "17.66%",
            "2.13%",
            "58.2%",
            "0.43%",
            "169.68%",
            "75.82%",
            "130.23%",
            "0.0%",
            "9.15%",
            "11.2%",
            "2.4%",
            "2.8%",
            "3.15%",
            "0.18%",
            "2.74%",
            "24.2%",
            "0.32%",
            "0.5%",
            "4.49%",
            "13.39%",
            "0.0%",
            "7.18%",
            "1.27%",
            "2.07%",
            "1.61%",
            "0.37%",
            "9.99%",
            "0.0%",
            "1.9%",
            "0.28%",
            "1.78%",
            "0.21%",
            "5.86%",
            "0.04%",
            "17.08%",
            "7.63%",
            "13.11%",
            "0.0%",
            "0.92%",
            "1.13%",
            "0.24%",
            "0.28%",
            "0.31%",
            "0.02%",
            "0.27%",
            "2.39%",
            "0.03%",
            "0.05%",
            "0.44%",
            "1.32%",
            "0.0%",
            "0.71%",
            "0.13%",
            "0.2%",
            "0.16%",
            "0.04%",
            "0.99%",
            "0.0%",
            "0.19%",
            "0.03%",
            "0.18%",
            "0.02%",
            "0.58%",
            "0.0%",
            "1.69%",
            "0.75%",
            "1.3%",
            "0.0%",
            "0.09%",
            "0.11%",
            "3.15%",
            "3.68%",
            "4.14%",
            "0.23%",
            "3.6%",
            "31.8%",
            "0.42%",
            "0.66%",
            "5.9%",
            "17.59%",
            "0.0%",
            "9.43%",
            "1.67%",
            "2.72%",
            "2.11%",
            "0.48%",
            "13.13%",
            "0.0%",
            "2.5%",
            "0.36%",
            "2.34%",
            "0.28%",
            "7.7%",
            "0.06%",
            "22.45%",
            "10.03%",
            "17.23%",
            "0.0%",
            "1.21%",
            "1.48%",
            "20.22%",
            "23.6%",
            "26.55%",
            "1.5%",
            "23.11%",
            "204.08%",
            "2.67%",
            "4.26%",
            "37.85%",
            "112.92%",
            "0.0%",
            "60.53%",
            "10.75%",
            "17.46%",
            "13.54%",
            "3.09%",
            "84.25%",
            "0.01%",
            "16.04%",
            "2.33%",
            "14.99%",
            "1.81%",
            "49.42%",
            "0.37%",
            "144.07%",
            "64.38%",
            "110.57%",
            "0.0%",
            "7.77%",
            "9.51%",
            "2.09%",
            "2.44%",
            "2.74%",
            "0.16%",
            "2.39%",
            "21.08%",
            "0.28%",
            "0.44%",
            "3.91%",
            "11.66%",
            "0.0%",
            "6.25%",
            "1.11%",
            "1.8%",
            "1.4%",
            "0.32%",
            "8.7%",
            "0.0%",
            "1.66%",
            "0.24%",
            "1.55%",
            "0.19%",
            "5.1%",
            "0.04%",
            "14.88%",
            "6.65%",
            "11.42%",
            "0.0%",
            "0.8%",
            "0.98%",
            "0.48%",
            "0.56%",
            "0.63%",
            "0.04%",
            "0.55%",
            "4.86%",
            "0.06%",
            "0.1%",
            "0.9%",
            "2.69%",
            "0.0%",
            "1.44%",
            "0.26%",
            "0.42%",
            "0.32%",
            "0.07%",
            "2.01%",
            "0.0%",
            "0.38%",
            "0.06%",
            "0.36%",
            "0.04%",
            "1.18%",
            "0.01%",
            "3.43%",
            "1.53%",
            "2.63%",
            "0.0%",
            "0.19%",
            "0.23%",
            "3.89%",
            "4.53%",
            "5.1%",
            "0.29%",
            "4.44%",
            "39.21%",
            "0.51%",
            "0.82%",
            "7.27%",
            "21.69%",
            "0.0%",
            "11.63%",
            "2.06%",
            "3.36%",
            "2.6%",
            "0.59%",
            "16.19%",
            "0.0%",
            "3.08%",
            "0.45%",
            "2.88%",
            "0.35%",
            "9.5%",
            "0.07%",
            "27.68%",
            "12.37%",
            "21.24%",
            "0.0%",
            "1.49%",
            "1.83%",
            "0.3%",
            "0.35%",
            "0.39%",
            "0.02%",
            "0.34%",
            "3.02%",
            "0.04%",
            "0.06%",
            "0.56%",
            "1.67%",
            "0.0%",
            "0.9%",
            "0.16%",
            "0.26%",
            "0.2%",
            "0.05%",
            "1.25%",
            "0.0%",
            "0.24%",
            "0.03%",
            "0.22%",
            "0.03%",
            "0.73%",
            "0.01%",
            "2.13%",
            "0.95%",
            "1.64%",
            "0.0%",
            "0.12%",
            "0.14%",
            "7.59%",
            "8.86%",
            "9.96%",
            "0.56%",
            "8.67%",
            "76.6%",
            "1.0%",
            "1.6%",
            "14.21%",
            "42.38%",
            "0.0%",
            "22.72%",
            "4.03%",
            "6.55%",
            "5.08%",
            "1.16%",
            "31.62%",
            "0.0%",
            "6.02%",
            "0.88%",
            "5.63%",
            "0.68%",
            "18.55%",
            "0.14%",
            "54.08%",
            "24.17%",
            "41.5%",
            "0.0%",
            "2.92%",
            "3.57%",
            "2.47%",
            "2.88%",
            "3.24%",
            "0.18%",
            "2.82%",
            "24.9%",
            "0.33%",
            "0.52%",
            "4.62%",
            "13.78%",
            "0.0%",
            "7.39%",
            "1.31%",
            "2.13%",
            "1.65%",
            "0.38%",
            "10.28%",
            "0.0%",
            "1.96%",
            "0.28%",
            "1.83%",
            "0.22%",
            "6.03%",
            "0.04%",
            "17.58%",
            "7.86%",
            "13.49%",
            "0.0%",
            "0.95%",
            "1.16%",
            "3.9%",
            "4.55%",
            "5.12%",
            "0.29%",
            "4.46%",
            "39.39%",
            "0.52%",
            "0.82%",
            "7.3%",
            "21.8%",
            "0.0%",
            "11.68%",
            "2.07%",
            "3.37%",
            "2.61%",
            "0.6%",
            "16.26%",
            "0.0%",
            "3.1%",
            "0.45%",
            "2.89%",
            "0.35%",
            "9.54%",
            "0.07%",
            "27.81%",
            "12.43%",
            "21.34%",
            "0.0%",
            "1.5%",
            "1.84%",
            "53.7%",
            "62.66%",
            "70.49%",
            "3.99%",
            "61.35%",
            "541.92%",
            "7.1%",
            "11.31%",
            "100.49%",
            "299.84%",
            "0.0%",
            "160.74%",
            "28.54%",
            "46.37%",
            "35.97%",
            "8.2%",
            "223.71%",
            "0.03%",
            "42.6%",
            "6.2%",
            "39.81%",
            "4.81%",
            "131.23%",
            "0.97%",
            "382.56%",
            "170.95%",
            "293.61%",
            "0.0%",
            "20.64%",
            "25.26%",
            "0.34%",
            "0.4%",
            "0.45%",
            "0.03%",
            "0.39%",
            "3.42%",
            "0.04%",
            "0.07%",
            "0.64%",
            "1.89%",
            "0.0%",
            "1.02%",
            "0.18%",
            "0.29%",
            "0.23%",
            "0.05%",
            "1.41%",
            "0.0%",
            "0.27%",
            "0.04%",
            "0.25%",
            "0.03%",
            "0.83%",
            "0.01%",
            "2.42%",
            "1.08%",
            "1.86%",
            "0.0%",
            "0.13%",
            "0.16%",
            "585.45%",
            "683.05%",
            "768.41%",
            "43.45%",
            "668.85%",
            "5907.56%",
            "77.35%",
            "123.24%",
            "1095.51%",
            "3268.61%",
            "0.0%",
            "1752.26%",
            "311.09%",
            "505.49%",
            "392.07%",
            "89.39%",
            "2438.73%",
            "0.35%",
            "464.44%",
            "67.56%",
            "433.96%",
            "52.43%",
            "1430.56%",
            "10.57%",
            "4170.43%",
            "1863.61%",
            "3200.72%",
            "0.0%",
            "224.95%",
            "275.38%",
            "8.96%",
            "10.45%",
            "11.76%",
            "0.66%",
            "10.24%",
            "90.41%",
            "1.18%",
            "1.89%",
            "16.77%",
            "50.02%",
            "0.0%",
            "26.82%",
            "4.76%",
            "7.74%",
            "6.0%",
            "1.37%",
            "37.32%",
            "0.01%",
            "7.11%",
            "1.03%",
            "6.64%",
            "0.8%",
            "21.89%",
            "0.16%",
            "63.82%",
            "28.52%",
            "48.98%",
            "0.0%",
            "3.44%",
            "4.21%",
            "36.11%",
            "42.13%",
            "47.4%",
            "2.68%",
            "41.25%",
            "364.38%",
            "4.77%",
            "7.6%",
            "67.57%",
            "201.61%",
            "0.0%",
            "108.08%",
            "19.19%",
            "31.18%",
            "24.18%",
            "5.51%",
            "150.42%",
            "0.02%",
            "28.65%",
            "4.17%",
            "26.77%",
            "3.23%",
            "88.24%",
            "0.65%",
            "257.23%",
            "114.95%",
            "197.42%",
            "0.0%",
            "13.87%",
            "16.99%",
            "15.25%",
            "17.79%",
            "20.02%",
            "1.13%",
            "17.42%",
            "153.88%",
            "2.01%",
            "3.21%",
            "28.54%",
            "85.14%",
            "0.0%",
            "45.64%",
            "8.1%",
            "13.17%",
            "10.21%",
            "2.33%",
            "63.52%",
            "0.01%",
            "12.1%",
            "1.76%",
            "11.3%",
            "1.37%",
            "37.26%",
            "0.28%",
            "108.63%",
            "48.54%",
            "83.37%",
            "0.0%",
            "5.86%",
            "7.17%",
            "35.33%",
            "41.22%",
            "46.37%",
            "2.62%",
            "40.36%",
            "356.49%",
            "4.67%",
            "7.44%",
            "66.11%",
            "197.24%",
            "0.0%",
            "105.74%",
            "18.77%",
            "30.5%",
            "23.66%",
            "5.39%",
            "147.16%",
            "0.02%",
            "28.03%",
            "4.08%",
            "26.19%",
            "3.16%",
            "86.33%",
            "0.64%",
            "251.66%",
            "112.46%",
            "193.14%",
            "0.0%",
            "13.57%",
            "16.62%",
            "1.27%",
            "1.48%",
            "1.67%",
            "0.09%",
            "1.45%",
            "12.8%",
            "0.17%",
            "0.27%",
            "2.37%",
            "7.08%",
            "0.0%",
            "3.8%",
            "0.67%",
            "1.1%",
            "0.85%",
            "0.19%",
            "5.29%",
            "0.0%",
            "1.01%",
            "0.15%",
            "0.94%",
            "0.11%",
            "3.1%",
            "0.02%",
            "9.04%",
            "4.04%",
            "6.94%",
            "0.0%",
            "0.49%",
            "0.6%",
            "3.8%",
            "4.44%",
            "4.99%",
            "0.28%",
            "4.35%",
            "38.39%",
            "0.5%",
            "0.8%",
            "7.12%",
            "21.24%",
            "0.0%",
            "11.39%",
            "2.02%",
            "3.28%",
            "2.55%",
            "0.58%",
            "15.85%",
            "0.0%",
            "3.02%",
            "0.44%",
            "2.82%",
            "0.34%",
            "9.3%",
            "0.07%",
            "27.1%",
            "12.11%",
            "20.8%",
            "0.0%",
            "1.46%",
            "1.79%",
            "0.79%",
            "0.93%",
            "1.04%",
            "0.06%",
            "0.91%",
            "8.01%",
            "0.1%",
            "0.17%",
            "1.49%",
            "4.43%",
            "0.0%",
            "2.38%",
            "0.42%",
            "0.69%",
            "0.53%",
            "0.12%",
            "3.31%",
            "0.0%",
            "0.63%",
            "0.09%",
            "0.59%",
            "0.07%",
            "1.94%",
            "0.01%",
            "5.66%",
            "2.53%",
            "4.34%",
            "0.0%",
            "0.31%",
            "0.37%",
            "1.91%",
            "2.23%",
            "2.51%",
            "0.14%",
            "2.19%",
            "19.31%",
            "0.25%",
            "0.4%",
            "3.58%",
            "10.68%",
            "0.0%",
            "5.73%",
            "1.02%",
            "1.65%",
            "1.28%",
            "0.29%",
            "7.97%",
            "0.0%",
            "1.52%",
            "0.22%",
            "1.42%",
            "0.17%",
            "4.68%",
            "0.03%",
            "13.63%",
            "6.09%",
            "10.46%",
            "0.0%",
            "0.74%",
            "0.9%",
            "2.44%",
            "2.85%",
            "3.2%",
            "0.18%",
            "2.79%",
            "24.61%",
            "0.32%",
            "0.51%",
            "4.56%",
            "13.61%",
            "0.0%",
            "7.3%",
            "1.3%",
            "2.11%",
            "1.63%",
            "0.37%",
            "10.16%",
            "0.0%",
            "1.93%",
            "0.28%",
            "1.81%",
            "0.22%",
            "5.96%",
            "0.04%",
            "17.37%",
            "7.76%",
            "13.33%",
            "0.0%",
            "0.94%",
            "1.15%",
            "2.13%",
            "2.49%",
            "2.8%",
            "0.16%",
            "2.44%",
            "21.54%",
            "0.28%",
            "0.45%",
            "3.99%",
            "11.92%",
            "0.0%",
            "6.39%",
            "1.13%",
            "1.84%",
            "1.43%",
            "0.33%",
            "8.89%",
            "0.0%",
            "1.69%",
            "0.25%",
            "1.58%",
            "0.19%",
            "5.22%",
            "0.04%",
            "15.21%",
            "6.8%",
            "11.67%",
            "0.0%",
            "0.82%",
            "1.0%",
            "13.27%",
            "15.48%",
            "17.41%",
            "0.98%",
            "15.16%",
            "133.88%",
            "1.75%",
            "2.79%",
            "24.83%",
            "74.07%",
            "0.0%",
            "39.71%",
            "7.05%",
            "11.46%",
            "8.89%",
            "2.03%",
            "55.27%",
            "0.01%",
            "10.53%",
            "1.53%",
            "9.83%",
            "1.19%",
            "32.42%",
            "0.24%",
            "94.51%",
            "42.23%",
            "72.54%",
            "0.0%",
            "5.1%",
            "6.24%",
            "5.89%",
            "6.88%",
            "7.74%",
            "0.44%",
            "6.73%",
            "59.48%",
            "0.78%",
            "1.24%",
            "11.03%",
            "32.91%",
            "0.0%",
            "17.64%",
            "3.13%",
            "5.09%",
            "3.95%",
            "0.9%",
            "24.55%",
            "0.0%",
            "4.68%",
            "0.68%",
            "4.37%",
            "0.53%",
            "14.4%",
            "0.11%",
            "41.99%",
            "18.76%",
            "32.22%",
            "0.0%",
            "2.26%",
            "2.77%"
           ],
           [
            "10.12%",
            "18.18%",
            "3.06%",
            "1.63%",
            "5.66%",
            "81.51%",
            "0.99%",
            "1.5%",
            "9.91%",
            "62.65%",
            "3.54%",
            "50.07%",
            "3.62%",
            "8.01%",
            "7.66%",
            "0.74%",
            "76.6%",
            "0.0%",
            "3.43%",
            "0.67%",
            "1.66%",
            "1.45%",
            "17.92%",
            "0.94%",
            "33.83%",
            "14.28%",
            "5.45%",
            "8.54%",
            "2.09%",
            "5.39%",
            "7.81%",
            "14.03%",
            "2.36%",
            "1.26%",
            "4.37%",
            "62.88%",
            "0.76%",
            "1.16%",
            "7.64%",
            "48.33%",
            "2.73%",
            "38.63%",
            "2.79%",
            "6.18%",
            "5.91%",
            "0.57%",
            "59.09%",
            "0.0%",
            "2.65%",
            "0.52%",
            "1.28%",
            "1.12%",
            "13.82%",
            "0.72%",
            "26.1%",
            "11.01%",
            "4.21%",
            "6.59%",
            "1.61%",
            "4.16%",
            "43.24%",
            "77.66%",
            "13.07%",
            "6.95%",
            "24.19%",
            "348.11%",
            "4.23%",
            "6.41%",
            "42.31%",
            "267.57%",
            "15.13%",
            "213.84%",
            "15.46%",
            "34.19%",
            "32.72%",
            "3.15%",
            "327.13%",
            "0.0%",
            "14.65%",
            "2.88%",
            "7.09%",
            "6.21%",
            "76.51%",
            "4.01%",
            "144.47%",
            "60.96%",
            "23.28%",
            "36.47%",
            "8.93%",
            "23.0%",
            "106.25%",
            "190.82%",
            "32.12%",
            "17.08%",
            "59.44%",
            "855.4%",
            "10.4%",
            "15.74%",
            "103.98%",
            "657.48%",
            "37.18%",
            "525.47%",
            "38.0%",
            "84.02%",
            "80.39%",
            "7.75%",
            "803.84%",
            "0.0%",
            "36.0%",
            "7.07%",
            "17.43%",
            "15.26%",
            "188.01%",
            "9.84%",
            "355.0%",
            "149.8%",
            "57.21%",
            "89.61%",
            "21.95%",
            "56.53%",
            "10.7%",
            "19.21%",
            "3.23%",
            "1.72%",
            "5.98%",
            "86.11%",
            "1.05%",
            "1.58%",
            "10.47%",
            "66.19%",
            "3.74%",
            "52.9%",
            "3.83%",
            "8.46%",
            "8.09%",
            "0.78%",
            "80.92%",
            "0.0%",
            "3.62%",
            "0.71%",
            "1.75%",
            "1.54%",
            "18.93%",
            "0.99%",
            "35.74%",
            "15.08%",
            "5.76%",
            "9.02%",
            "2.21%",
            "5.69%",
            "1.06%",
            "1.9%",
            "0.32%",
            "0.17%",
            "0.59%",
            "8.51%",
            "0.1%",
            "0.16%",
            "1.03%",
            "6.54%",
            "0.37%",
            "5.23%",
            "0.38%",
            "0.84%",
            "0.8%",
            "0.08%",
            "7.99%",
            "0.0%",
            "0.36%",
            "0.07%",
            "0.17%",
            "0.15%",
            "1.87%",
            "0.1%",
            "3.53%",
            "1.49%",
            "0.57%",
            "0.89%",
            "0.22%",
            "0.56%",
            "14.06%",
            "25.24%",
            "4.25%",
            "2.26%",
            "7.86%",
            "113.16%",
            "1.38%",
            "2.08%",
            "13.76%",
            "86.98%",
            "4.92%",
            "69.52%",
            "5.03%",
            "11.11%",
            "10.64%",
            "1.03%",
            "106.34%",
            "0.0%",
            "4.76%",
            "0.93%",
            "2.31%",
            "2.02%",
            "24.87%",
            "1.3%",
            "46.96%",
            "19.82%",
            "7.57%",
            "11.85%",
            "2.9%",
            "7.48%",
            "90.21%",
            "162.02%",
            "27.27%",
            "14.5%",
            "50.47%",
            "726.3%",
            "8.83%",
            "13.37%",
            "88.28%",
            "558.25%",
            "31.57%",
            "446.16%",
            "32.26%",
            "71.34%",
            "68.26%",
            "6.58%",
            "682.52%",
            "0.0%",
            "30.56%",
            "6.0%",
            "14.8%",
            "12.96%",
            "159.63%",
            "8.36%",
            "301.42%",
            "127.19%",
            "48.57%",
            "76.08%",
            "18.64%",
            "48.0%",
            "9.32%",
            "16.74%",
            "2.82%",
            "1.5%",
            "5.21%",
            "75.02%",
            "0.91%",
            "1.38%",
            "9.12%",
            "57.66%",
            "3.26%",
            "46.09%",
            "3.33%",
            "7.37%",
            "7.05%",
            "0.68%",
            "70.5%",
            "0.0%",
            "3.16%",
            "0.62%",
            "1.53%",
            "1.34%",
            "16.49%",
            "0.86%",
            "31.14%",
            "13.14%",
            "5.02%",
            "7.86%",
            "1.93%",
            "4.96%",
            "2.15%",
            "3.86%",
            "0.65%",
            "0.35%",
            "1.2%",
            "17.3%",
            "0.21%",
            "0.32%",
            "2.1%",
            "13.3%",
            "0.75%",
            "10.63%",
            "0.77%",
            "1.7%",
            "1.63%",
            "0.16%",
            "16.26%",
            "0.0%",
            "0.73%",
            "0.14%",
            "0.35%",
            "0.31%",
            "3.8%",
            "0.2%",
            "7.18%",
            "3.03%",
            "1.16%",
            "1.81%",
            "0.44%",
            "1.14%",
            "17.33%",
            "31.13%",
            "5.24%",
            "2.79%",
            "9.7%",
            "139.55%",
            "1.7%",
            "2.57%",
            "16.96%",
            "107.26%",
            "6.06%",
            "85.72%",
            "6.2%",
            "13.71%",
            "13.12%",
            "1.26%",
            "131.13%",
            "0.0%",
            "5.87%",
            "1.15%",
            "2.84%",
            "2.49%",
            "30.67%",
            "1.61%",
            "57.91%",
            "24.44%",
            "9.33%",
            "14.62%",
            "3.58%",
            "9.22%",
            "1.34%",
            "2.4%",
            "0.4%",
            "0.21%",
            "0.75%",
            "10.75%",
            "0.13%",
            "0.2%",
            "1.31%",
            "8.26%",
            "0.47%",
            "6.6%",
            "0.48%",
            "1.06%",
            "1.01%",
            "0.1%",
            "10.1%",
            "0.0%",
            "0.45%",
            "0.09%",
            "0.22%",
            "0.19%",
            "2.36%",
            "0.12%",
            "4.46%",
            "1.88%",
            "0.72%",
            "1.13%",
            "0.28%",
            "0.71%",
            "33.86%",
            "60.82%",
            "10.24%",
            "5.44%",
            "18.94%",
            "272.62%",
            "3.32%",
            "5.02%",
            "33.14%",
            "209.54%",
            "11.85%",
            "167.47%",
            "12.11%",
            "26.78%",
            "25.62%",
            "2.47%",
            "256.19%",
            "0.0%",
            "11.47%",
            "2.25%",
            "5.56%",
            "4.86%",
            "59.92%",
            "3.14%",
            "113.14%",
            "47.74%",
            "18.23%",
            "28.56%",
            "7.0%",
            "18.02%",
            "11.01%",
            "19.77%",
            "3.33%",
            "1.77%",
            "6.16%",
            "88.63%",
            "1.08%",
            "1.63%",
            "10.77%",
            "68.13%",
            "3.85%",
            "54.45%",
            "3.94%",
            "8.71%",
            "8.33%",
            "0.8%",
            "83.29%",
            "0.0%",
            "3.73%",
            "0.73%",
            "1.81%",
            "1.58%",
            "19.48%",
            "1.02%",
            "36.78%",
            "15.52%",
            "5.93%",
            "9.28%",
            "2.27%",
            "5.86%",
            "17.41%",
            "31.27%",
            "5.26%",
            "2.8%",
            "9.74%",
            "140.19%",
            "1.7%",
            "2.58%",
            "17.04%",
            "107.76%",
            "6.09%",
            "86.12%",
            "6.23%",
            "13.77%",
            "13.18%",
            "1.27%",
            "131.74%",
            "0.0%",
            "5.9%",
            "1.16%",
            "2.86%",
            "2.5%",
            "30.81%",
            "1.61%",
            "58.18%",
            "24.55%",
            "9.38%",
            "14.69%",
            "3.6%",
            "9.26%",
            "239.55%",
            "430.23%",
            "72.41%",
            "38.52%",
            "134.02%",
            "1928.61%",
            "23.45%",
            "35.5%",
            "234.43%",
            "1482.38%",
            "83.82%",
            "1184.73%",
            "85.67%",
            "189.43%",
            "181.26%",
            "17.48%",
            "1812.35%",
            "0.0%",
            "81.16%",
            "15.93%",
            "39.3%",
            "34.42%",
            "423.88%",
            "22.2%",
            "800.4%",
            "337.75%",
            "128.98%",
            "202.04%",
            "49.49%",
            "127.45%",
            "1.51%",
            "2.72%",
            "0.46%",
            "0.24%",
            "0.85%",
            "12.19%",
            "0.15%",
            "0.22%",
            "1.48%",
            "9.37%",
            "0.53%",
            "7.49%",
            "0.54%",
            "1.2%",
            "1.15%",
            "0.11%",
            "11.45%",
            "0.0%",
            "0.51%",
            "0.1%",
            "0.25%",
            "0.22%",
            "2.68%",
            "0.14%",
            "5.06%",
            "2.13%",
            "0.82%",
            "1.28%",
            "0.31%",
            "0.81%",
            "2611.36%",
            "4690.04%",
            "789.38%",
            "419.87%",
            "1460.94%",
            "21024.35%",
            "255.67%",
            "386.95%",
            "2555.55%",
            "16159.82%",
            "913.75%",
            "12915.09%",
            "933.94%",
            "2064.98%",
            "1975.95%",
            "190.51%",
            "19756.92%",
            "0.0%",
            "884.73%",
            "173.67%",
            "428.43%",
            "375.17%",
            "4620.86%",
            "241.96%",
            "8725.34%",
            "3681.91%",
            "1406.1%",
            "2202.45%",
            "539.55%",
            "1389.39%",
            "39.96%",
            "71.78%",
            "12.08%",
            "6.43%",
            "22.36%",
            "321.76%",
            "3.91%",
            "5.92%",
            "39.11%",
            "247.31%",
            "13.98%",
            "197.65%",
            "14.29%",
            "31.6%",
            "30.24%",
            "2.92%",
            "302.36%",
            "0.0%",
            "13.54%",
            "2.66%",
            "6.56%",
            "5.74%",
            "70.72%",
            "3.7%",
            "133.53%",
            "56.35%",
            "21.52%",
            "33.71%",
            "8.26%",
            "21.26%",
            "161.07%",
            "289.28%",
            "48.69%",
            "25.9%",
            "90.11%",
            "1296.77%",
            "15.77%",
            "23.87%",
            "157.62%",
            "996.73%",
            "56.36%",
            "796.6%",
            "57.61%",
            "127.37%",
            "121.88%",
            "11.75%",
            "1218.6%",
            "0.0%",
            "54.57%",
            "10.71%",
            "26.43%",
            "23.14%",
            "285.01%",
            "14.92%",
            "538.17%",
            "227.1%",
            "86.73%",
            "135.85%",
            "33.28%",
            "85.7%",
            "68.02%",
            "122.17%",
            "20.56%",
            "10.94%",
            "38.05%",
            "547.65%",
            "6.66%",
            "10.08%",
            "66.57%",
            "420.93%",
            "23.8%",
            "336.42%",
            "24.33%",
            "53.79%",
            "51.47%",
            "4.96%",
            "514.63%",
            "0.0%",
            "23.05%",
            "4.52%",
            "11.16%",
            "9.77%",
            "120.37%",
            "6.3%",
            "227.28%",
            "95.91%",
            "36.63%",
            "57.37%",
            "14.05%",
            "36.19%",
            "157.58%",
            "283.01%",
            "47.63%",
            "25.34%",
            "88.16%",
            "1268.69%",
            "15.43%",
            "23.35%",
            "154.21%",
            "975.15%",
            "55.14%",
            "779.35%",
            "56.36%",
            "124.61%",
            "119.24%",
            "11.5%",
            "1192.21%",
            "0.0%",
            "53.39%",
            "10.48%",
            "25.85%",
            "22.64%",
            "278.84%",
            "14.6%",
            "526.52%",
            "222.18%",
            "84.85%",
            "132.9%",
            "32.56%",
            "83.84%",
            "5.66%",
            "10.16%",
            "1.71%",
            "0.91%",
            "3.17%",
            "45.56%",
            "0.55%",
            "0.84%",
            "5.54%",
            "35.02%",
            "1.98%",
            "27.99%",
            "2.02%",
            "4.48%",
            "4.28%",
            "0.41%",
            "42.82%",
            "0.0%",
            "1.92%",
            "0.38%",
            "0.93%",
            "0.81%",
            "10.01%",
            "0.52%",
            "18.91%",
            "7.98%",
            "3.05%",
            "4.77%",
            "1.17%",
            "3.01%",
            "16.97%",
            "30.48%",
            "5.13%",
            "2.73%",
            "9.49%",
            "136.62%",
            "1.66%",
            "2.51%",
            "16.61%",
            "105.01%",
            "5.94%",
            "83.92%",
            "6.07%",
            "13.42%",
            "12.84%",
            "1.24%",
            "128.38%",
            "0.0%",
            "5.75%",
            "1.13%",
            "2.78%",
            "2.44%",
            "30.03%",
            "1.57%",
            "56.7%",
            "23.92%",
            "9.14%",
            "14.31%",
            "3.51%",
            "9.03%",
            "3.54%",
            "6.36%",
            "1.07%",
            "0.57%",
            "1.98%",
            "28.52%",
            "0.35%",
            "0.52%",
            "3.47%",
            "21.92%",
            "1.24%",
            "17.52%",
            "1.27%",
            "2.8%",
            "2.68%",
            "0.26%",
            "26.8%",
            "0.0%",
            "1.2%",
            "0.24%",
            "0.58%",
            "0.51%",
            "6.27%",
            "0.33%",
            "11.84%",
            "4.99%",
            "1.91%",
            "2.99%",
            "0.73%",
            "1.88%",
            "8.54%",
            "15.33%",
            "2.58%",
            "1.37%",
            "4.78%",
            "68.73%",
            "0.84%",
            "1.26%",
            "8.35%",
            "52.83%",
            "2.99%",
            "42.22%",
            "3.05%",
            "6.75%",
            "6.46%",
            "0.62%",
            "64.58%",
            "0.0%",
            "2.89%",
            "0.57%",
            "1.4%",
            "1.23%",
            "15.11%",
            "0.79%",
            "28.52%",
            "12.04%",
            "4.6%",
            "7.2%",
            "1.76%",
            "4.54%",
            "10.88%",
            "19.53%",
            "3.29%",
            "1.75%",
            "6.09%",
            "87.57%",
            "1.06%",
            "1.61%",
            "10.64%",
            "67.31%",
            "3.81%",
            "53.79%",
            "3.89%",
            "8.6%",
            "8.23%",
            "0.79%",
            "82.29%",
            "0.0%",
            "3.69%",
            "0.72%",
            "1.78%",
            "1.56%",
            "19.25%",
            "1.01%",
            "36.34%",
            "15.34%",
            "5.86%",
            "9.17%",
            "2.25%",
            "5.79%",
            "9.52%",
            "17.1%",
            "2.88%",
            "1.53%",
            "5.33%",
            "76.66%",
            "0.93%",
            "1.41%",
            "9.32%",
            "58.92%",
            "3.33%",
            "47.09%",
            "3.41%",
            "7.53%",
            "7.2%",
            "0.69%",
            "72.04%",
            "0.0%",
            "3.23%",
            "0.63%",
            "1.56%",
            "1.37%",
            "16.85%",
            "0.88%",
            "31.82%",
            "13.43%",
            "5.13%",
            "8.03%",
            "1.97%",
            "5.07%",
            "59.18%",
            "106.29%",
            "17.89%",
            "9.52%",
            "33.11%",
            "476.46%",
            "5.79%",
            "8.77%",
            "57.91%",
            "366.22%",
            "20.71%",
            "292.69%",
            "21.17%",
            "46.8%",
            "44.78%",
            "4.32%",
            "447.74%",
            "0.0%",
            "20.05%",
            "3.94%",
            "9.71%",
            "8.5%",
            "104.72%",
            "5.48%",
            "197.74%",
            "83.44%",
            "31.87%",
            "49.91%",
            "12.23%",
            "31.49%",
            "26.29%",
            "47.22%",
            "7.95%",
            "4.23%",
            "14.71%",
            "211.67%",
            "2.57%",
            "3.9%",
            "25.73%",
            "162.69%",
            "9.2%",
            "130.03%",
            "9.4%",
            "20.79%",
            "19.89%",
            "1.92%",
            "198.91%",
            "0.0%",
            "8.91%",
            "1.75%",
            "4.31%",
            "3.78%",
            "46.52%",
            "2.44%",
            "87.84%",
            "37.07%",
            "14.16%",
            "22.17%",
            "5.43%",
            "13.99%"
           ],
           [
            "78.19%",
            "93.98%",
            "14.73%",
            "6.87%",
            "77.94%",
            "709.49%",
            "61.15%",
            "8.01%",
            "85.9%",
            "330.23%",
            "47.66%",
            "586.3%",
            "22.08%",
            "49.86%",
            "42.4%",
            "2.56%",
            "451.28%",
            "0.12%",
            "18.18%",
            "4.12%",
            "8.05%",
            "3.76%",
            "123.67%",
            "47.05%",
            "214.25%",
            "81.06%",
            "69.41%",
            "82.78%",
            "12.7%",
            "27.92%",
            "60.31%",
            "72.5%",
            "11.36%",
            "5.3%",
            "60.13%",
            "547.31%",
            "47.17%",
            "6.18%",
            "66.26%",
            "254.74%",
            "36.76%",
            "452.28%",
            "17.03%",
            "38.46%",
            "32.71%",
            "1.97%",
            "348.12%",
            "0.09%",
            "14.02%",
            "3.18%",
            "6.21%",
            "2.9%",
            "95.4%",
            "36.29%",
            "165.27%",
            "62.53%",
            "53.54%",
            "63.86%",
            "9.8%",
            "21.54%",
            "333.9%",
            "401.34%",
            "62.91%",
            "29.33%",
            "332.87%",
            "3029.94%",
            "261.15%",
            "34.2%",
            "366.84%",
            "1410.26%",
            "203.53%",
            "2503.86%",
            "94.27%",
            "212.92%",
            "181.06%",
            "10.93%",
            "1927.25%",
            "0.52%",
            "77.64%",
            "17.61%",
            "34.4%",
            "16.06%",
            "528.16%",
            "200.92%",
            "914.97%",
            "346.15%",
            "296.43%",
            "353.53%",
            "54.23%",
            "119.25%",
            "820.48%",
            "986.19%",
            "154.59%",
            "72.07%",
            "817.94%",
            "7445.34%",
            "641.72%",
            "84.04%",
            "901.42%",
            "3465.37%",
            "500.13%",
            "6152.62%",
            "231.66%",
            "523.19%",
            "444.91%",
            "26.86%",
            "4735.74%",
            "1.28%",
            "190.77%",
            "43.27%",
            "84.53%",
            "39.46%",
            "1297.82%",
            "493.7%",
            "2248.32%",
            "850.58%",
            "728.39%",
            "868.72%",
            "133.25%",
            "293.03%",
            "82.6%",
            "99.28%",
            "15.56%",
            "7.26%",
            "82.34%",
            "749.51%",
            "64.6%",
            "8.46%",
            "90.75%",
            "348.85%",
            "50.35%",
            "619.38%",
            "23.32%",
            "52.67%",
            "44.79%",
            "2.7%",
            "476.74%",
            "0.13%",
            "19.2%",
            "4.36%",
            "8.51%",
            "3.97%",
            "130.65%",
            "49.7%",
            "226.34%",
            "85.63%",
            "73.33%",
            "87.45%",
            "13.41%",
            "29.5%",
            "8.16%",
            "9.81%",
            "1.54%",
            "0.72%",
            "8.13%",
            "74.04%",
            "6.38%",
            "0.84%",
            "8.96%",
            "34.46%",
            "4.97%",
            "61.19%",
            "2.3%",
            "5.2%",
            "4.42%",
            "0.27%",
            "47.1%",
            "0.01%",
            "1.9%",
            "0.43%",
            "0.84%",
            "0.39%",
            "12.91%",
            "4.91%",
            "22.36%",
            "8.46%",
            "7.24%",
            "8.64%",
            "1.33%",
            "2.91%",
            "108.54%",
            "130.47%",
            "20.45%",
            "9.53%",
            "108.21%",
            "984.96%",
            "84.89%",
            "11.12%",
            "119.25%",
            "458.44%",
            "66.16%",
            "813.95%",
            "30.65%",
            "69.21%",
            "58.86%",
            "3.55%",
            "626.5%",
            "0.17%",
            "25.24%",
            "5.72%",
            "11.18%",
            "5.22%",
            "171.69%",
            "65.31%",
            "297.44%",
            "112.53%",
            "96.36%",
            "114.92%",
            "17.63%",
            "38.77%",
            "696.65%",
            "837.35%",
            "131.26%",
            "61.2%",
            "694.49%",
            "6321.63%",
            "544.86%",
            "71.36%",
            "765.37%",
            "2942.35%",
            "424.65%",
            "5224.02%",
            "196.69%",
            "444.23%",
            "377.76%",
            "22.81%",
            "4020.99%",
            "1.09%",
            "161.98%",
            "36.74%",
            "71.77%",
            "33.51%",
            "1101.94%",
            "419.19%",
            "1908.99%",
            "722.21%",
            "618.46%",
            "737.6%",
            "113.14%",
            "248.8%",
            "71.96%",
            "86.49%",
            "13.56%",
            "6.32%",
            "71.74%",
            "652.99%",
            "56.28%",
            "7.37%",
            "79.06%",
            "303.93%",
            "43.86%",
            "539.61%",
            "20.32%",
            "45.89%",
            "39.02%",
            "2.36%",
            "415.35%",
            "0.11%",
            "16.73%",
            "3.79%",
            "7.41%",
            "3.46%",
            "113.82%",
            "43.3%",
            "197.19%",
            "74.6%",
            "63.88%",
            "76.19%",
            "11.69%",
            "25.7%",
            "16.59%",
            "19.94%",
            "3.13%",
            "1.46%",
            "16.54%",
            "150.57%",
            "12.98%",
            "1.7%",
            "18.23%",
            "70.08%",
            "10.11%",
            "124.43%",
            "4.68%",
            "10.58%",
            "9.0%",
            "0.54%",
            "95.77%",
            "0.03%",
            "3.86%",
            "0.87%",
            "1.71%",
            "0.8%",
            "26.25%",
            "9.98%",
            "45.47%",
            "17.2%",
            "14.73%",
            "17.57%",
            "2.69%",
            "5.93%",
            "133.85%",
            "160.88%",
            "25.22%",
            "11.76%",
            "133.44%",
            "1214.6%",
            "104.69%",
            "13.71%",
            "147.05%",
            "565.32%",
            "81.59%",
            "1003.71%",
            "37.79%",
            "85.35%",
            "72.58%",
            "4.38%",
            "772.56%",
            "0.21%",
            "31.12%",
            "7.06%",
            "13.79%",
            "6.44%",
            "211.72%",
            "80.54%",
            "366.78%",
            "138.76%",
            "118.83%",
            "141.72%",
            "21.74%",
            "47.8%",
            "10.31%",
            "12.39%",
            "1.94%",
            "0.91%",
            "10.28%",
            "93.58%",
            "8.07%",
            "1.06%",
            "11.33%",
            "43.55%",
            "6.29%",
            "77.33%",
            "2.91%",
            "6.58%",
            "5.59%",
            "0.34%",
            "59.52%",
            "0.02%",
            "2.4%",
            "0.54%",
            "1.06%",
            "0.5%",
            "16.31%",
            "6.21%",
            "28.26%",
            "10.69%",
            "9.15%",
            "10.92%",
            "1.67%",
            "3.68%",
            "261.49%",
            "314.31%",
            "49.27%",
            "22.97%",
            "260.68%",
            "2372.88%",
            "204.52%",
            "26.78%",
            "287.29%",
            "1104.44%",
            "159.4%",
            "1960.88%",
            "73.83%",
            "166.74%",
            "141.8%",
            "8.56%",
            "1509.31%",
            "0.41%",
            "60.8%",
            "13.79%",
            "26.94%",
            "12.58%",
            "413.62%",
            "157.35%",
            "716.56%",
            "271.09%",
            "232.14%",
            "276.87%",
            "42.47%",
            "93.39%",
            "85.01%",
            "102.18%",
            "16.02%",
            "7.47%",
            "84.75%",
            "771.45%",
            "66.49%",
            "8.71%",
            "93.4%",
            "359.06%",
            "51.82%",
            "637.5%",
            "24.0%",
            "54.21%",
            "46.1%",
            "2.78%",
            "490.69%",
            "0.13%",
            "19.77%",
            "4.48%",
            "8.76%",
            "4.09%",
            "134.47%",
            "51.15%",
            "232.96%",
            "88.13%",
            "75.47%",
            "90.01%",
            "13.81%",
            "30.36%",
            "134.47%",
            "161.63%",
            "25.34%",
            "11.81%",
            "134.05%",
            "1220.22%",
            "105.17%",
            "13.77%",
            "147.73%",
            "567.94%",
            "81.97%",
            "1008.35%",
            "37.97%",
            "85.75%",
            "72.92%",
            "4.4%",
            "776.14%",
            "0.21%",
            "31.27%",
            "7.09%",
            "13.85%",
            "6.47%",
            "212.7%",
            "80.91%",
            "368.48%",
            "139.4%",
            "119.38%",
            "142.37%",
            "21.84%",
            "48.02%",
            "1849.87%",
            "2223.5%",
            "348.54%",
            "162.5%",
            "1844.15%",
            "16786.44%",
            "1446.83%",
            "189.48%",
            "2032.37%",
            "7813.1%",
            "1127.61%",
            "13871.84%",
            "522.3%",
            "1179.6%",
            "1003.11%",
            "60.56%",
            "10677.31%",
            "2.89%",
            "430.11%",
            "97.55%",
            "190.57%",
            "88.97%",
            "2926.09%",
            "1113.11%",
            "5069.11%",
            "1917.75%",
            "1642.25%",
            "1958.63%",
            "300.44%",
            "660.67%",
            "11.69%",
            "14.05%",
            "2.2%",
            "1.03%",
            "11.65%",
            "106.08%",
            "9.14%",
            "1.2%",
            "12.84%",
            "49.37%",
            "7.13%",
            "87.66%",
            "3.3%",
            "7.45%",
            "6.34%",
            "0.38%",
            "67.47%",
            "0.02%",
            "2.72%",
            "0.62%",
            "1.2%",
            "0.56%",
            "18.49%",
            "7.03%",
            "32.03%",
            "12.12%",
            "10.38%",
            "12.38%",
            "1.9%",
            "4.17%",
            "20165.99%",
            "24238.93%",
            "3799.51%",
            "1771.44%",
            "20103.63%",
            "182993.5%",
            "15772.28%",
            "2065.54%",
            "22155.41%",
            "85172.78%",
            "12292.38%",
            "151220.72%",
            "5693.73%",
            "12859.15%",
            "10935.2%",
            "660.23%",
            "116396.22%",
            "31.5%",
            "4688.79%",
            "1063.39%",
            "2077.48%",
            "969.9%",
            "31898.12%",
            "12134.29%",
            "55259.79%",
            "20905.9%",
            "17902.64%",
            "21351.58%",
            "3275.17%",
            "7202.13%",
            "308.62%",
            "370.95%",
            "58.15%",
            "27.11%",
            "307.66%",
            "2800.52%",
            "241.38%",
            "31.61%",
            "339.07%",
            "1303.48%",
            "188.12%",
            "2314.27%",
            "87.14%",
            "196.8%",
            "167.35%",
            "10.1%",
            "1781.32%",
            "0.48%",
            "71.76%",
            "16.27%",
            "31.79%",
            "14.84%",
            "488.17%",
            "185.7%",
            "845.69%",
            "319.94%",
            "273.98%",
            "326.76%",
            "50.12%",
            "110.22%",
            "1243.83%",
            "1495.04%",
            "234.35%",
            "109.26%",
            "1239.98%",
            "11286.94%",
            "972.83%",
            "127.4%",
            "1366.53%",
            "5253.41%",
            "758.19%",
            "9327.21%",
            "351.19%",
            "793.15%",
            "674.48%",
            "40.72%",
            "7179.26%",
            "1.94%",
            "289.2%",
            "65.59%",
            "128.14%",
            "59.82%",
            "1967.46%",
            "748.44%",
            "3408.39%",
            "1289.46%",
            "1104.23%",
            "1316.95%",
            "202.01%",
            "444.22%",
            "525.29%",
            "631.38%",
            "98.97%",
            "46.14%",
            "523.66%",
            "4766.66%",
            "410.84%",
            "53.8%",
            "577.11%",
            "2218.6%",
            "320.19%",
            "3939.03%",
            "148.31%",
            "334.96%",
            "284.84%",
            "17.2%",
            "3031.92%",
            "0.82%",
            "122.13%",
            "27.7%",
            "54.11%",
            "25.26%",
            "830.89%",
            "316.08%",
            "1439.42%",
            "544.56%",
            "466.33%",
            "556.17%",
            "85.31%",
            "187.6%",
            "1216.89%",
            "1462.67%",
            "229.28%",
            "106.9%",
            "1213.13%",
            "11042.53%",
            "951.76%",
            "124.64%",
            "1336.94%",
            "5139.65%",
            "741.77%",
            "9125.24%",
            "343.58%",
            "775.97%",
            "659.87%",
            "39.84%",
            "7023.8%",
            "1.9%",
            "282.94%",
            "64.17%",
            "125.36%",
            "58.53%",
            "1924.86%",
            "732.23%",
            "3334.59%",
            "1261.54%",
            "1080.31%",
            "1288.44%",
            "197.64%",
            "434.6%",
            "43.7%",
            "52.53%",
            "8.23%",
            "3.84%",
            "43.57%",
            "396.57%",
            "34.18%",
            "4.48%",
            "48.01%",
            "184.58%",
            "26.64%",
            "327.72%",
            "12.34%",
            "27.87%",
            "23.7%",
            "1.43%",
            "252.25%",
            "0.07%",
            "10.16%",
            "2.3%",
            "4.5%",
            "2.1%",
            "69.13%",
            "26.3%",
            "119.76%",
            "45.31%",
            "38.8%",
            "46.27%",
            "7.1%",
            "15.61%",
            "131.04%",
            "157.5%",
            "24.69%",
            "11.51%",
            "130.63%",
            "1189.09%",
            "102.49%",
            "13.42%",
            "143.97%",
            "553.45%",
            "79.88%",
            "982.63%",
            "37.0%",
            "83.56%",
            "71.06%",
            "4.29%",
            "756.34%",
            "0.2%",
            "30.47%",
            "6.91%",
            "13.5%",
            "6.3%",
            "207.27%",
            "78.85%",
            "359.08%",
            "135.85%",
            "116.33%",
            "138.74%",
            "21.28%",
            "46.8%",
            "27.36%",
            "32.88%",
            "5.15%",
            "2.4%",
            "27.27%",
            "248.23%",
            "21.4%",
            "2.8%",
            "30.05%",
            "115.54%",
            "16.67%",
            "205.13%",
            "7.72%",
            "17.44%",
            "14.83%",
            "0.9%",
            "157.89%",
            "0.04%",
            "6.36%",
            "1.44%",
            "2.82%",
            "1.32%",
            "43.27%",
            "16.46%",
            "74.96%",
            "28.36%",
            "24.29%",
            "28.96%",
            "4.44%",
            "9.77%",
            "65.92%",
            "79.24%",
            "12.42%",
            "5.79%",
            "65.72%",
            "598.2%",
            "51.56%",
            "6.75%",
            "72.43%",
            "278.43%",
            "40.18%",
            "494.33%",
            "18.61%",
            "42.04%",
            "35.75%",
            "2.16%",
            "380.49%",
            "0.1%",
            "15.33%",
            "3.48%",
            "6.79%",
            "3.17%",
            "104.27%",
            "39.67%",
            "180.64%",
            "68.34%",
            "58.52%",
            "69.8%",
            "10.71%",
            "23.54%",
            "83.99%",
            "100.96%",
            "15.83%",
            "7.38%",
            "83.73%",
            "762.19%",
            "65.69%",
            "8.6%",
            "92.28%",
            "354.76%",
            "51.2%",
            "629.86%",
            "23.72%",
            "53.56%",
            "45.55%",
            "2.75%",
            "484.81%",
            "0.13%",
            "19.53%",
            "4.43%",
            "8.65%",
            "4.04%",
            "132.86%",
            "50.54%",
            "230.16%",
            "87.08%",
            "74.57%",
            "88.93%",
            "13.64%",
            "30.0%",
            "73.53%",
            "88.38%",
            "13.85%",
            "6.46%",
            "73.3%",
            "667.26%",
            "57.51%",
            "7.53%",
            "80.79%",
            "310.57%",
            "44.82%",
            "551.4%",
            "20.76%",
            "46.89%",
            "39.87%",
            "2.41%",
            "424.42%",
            "0.11%",
            "17.1%",
            "3.88%",
            "7.58%",
            "3.54%",
            "116.31%",
            "44.25%",
            "201.5%",
            "76.23%",
            "65.28%",
            "77.85%",
            "11.94%",
            "26.26%",
            "457.01%",
            "549.31%",
            "86.11%",
            "40.15%",
            "455.6%",
            "4147.08%",
            "357.44%",
            "46.81%",
            "502.1%",
            "1930.22%",
            "278.58%",
            "3427.03%",
            "129.03%",
            "291.42%",
            "247.82%",
            "14.96%",
            "2637.82%",
            "0.71%",
            "106.26%",
            "24.1%",
            "47.08%",
            "21.98%",
            "722.89%",
            "274.99%",
            "1252.32%",
            "473.78%",
            "405.72%",
            "483.88%",
            "74.22%",
            "163.22%",
            "203.03%",
            "244.03%",
            "38.25%",
            "17.83%",
            "202.4%",
            "1842.32%",
            "158.79%",
            "20.8%",
            "223.05%",
            "857.49%",
            "123.76%",
            "1522.45%",
            "57.32%",
            "129.46%",
            "110.09%",
            "6.65%",
            "1171.84%",
            "0.32%",
            "47.21%",
            "10.71%",
            "20.92%",
            "9.76%",
            "321.14%",
            "122.16%",
            "556.34%",
            "210.47%",
            "180.24%",
            "214.96%",
            "32.97%",
            "72.51%"
           ],
           [
            "9.4%",
            "14.82%",
            "2.65%",
            "0.86%",
            "8.46%",
            "144.29%",
            "9.59%",
            "1.24%",
            "8.6%",
            "65.64%",
            "7.21%",
            "114.99%",
            "2.9%",
            "6.26%",
            "6.57%",
            "0.58%",
            "131.5%",
            "0.26%",
            "1.92%",
            "1.23%",
            "3.49%",
            "1.01%",
            "31.76%",
            "11.64%",
            "21.57%",
            "16.05%",
            "5.81%",
            "15.01%",
            "1.45%",
            "3.89%",
            "7.25%",
            "11.43%",
            "2.04%",
            "0.67%",
            "6.52%",
            "111.3%",
            "7.4%",
            "0.95%",
            "6.63%",
            "50.64%",
            "5.56%",
            "88.71%",
            "2.24%",
            "4.83%",
            "5.07%",
            "0.45%",
            "101.44%",
            "0.2%",
            "1.48%",
            "0.95%",
            "2.69%",
            "0.78%",
            "24.5%",
            "8.98%",
            "16.64%",
            "12.38%",
            "4.48%",
            "11.58%",
            "1.12%",
            "3.0%",
            "40.13%",
            "63.3%",
            "11.3%",
            "3.69%",
            "36.12%",
            "616.19%",
            "40.95%",
            "5.28%",
            "36.72%",
            "280.32%",
            "30.8%",
            "491.09%",
            "12.4%",
            "26.74%",
            "28.04%",
            "2.48%",
            "561.56%",
            "1.13%",
            "8.22%",
            "5.24%",
            "14.89%",
            "4.3%",
            "135.62%",
            "49.72%",
            "92.1%",
            "68.54%",
            "24.83%",
            "64.09%",
            "6.17%",
            "16.62%",
            "98.61%",
            "155.55%",
            "27.76%",
            "9.08%",
            "88.76%",
            "1514.14%",
            "100.63%",
            "12.98%",
            "90.22%",
            "688.82%",
            "75.68%",
            "1206.73%",
            "30.46%",
            "65.71%",
            "68.91%",
            "6.1%",
            "1379.9%",
            "2.77%",
            "20.19%",
            "12.88%",
            "36.58%",
            "10.57%",
            "333.25%",
            "122.17%",
            "226.32%",
            "168.42%",
            "61.0%",
            "157.49%",
            "15.17%",
            "40.84%",
            "9.93%",
            "15.66%",
            "2.79%",
            "0.91%",
            "8.94%",
            "152.43%",
            "10.13%",
            "1.31%",
            "9.08%",
            "69.34%",
            "7.62%",
            "121.48%",
            "3.07%",
            "6.61%",
            "6.94%",
            "0.61%",
            "138.91%",
            "0.28%",
            "2.03%",
            "1.3%",
            "3.68%",
            "1.06%",
            "33.55%",
            "12.3%",
            "22.78%",
            "16.95%",
            "6.14%",
            "15.85%",
            "1.53%",
            "4.11%",
            "0.98%",
            "1.55%",
            "0.28%",
            "0.09%",
            "0.88%",
            "15.06%",
            "1.0%",
            "0.13%",
            "0.9%",
            "6.85%",
            "0.75%",
            "12.0%",
            "0.3%",
            "0.65%",
            "0.69%",
            "0.06%",
            "13.72%",
            "0.03%",
            "0.2%",
            "0.13%",
            "0.36%",
            "0.11%",
            "3.31%",
            "1.21%",
            "2.25%",
            "1.67%",
            "0.61%",
            "1.57%",
            "0.15%",
            "0.41%",
            "13.05%",
            "20.58%",
            "3.67%",
            "1.2%",
            "11.74%",
            "200.31%",
            "13.31%",
            "1.72%",
            "11.94%",
            "91.13%",
            "10.01%",
            "159.64%",
            "4.03%",
            "8.69%",
            "9.12%",
            "0.81%",
            "182.55%",
            "0.37%",
            "2.67%",
            "1.7%",
            "4.84%",
            "1.4%",
            "44.09%",
            "16.16%",
            "29.94%",
            "22.28%",
            "8.07%",
            "20.83%",
            "2.01%",
            "5.4%",
            "83.73%",
            "132.08%",
            "23.57%",
            "7.71%",
            "75.36%",
            "1285.62%",
            "85.44%",
            "11.02%",
            "76.6%",
            "584.86%",
            "64.26%",
            "1024.6%",
            "25.87%",
            "55.79%",
            "58.51%",
            "5.18%",
            "1171.63%",
            "2.35%",
            "17.15%",
            "10.94%",
            "31.06%",
            "8.97%",
            "282.95%",
            "103.73%",
            "192.16%",
            "143.0%",
            "51.8%",
            "133.72%",
            "12.88%",
            "34.67%",
            "8.65%",
            "13.64%",
            "2.43%",
            "0.8%",
            "7.78%",
            "132.8%",
            "8.83%",
            "1.14%",
            "7.91%",
            "60.41%",
            "6.64%",
            "105.84%",
            "2.67%",
            "5.76%",
            "6.04%",
            "0.54%",
            "121.02%",
            "0.24%",
            "1.77%",
            "1.13%",
            "3.21%",
            "0.93%",
            "29.23%",
            "10.71%",
            "19.85%",
            "14.77%",
            "5.35%",
            "13.81%",
            "1.33%",
            "3.58%",
            "1.99%",
            "3.15%",
            "0.56%",
            "0.18%",
            "1.8%",
            "30.62%",
            "2.04%",
            "0.26%",
            "1.82%",
            "13.93%",
            "1.53%",
            "24.4%",
            "0.62%",
            "1.33%",
            "1.39%",
            "0.12%",
            "27.91%",
            "0.06%",
            "0.41%",
            "0.26%",
            "0.74%",
            "0.21%",
            "6.74%",
            "2.47%",
            "4.58%",
            "3.41%",
            "1.23%",
            "3.19%",
            "0.31%",
            "0.83%",
            "16.09%",
            "25.38%",
            "4.53%",
            "1.48%",
            "14.48%",
            "247.01%",
            "16.42%",
            "2.12%",
            "14.72%",
            "112.37%",
            "12.35%",
            "196.86%",
            "4.97%",
            "10.72%",
            "11.24%",
            "1.0%",
            "225.11%",
            "0.45%",
            "3.29%",
            "2.1%",
            "5.97%",
            "1.72%",
            "54.36%",
            "19.93%",
            "36.92%",
            "27.47%",
            "9.95%",
            "25.69%",
            "2.48%",
            "6.66%",
            "1.24%",
            "1.96%",
            "0.35%",
            "0.11%",
            "1.12%",
            "19.03%",
            "1.26%",
            "0.16%",
            "1.13%",
            "8.66%",
            "0.95%",
            "15.17%",
            "0.38%",
            "0.83%",
            "0.87%",
            "0.08%",
            "17.34%",
            "0.03%",
            "0.25%",
            "0.16%",
            "0.46%",
            "0.13%",
            "4.19%",
            "1.54%",
            "2.84%",
            "2.12%",
            "0.77%",
            "1.98%",
            "0.19%",
            "0.51%",
            "31.43%",
            "49.58%",
            "8.85%",
            "2.89%",
            "28.29%",
            "482.57%",
            "32.07%",
            "4.14%",
            "28.75%",
            "219.53%",
            "24.12%",
            "384.59%",
            "9.71%",
            "20.94%",
            "21.96%",
            "1.94%",
            "439.78%",
            "0.88%",
            "6.44%",
            "4.11%",
            "11.66%",
            "3.37%",
            "106.21%",
            "38.94%",
            "72.13%",
            "53.68%",
            "19.44%",
            "50.19%",
            "4.84%",
            "13.01%",
            "10.22%",
            "16.12%",
            "2.88%",
            "0.94%",
            "9.2%",
            "156.89%",
            "10.43%",
            "1.34%",
            "9.35%",
            "71.37%",
            "7.84%",
            "125.04%",
            "3.16%",
            "6.81%",
            "7.14%",
            "0.63%",
            "142.98%",
            "0.29%",
            "2.09%",
            "1.33%",
            "3.79%",
            "1.09%",
            "34.53%",
            "12.66%",
            "23.45%",
            "17.45%",
            "6.32%",
            "16.32%",
            "1.57%",
            "4.23%",
            "16.16%",
            "25.49%",
            "4.55%",
            "1.49%",
            "14.55%",
            "248.15%",
            "16.49%",
            "2.13%",
            "14.79%",
            "112.89%",
            "12.4%",
            "197.77%",
            "4.99%",
            "10.77%",
            "11.29%",
            "1.0%",
            "226.15%",
            "0.45%",
            "3.31%",
            "2.11%",
            "6.0%",
            "1.73%",
            "54.62%",
            "20.02%",
            "37.09%",
            "27.6%",
            "10.0%",
            "25.81%",
            "2.49%",
            "6.69%",
            "222.33%",
            "350.72%",
            "62.58%",
            "20.46%",
            "200.12%",
            "3413.82%",
            "226.89%",
            "29.26%",
            "203.42%",
            "1553.04%",
            "170.63%",
            "2720.73%",
            "68.69%",
            "148.14%",
            "155.36%",
            "13.76%",
            "3111.15%",
            "6.25%",
            "45.53%",
            "29.05%",
            "82.48%",
            "23.82%",
            "751.35%",
            "275.44%",
            "510.26%",
            "379.72%",
            "137.54%",
            "355.08%",
            "34.21%",
            "92.07%",
            "1.4%",
            "2.22%",
            "0.4%",
            "0.13%",
            "1.26%",
            "21.57%",
            "1.43%",
            "0.18%",
            "1.29%",
            "9.81%",
            "1.08%",
            "17.19%",
            "0.43%",
            "0.94%",
            "0.98%",
            "0.09%",
            "19.66%",
            "0.04%",
            "0.29%",
            "0.18%",
            "0.52%",
            "0.15%",
            "4.75%",
            "1.74%",
            "3.22%",
            "2.4%",
            "0.87%",
            "2.24%",
            "0.22%",
            "0.58%",
            "2423.73%",
            "3823.26%",
            "682.21%",
            "223.07%",
            "2181.55%",
            "37214.98%",
            "2473.38%",
            "318.98%",
            "2217.5%",
            "16930.12%",
            "1860.07%",
            "29659.42%",
            "748.76%",
            "1614.96%",
            "1693.58%",
            "149.99%",
            "33915.48%",
            "68.15%",
            "496.31%",
            "316.67%",
            "899.16%",
            "259.67%",
            "8190.62%",
            "3002.62%",
            "5562.43%",
            "4139.41%",
            "1499.35%",
            "3870.78%",
            "372.92%",
            "1003.67%",
            "37.09%",
            "58.51%",
            "10.44%",
            "3.41%",
            "33.39%",
            "569.54%",
            "37.85%",
            "4.88%",
            "33.94%",
            "259.1%",
            "28.47%",
            "453.91%",
            "11.46%",
            "24.72%",
            "25.92%",
            "2.3%",
            "519.04%",
            "1.04%",
            "7.6%",
            "4.85%",
            "13.76%",
            "3.97%",
            "125.35%",
            "45.95%",
            "85.13%",
            "63.35%",
            "22.95%",
            "59.24%",
            "5.71%",
            "15.36%",
            "149.49%",
            "235.82%",
            "42.08%",
            "13.76%",
            "134.56%",
            "2295.4%",
            "152.56%",
            "19.67%",
            "136.77%",
            "1044.24%",
            "114.73%",
            "1829.38%",
            "46.18%",
            "99.61%",
            "104.46%",
            "9.25%",
            "2091.89%",
            "4.2%",
            "30.61%",
            "19.53%",
            "55.46%",
            "16.02%",
            "505.19%",
            "185.2%",
            "343.09%",
            "255.32%",
            "92.48%",
            "238.75%",
            "23.0%",
            "61.91%",
            "63.13%",
            "99.59%",
            "17.77%",
            "5.81%",
            "56.83%",
            "969.38%",
            "64.43%",
            "8.31%",
            "57.76%",
            "441.0%",
            "48.45%",
            "772.58%",
            "19.5%",
            "42.07%",
            "44.11%",
            "3.91%",
            "883.44%",
            "1.78%",
            "12.93%",
            "8.25%",
            "23.42%",
            "6.76%",
            "213.35%",
            "78.21%",
            "144.89%",
            "107.82%",
            "39.06%",
            "100.83%",
            "9.71%",
            "26.14%",
            "146.26%",
            "230.71%",
            "41.17%",
            "13.46%",
            "131.64%",
            "2245.7%",
            "149.25%",
            "19.25%",
            "133.81%",
            "1021.63%",
            "112.24%",
            "1789.76%",
            "45.18%",
            "97.45%",
            "102.2%",
            "9.05%",
            "2046.59%",
            "4.11%",
            "29.95%",
            "19.11%",
            "54.26%",
            "15.67%",
            "494.25%",
            "181.19%",
            "335.66%",
            "249.79%",
            "90.48%",
            "233.58%",
            "22.5%",
            "60.57%",
            "5.25%",
            "8.29%",
            "1.48%",
            "0.48%",
            "4.73%",
            "80.65%",
            "5.36%",
            "0.69%",
            "4.81%",
            "36.69%",
            "4.03%",
            "64.28%",
            "1.62%",
            "3.5%",
            "3.67%",
            "0.33%",
            "73.5%",
            "0.15%",
            "1.08%",
            "0.69%",
            "1.95%",
            "0.56%",
            "17.75%",
            "6.51%",
            "12.05%",
            "8.97%",
            "3.25%",
            "8.39%",
            "0.81%",
            "2.18%",
            "15.75%",
            "24.84%",
            "4.43%",
            "1.45%",
            "14.18%",
            "241.82%",
            "16.07%",
            "2.07%",
            "14.41%",
            "110.01%",
            "12.09%",
            "192.73%",
            "4.87%",
            "10.49%",
            "11.0%",
            "0.97%",
            "220.38%",
            "0.44%",
            "3.22%",
            "2.06%",
            "5.84%",
            "1.69%",
            "53.22%",
            "19.51%",
            "36.14%",
            "26.9%",
            "9.74%",
            "25.15%",
            "2.42%",
            "6.52%",
            "3.29%",
            "5.19%",
            "0.93%",
            "0.3%",
            "2.96%",
            "50.48%",
            "3.36%",
            "0.43%",
            "3.01%",
            "22.97%",
            "2.52%",
            "40.23%",
            "1.02%",
            "2.19%",
            "2.3%",
            "0.2%",
            "46.01%",
            "0.09%",
            "0.67%",
            "0.43%",
            "1.22%",
            "0.35%",
            "11.11%",
            "4.07%",
            "7.55%",
            "5.62%",
            "2.03%",
            "5.25%",
            "0.51%",
            "1.36%",
            "7.92%",
            "12.5%",
            "2.23%",
            "0.73%",
            "7.13%",
            "121.65%",
            "8.09%",
            "1.04%",
            "7.25%",
            "55.34%",
            "6.08%",
            "96.96%",
            "2.45%",
            "5.28%",
            "5.54%",
            "0.49%",
            "110.87%",
            "0.22%",
            "1.62%",
            "1.04%",
            "2.94%",
            "0.85%",
            "26.77%",
            "9.82%",
            "18.18%",
            "13.53%",
            "4.9%",
            "12.65%",
            "1.22%",
            "3.28%",
            "10.1%",
            "15.92%",
            "2.84%",
            "0.93%",
            "9.09%",
            "155.01%",
            "10.3%",
            "1.33%",
            "9.24%",
            "70.52%",
            "7.75%",
            "123.54%",
            "3.12%",
            "6.73%",
            "7.05%",
            "0.62%",
            "141.26%",
            "0.28%",
            "2.07%",
            "1.32%",
            "3.75%",
            "1.08%",
            "34.12%",
            "12.51%",
            "23.17%",
            "17.24%",
            "6.24%",
            "16.12%",
            "1.55%",
            "4.18%",
            "8.84%",
            "13.94%",
            "2.49%",
            "0.81%",
            "7.95%",
            "135.7%",
            "9.02%",
            "1.16%",
            "8.09%",
            "61.73%",
            "6.78%",
            "108.15%",
            "2.73%",
            "5.89%",
            "6.18%",
            "0.55%",
            "123.67%",
            "0.25%",
            "1.81%",
            "1.15%",
            "3.28%",
            "0.95%",
            "29.87%",
            "10.95%",
            "20.28%",
            "15.09%",
            "5.47%",
            "14.11%",
            "1.36%",
            "3.66%",
            "54.93%",
            "86.64%",
            "15.46%",
            "5.06%",
            "49.44%",
            "843.38%",
            "56.05%",
            "7.23%",
            "50.25%",
            "383.68%",
            "42.15%",
            "672.16%",
            "16.97%",
            "36.6%",
            "38.38%",
            "3.4%",
            "768.61%",
            "1.54%",
            "11.25%",
            "7.18%",
            "20.38%",
            "5.88%",
            "185.62%",
            "68.05%",
            "126.06%",
            "93.81%",
            "33.98%",
            "87.72%",
            "8.45%",
            "22.75%",
            "24.4%",
            "38.49%",
            "6.87%",
            "2.25%",
            "21.96%",
            "374.67%",
            "24.9%",
            "3.21%",
            "22.33%",
            "170.45%",
            "18.73%",
            "298.6%",
            "7.54%",
            "16.26%",
            "17.05%",
            "1.51%",
            "341.45%",
            "0.69%",
            "5.0%",
            "3.19%",
            "9.05%",
            "2.61%",
            "82.46%",
            "30.23%",
            "56.0%",
            "41.67%",
            "15.09%",
            "38.97%",
            "3.75%",
            "10.1%"
           ],
           [],
           [
            "0.0%",
            "0.0%",
            "0.0%",
            "0.0%",
            "0.0%",
            "0.0%",
            "0.0%",
            "0.0%",
            "0.0%",
            "0.0%",
            "0.0%",
            "0.0%",
            "0.0%",
            "11.56%",
            "0.0%",
            "0.0%",
            "0.0%",
            "0.0%",
            "0.0%",
            "0.0%",
            "0.0%",
            "0.0%",
            "0.0%",
            "0.0%",
            "0.0%",
            "0.0%",
            "0.0%",
            "0.0%",
            "0.0%",
            "0.24%",
            "0.0%",
            "0.0%",
            "0.0%",
            "0.0%",
            "0.0%",
            "0.0%",
            "0.0%",
            "0.0%",
            "0.0%",
            "0.0%",
            "0.0%",
            "0.0%",
            "0.0%",
            "8.92%",
            "0.0%",
            "0.0%",
            "0.0%",
            "0.0%",
            "0.0%",
            "0.0%",
            "0.0%",
            "0.0%",
            "0.0%",
            "0.0%",
            "0.0%",
            "0.0%",
            "0.0%",
            "0.0%",
            "0.0%",
            "0.19%",
            "0.0%",
            "0.0%",
            "0.0%",
            "0.0%",
            "0.0%",
            "0.0%",
            "0.0%",
            "0.0%",
            "0.0%",
            "0.0%",
            "0.0%",
            "0.0%",
            "0.0%",
            "49.37%",
            "0.0%",
            "0.0%",
            "0.0%",
            "0.0%",
            "0.0%",
            "0.0%",
            "0.0%",
            "0.0%",
            "0.0%",
            "0.0%",
            "0.0%",
            "0.0%",
            "0.0%",
            "0.0%",
            "0.0%",
            "1.03%",
            "0.0%",
            "0.0%",
            "0.0%",
            "0.0%",
            "0.0%",
            "0.0%",
            "0.0%",
            "0.0%",
            "0.0%",
            "0.0%",
            "0.0%",
            "0.0%",
            "0.0%",
            "121.32%",
            "0.0%",
            "0.0%",
            "0.0%",
            "0.0%",
            "0.0%",
            "0.0%",
            "0.0%",
            "0.0%",
            "0.0%",
            "0.0%",
            "0.0%",
            "0.0%",
            "0.0%",
            "0.0%",
            "0.0%",
            "2.53%",
            "0.0%",
            "0.0%",
            "0.0%",
            "0.0%",
            "0.0%",
            "0.0%",
            "0.0%",
            "0.0%",
            "0.0%",
            "0.0%",
            "0.0%",
            "0.0%",
            "0.0%",
            "12.21%",
            "0.0%",
            "0.0%",
            "0.0%",
            "0.0%",
            "0.0%",
            "0.0%",
            "0.0%",
            "0.0%",
            "0.0%",
            "0.0%",
            "0.0%",
            "0.0%",
            "0.0%",
            "0.0%",
            "0.0%",
            "0.25%",
            "0.0%",
            "0.0%",
            "0.0%",
            "0.0%",
            "0.0%",
            "0.0%",
            "0.0%",
            "0.0%",
            "0.0%",
            "0.0%",
            "0.0%",
            "0.0%",
            "0.0%",
            "1.21%",
            "0.0%",
            "0.0%",
            "0.0%",
            "0.0%",
            "0.0%",
            "0.0%",
            "0.0%",
            "0.0%",
            "0.0%",
            "0.0%",
            "0.0%",
            "0.0%",
            "0.0%",
            "0.0%",
            "0.0%",
            "0.03%",
            "0.0%",
            "0.0%",
            "0.0%",
            "0.0%",
            "0.0%",
            "0.0%",
            "0.0%",
            "0.0%",
            "0.0%",
            "0.0%",
            "0.0%",
            "0.0%",
            "0.0%",
            "16.05%",
            "0.0%",
            "0.0%",
            "0.0%",
            "0.0%",
            "0.0%",
            "0.0%",
            "0.0%",
            "0.0%",
            "0.0%",
            "0.0%",
            "0.0%",
            "0.0%",
            "0.0%",
            "0.0%",
            "0.0%",
            "0.33%",
            "0.0%",
            "0.0%",
            "0.0%",
            "0.0%",
            "0.0%",
            "0.0%",
            "0.0%",
            "0.0%",
            "0.0%",
            "0.0%",
            "0.0%",
            "0.0%",
            "0.0%",
            "103.01%",
            "0.0%",
            "0.0%",
            "0.0%",
            "0.0%",
            "0.0%",
            "0.0%",
            "0.0%",
            "0.0%",
            "0.0%",
            "0.0%",
            "0.0%",
            "0.0%",
            "0.0%",
            "0.0%",
            "0.0%",
            "2.15%",
            "0.0%",
            "0.0%",
            "0.0%",
            "0.0%",
            "0.0%",
            "0.0%",
            "0.0%",
            "0.0%",
            "0.0%",
            "0.0%",
            "0.0%",
            "0.0%",
            "0.0%",
            "10.64%",
            "0.0%",
            "0.0%",
            "0.0%",
            "0.0%",
            "0.0%",
            "0.0%",
            "0.0%",
            "0.0%",
            "0.0%",
            "0.0%",
            "0.0%",
            "0.0%",
            "0.0%",
            "0.0%",
            "0.0%",
            "0.22%",
            "0.0%",
            "0.0%",
            "0.0%",
            "0.0%",
            "0.0%",
            "0.0%",
            "0.0%",
            "0.0%",
            "0.0%",
            "0.0%",
            "0.0%",
            "0.0%",
            "0.0%",
            "2.45%",
            "0.0%",
            "0.0%",
            "0.0%",
            "0.0%",
            "0.0%",
            "0.0%",
            "0.0%",
            "0.0%",
            "0.0%",
            "0.0%",
            "0.0%",
            "0.0%",
            "0.0%",
            "0.0%",
            "0.0%",
            "0.05%",
            "0.0%",
            "0.0%",
            "0.0%",
            "0.0%",
            "0.0%",
            "0.0%",
            "0.0%",
            "0.0%",
            "0.0%",
            "0.0%",
            "0.0%",
            "0.0%",
            "0.0%",
            "19.79%",
            "0.0%",
            "0.0%",
            "0.0%",
            "0.0%",
            "0.0%",
            "0.0%",
            "0.0%",
            "0.0%",
            "0.0%",
            "0.0%",
            "0.0%",
            "0.0%",
            "0.0%",
            "0.0%",
            "0.0%",
            "0.41%",
            "0.0%",
            "0.0%",
            "0.0%",
            "0.0%",
            "0.0%",
            "0.0%",
            "0.0%",
            "0.0%",
            "0.0%",
            "0.0%",
            "0.0%",
            "0.0%",
            "0.0%",
            "1.52%",
            "0.0%",
            "0.0%",
            "0.0%",
            "0.0%",
            "0.0%",
            "0.0%",
            "0.0%",
            "0.0%",
            "0.0%",
            "0.0%",
            "0.0%",
            "0.0%",
            "0.0%",
            "0.0%",
            "0.0%",
            "0.03%",
            "0.0%",
            "0.0%",
            "0.0%",
            "0.0%",
            "0.0%",
            "0.0%",
            "0.0%",
            "0.0%",
            "0.0%",
            "0.0%",
            "0.0%",
            "0.0%",
            "0.0%",
            "38.67%",
            "0.0%",
            "0.0%",
            "0.0%",
            "0.0%",
            "0.0%",
            "0.0%",
            "0.0%",
            "0.0%",
            "0.0%",
            "0.0%",
            "0.0%",
            "0.0%",
            "0.0%",
            "0.0%",
            "0.0%",
            "0.81%",
            "0.0%",
            "0.0%",
            "0.0%",
            "0.0%",
            "0.0%",
            "0.0%",
            "0.0%",
            "0.0%",
            "0.0%",
            "0.0%",
            "0.0%",
            "0.0%",
            "0.0%",
            "12.57%",
            "0.0%",
            "0.0%",
            "0.0%",
            "0.0%",
            "0.0%",
            "0.0%",
            "0.0%",
            "0.0%",
            "0.0%",
            "0.0%",
            "0.0%",
            "0.0%",
            "0.0%",
            "0.0%",
            "0.0%",
            "0.26%",
            "0.0%",
            "0.0%",
            "0.0%",
            "0.0%",
            "0.0%",
            "0.0%",
            "0.0%",
            "0.0%",
            "0.0%",
            "0.0%",
            "0.0%",
            "0.0%",
            "0.0%",
            "19.88%",
            "0.0%",
            "0.0%",
            "0.0%",
            "0.0%",
            "0.0%",
            "0.0%",
            "0.0%",
            "0.0%",
            "0.0%",
            "0.0%",
            "0.0%",
            "0.0%",
            "0.0%",
            "0.0%",
            "0.0%",
            "0.41%",
            "0.0%",
            "0.0%",
            "0.0%",
            "0.0%",
            "0.0%",
            "0.0%",
            "0.0%",
            "0.0%",
            "0.0%",
            "0.0%",
            "0.0%",
            "0.0%",
            "0.0%",
            "273.54%",
            "0.0%",
            "0.0%",
            "0.0%",
            "0.0%",
            "0.0%",
            "0.0%",
            "0.0%",
            "0.0%",
            "0.0%",
            "0.0%",
            "0.0%",
            "0.0%",
            "0.0%",
            "0.0%",
            "0.0%",
            "5.7%",
            "0.0%",
            "0.0%",
            "0.0%",
            "0.0%",
            "0.0%",
            "0.0%",
            "0.0%",
            "0.0%",
            "0.0%",
            "0.0%",
            "0.0%",
            "0.0%",
            "0.0%",
            "1.73%",
            "0.0%",
            "0.0%",
            "0.0%",
            "0.0%",
            "0.0%",
            "0.0%",
            "0.0%",
            "0.0%",
            "0.0%",
            "0.0%",
            "0.0%",
            "0.0%",
            "0.0%",
            "0.0%",
            "0.0%",
            "0.04%",
            "0.0%",
            "0.0%",
            "0.0%",
            "0.0%",
            "0.0%",
            "0.0%",
            "0.0%",
            "0.0%",
            "0.0%",
            "0.0%",
            "0.0%",
            "0.0%",
            "0.0%",
            "2981.95%",
            "0.0%",
            "0.0%",
            "0.0%",
            "0.0%",
            "0.0%",
            "0.0%",
            "0.0%",
            "0.0%",
            "0.0%",
            "0.0%",
            "0.0%",
            "0.0%",
            "0.0%",
            "0.0%",
            "0.0%",
            "62.18%",
            "0.0%",
            "0.0%",
            "0.0%",
            "0.0%",
            "0.0%",
            "0.0%",
            "0.0%",
            "0.0%",
            "0.0%",
            "0.0%",
            "0.0%",
            "0.0%",
            "0.0%",
            "45.64%",
            "0.0%",
            "0.0%",
            "0.0%",
            "0.0%",
            "0.0%",
            "0.0%",
            "0.0%",
            "0.0%",
            "0.0%",
            "0.0%",
            "0.0%",
            "0.0%",
            "0.0%",
            "0.0%",
            "0.0%",
            "0.95%",
            "0.0%",
            "0.0%",
            "0.0%",
            "0.0%",
            "0.0%",
            "0.0%",
            "0.0%",
            "0.0%",
            "0.0%",
            "0.0%",
            "0.0%",
            "0.0%",
            "0.0%",
            "183.93%",
            "0.0%",
            "0.0%",
            "0.0%",
            "0.0%",
            "0.0%",
            "0.0%",
            "0.0%",
            "0.0%",
            "0.0%",
            "0.0%",
            "0.0%",
            "0.0%",
            "0.0%",
            "0.0%",
            "0.0%",
            "3.84%",
            "0.0%",
            "0.0%",
            "0.0%",
            "0.0%",
            "0.0%",
            "0.0%",
            "0.0%",
            "0.0%",
            "0.0%",
            "0.0%",
            "0.0%",
            "0.0%",
            "0.0%",
            "77.67%",
            "0.0%",
            "0.0%",
            "0.0%",
            "0.0%",
            "0.0%",
            "0.0%",
            "0.0%",
            "0.0%",
            "0.0%",
            "0.0%",
            "0.0%",
            "0.0%",
            "0.0%",
            "0.0%",
            "0.0%",
            "1.62%",
            "0.0%",
            "0.0%",
            "0.0%",
            "0.0%",
            "0.0%",
            "0.0%",
            "0.0%",
            "0.0%",
            "0.0%",
            "0.0%",
            "0.0%",
            "0.0%",
            "0.0%",
            "179.94%",
            "0.0%",
            "0.0%",
            "0.0%",
            "0.0%",
            "0.0%",
            "0.0%",
            "0.0%",
            "0.0%",
            "0.0%",
            "0.0%",
            "0.0%",
            "0.0%",
            "0.0%",
            "0.0%",
            "0.0%",
            "3.75%",
            "0.0%",
            "0.0%",
            "0.0%",
            "0.0%",
            "0.0%",
            "0.0%",
            "0.0%",
            "0.0%",
            "0.0%",
            "0.0%",
            "0.0%",
            "0.0%",
            "0.0%",
            "6.46%",
            "0.0%",
            "0.0%",
            "0.0%",
            "0.0%",
            "0.0%",
            "0.0%",
            "0.0%",
            "0.0%",
            "0.0%",
            "0.0%",
            "0.0%",
            "0.0%",
            "0.0%",
            "0.0%",
            "0.0%",
            "0.13%",
            "0.0%",
            "0.0%",
            "0.0%",
            "0.0%",
            "0.0%",
            "0.0%",
            "0.0%",
            "0.0%",
            "0.0%",
            "0.0%",
            "0.0%",
            "0.0%",
            "0.0%",
            "19.38%",
            "0.0%",
            "0.0%",
            "0.0%",
            "0.0%",
            "0.0%",
            "0.0%",
            "0.0%",
            "0.0%",
            "0.0%",
            "0.0%",
            "0.0%",
            "0.0%",
            "0.0%",
            "0.0%",
            "0.0%",
            "0.4%",
            "0.0%",
            "0.0%",
            "0.0%",
            "0.0%",
            "0.0%",
            "0.0%",
            "0.0%",
            "0.0%",
            "0.0%",
            "0.0%",
            "0.0%",
            "0.0%",
            "0.0%",
            "4.05%",
            "0.0%",
            "0.0%",
            "0.0%",
            "0.0%",
            "0.0%",
            "0.0%",
            "0.0%",
            "0.0%",
            "0.0%",
            "0.0%",
            "0.0%",
            "0.0%",
            "0.0%",
            "0.0%",
            "0.0%",
            "0.08%",
            "0.0%",
            "0.0%",
            "0.0%",
            "0.0%",
            "0.0%",
            "0.0%",
            "0.0%",
            "0.0%",
            "0.0%",
            "0.0%",
            "0.0%",
            "0.0%",
            "0.0%",
            "9.75%",
            "0.0%",
            "0.0%",
            "0.0%",
            "0.0%",
            "0.0%",
            "0.0%",
            "0.0%",
            "0.0%",
            "0.0%",
            "0.0%",
            "0.0%",
            "0.0%",
            "0.0%",
            "0.0%",
            "0.0%",
            "0.2%",
            "0.0%",
            "0.0%",
            "0.0%",
            "0.0%",
            "0.0%",
            "0.0%",
            "0.0%",
            "0.0%",
            "0.0%",
            "0.0%",
            "0.0%",
            "0.0%",
            "0.0%",
            "12.42%",
            "0.0%",
            "0.0%",
            "0.0%",
            "0.0%",
            "0.0%",
            "0.0%",
            "0.0%",
            "0.0%",
            "0.0%",
            "0.0%",
            "0.0%",
            "0.0%",
            "0.0%",
            "0.0%",
            "0.0%",
            "0.26%",
            "0.0%",
            "0.0%",
            "0.0%",
            "0.0%",
            "0.0%",
            "0.0%",
            "0.0%",
            "0.0%",
            "0.0%",
            "0.0%",
            "0.0%",
            "0.0%",
            "0.0%",
            "10.87%",
            "0.0%",
            "0.0%",
            "0.0%",
            "0.0%",
            "0.0%",
            "0.0%",
            "0.0%",
            "0.0%",
            "0.0%",
            "0.0%",
            "0.0%",
            "0.0%",
            "0.0%",
            "0.0%",
            "0.0%",
            "0.23%",
            "0.0%",
            "0.0%",
            "0.0%",
            "0.0%",
            "0.0%",
            "0.0%",
            "0.0%",
            "0.0%",
            "0.0%",
            "0.0%",
            "0.0%",
            "0.0%",
            "0.0%",
            "67.58%",
            "0.0%",
            "0.0%",
            "0.0%",
            "0.0%",
            "0.0%",
            "0.0%",
            "0.0%",
            "0.0%",
            "0.0%",
            "0.0%",
            "0.0%",
            "0.0%",
            "0.0%",
            "0.0%",
            "0.0%",
            "1.41%",
            "0.0%",
            "0.0%",
            "0.0%",
            "0.0%",
            "0.0%",
            "0.0%",
            "0.0%",
            "0.0%",
            "0.0%",
            "0.0%",
            "0.0%",
            "0.0%",
            "0.0%",
            "30.02%",
            "0.0%",
            "0.0%",
            "0.0%",
            "0.0%",
            "0.0%",
            "0.0%",
            "0.0%",
            "0.0%",
            "0.0%",
            "0.0%",
            "0.0%",
            "0.0%",
            "0.0%",
            "0.0%",
            "0.0%",
            "0.63%"
           ]
          ]
         },
         "columnwidth": [
          15,
          20,
          20,
          20,
          20,
          20,
          20,
          20
         ],
         "header": {
          "align": [
           "center",
           "center",
           "center",
           "center",
           "center",
           "center",
           "center",
           "center"
          ],
          "fill": {
           "color": [
            "#393B45"
           ]
          },
          "font": {
           "color": "#F4F4F8",
           "size": 15
          },
          "height": 30,
          "line": {
           "color": "white"
          },
          "values": [
           "<b>Country</b>",
           "<b>Johnson & Johnson (%)</b>",
           "<b>AstraZeneca (%)</b>",
           "<b>Comirnaty Pfizer (%)</b>",
           "<b>Moderna (%)</b>",
           "<b>Inactivated (%)</b>",
           "<b>Sputnik (%)</b>"
          ]
         },
         "type": "table"
        }
       ],
       "layout": {
        "height": 1220,
        "template": {
         "data": {
          "bar": [
           {
            "error_x": {
             "color": "#2a3f5f"
            },
            "error_y": {
             "color": "#2a3f5f"
            },
            "marker": {
             "line": {
              "color": "#E5ECF6",
              "width": 0.5
             },
             "pattern": {
              "fillmode": "overlay",
              "size": 10,
              "solidity": 0.2
             }
            },
            "type": "bar"
           }
          ],
          "barpolar": [
           {
            "marker": {
             "line": {
              "color": "#E5ECF6",
              "width": 0.5
             },
             "pattern": {
              "fillmode": "overlay",
              "size": 10,
              "solidity": 0.2
             }
            },
            "type": "barpolar"
           }
          ],
          "carpet": [
           {
            "aaxis": {
             "endlinecolor": "#2a3f5f",
             "gridcolor": "white",
             "linecolor": "white",
             "minorgridcolor": "white",
             "startlinecolor": "#2a3f5f"
            },
            "baxis": {
             "endlinecolor": "#2a3f5f",
             "gridcolor": "white",
             "linecolor": "white",
             "minorgridcolor": "white",
             "startlinecolor": "#2a3f5f"
            },
            "type": "carpet"
           }
          ],
          "choropleth": [
           {
            "colorbar": {
             "outlinewidth": 0,
             "ticks": ""
            },
            "type": "choropleth"
           }
          ],
          "contour": [
           {
            "colorbar": {
             "outlinewidth": 0,
             "ticks": ""
            },
            "colorscale": [
             [
              0,
              "#0d0887"
             ],
             [
              0.1111111111111111,
              "#46039f"
             ],
             [
              0.2222222222222222,
              "#7201a8"
             ],
             [
              0.3333333333333333,
              "#9c179e"
             ],
             [
              0.4444444444444444,
              "#bd3786"
             ],
             [
              0.5555555555555556,
              "#d8576b"
             ],
             [
              0.6666666666666666,
              "#ed7953"
             ],
             [
              0.7777777777777778,
              "#fb9f3a"
             ],
             [
              0.8888888888888888,
              "#fdca26"
             ],
             [
              1,
              "#f0f921"
             ]
            ],
            "type": "contour"
           }
          ],
          "contourcarpet": [
           {
            "colorbar": {
             "outlinewidth": 0,
             "ticks": ""
            },
            "type": "contourcarpet"
           }
          ],
          "heatmap": [
           {
            "colorbar": {
             "outlinewidth": 0,
             "ticks": ""
            },
            "colorscale": [
             [
              0,
              "#0d0887"
             ],
             [
              0.1111111111111111,
              "#46039f"
             ],
             [
              0.2222222222222222,
              "#7201a8"
             ],
             [
              0.3333333333333333,
              "#9c179e"
             ],
             [
              0.4444444444444444,
              "#bd3786"
             ],
             [
              0.5555555555555556,
              "#d8576b"
             ],
             [
              0.6666666666666666,
              "#ed7953"
             ],
             [
              0.7777777777777778,
              "#fb9f3a"
             ],
             [
              0.8888888888888888,
              "#fdca26"
             ],
             [
              1,
              "#f0f921"
             ]
            ],
            "type": "heatmap"
           }
          ],
          "heatmapgl": [
           {
            "colorbar": {
             "outlinewidth": 0,
             "ticks": ""
            },
            "colorscale": [
             [
              0,
              "#0d0887"
             ],
             [
              0.1111111111111111,
              "#46039f"
             ],
             [
              0.2222222222222222,
              "#7201a8"
             ],
             [
              0.3333333333333333,
              "#9c179e"
             ],
             [
              0.4444444444444444,
              "#bd3786"
             ],
             [
              0.5555555555555556,
              "#d8576b"
             ],
             [
              0.6666666666666666,
              "#ed7953"
             ],
             [
              0.7777777777777778,
              "#fb9f3a"
             ],
             [
              0.8888888888888888,
              "#fdca26"
             ],
             [
              1,
              "#f0f921"
             ]
            ],
            "type": "heatmapgl"
           }
          ],
          "histogram": [
           {
            "marker": {
             "pattern": {
              "fillmode": "overlay",
              "size": 10,
              "solidity": 0.2
             }
            },
            "type": "histogram"
           }
          ],
          "histogram2d": [
           {
            "colorbar": {
             "outlinewidth": 0,
             "ticks": ""
            },
            "colorscale": [
             [
              0,
              "#0d0887"
             ],
             [
              0.1111111111111111,
              "#46039f"
             ],
             [
              0.2222222222222222,
              "#7201a8"
             ],
             [
              0.3333333333333333,
              "#9c179e"
             ],
             [
              0.4444444444444444,
              "#bd3786"
             ],
             [
              0.5555555555555556,
              "#d8576b"
             ],
             [
              0.6666666666666666,
              "#ed7953"
             ],
             [
              0.7777777777777778,
              "#fb9f3a"
             ],
             [
              0.8888888888888888,
              "#fdca26"
             ],
             [
              1,
              "#f0f921"
             ]
            ],
            "type": "histogram2d"
           }
          ],
          "histogram2dcontour": [
           {
            "colorbar": {
             "outlinewidth": 0,
             "ticks": ""
            },
            "colorscale": [
             [
              0,
              "#0d0887"
             ],
             [
              0.1111111111111111,
              "#46039f"
             ],
             [
              0.2222222222222222,
              "#7201a8"
             ],
             [
              0.3333333333333333,
              "#9c179e"
             ],
             [
              0.4444444444444444,
              "#bd3786"
             ],
             [
              0.5555555555555556,
              "#d8576b"
             ],
             [
              0.6666666666666666,
              "#ed7953"
             ],
             [
              0.7777777777777778,
              "#fb9f3a"
             ],
             [
              0.8888888888888888,
              "#fdca26"
             ],
             [
              1,
              "#f0f921"
             ]
            ],
            "type": "histogram2dcontour"
           }
          ],
          "mesh3d": [
           {
            "colorbar": {
             "outlinewidth": 0,
             "ticks": ""
            },
            "type": "mesh3d"
           }
          ],
          "parcoords": [
           {
            "line": {
             "colorbar": {
              "outlinewidth": 0,
              "ticks": ""
             }
            },
            "type": "parcoords"
           }
          ],
          "pie": [
           {
            "automargin": true,
            "type": "pie"
           }
          ],
          "scatter": [
           {
            "marker": {
             "colorbar": {
              "outlinewidth": 0,
              "ticks": ""
             }
            },
            "type": "scatter"
           }
          ],
          "scatter3d": [
           {
            "line": {
             "colorbar": {
              "outlinewidth": 0,
              "ticks": ""
             }
            },
            "marker": {
             "colorbar": {
              "outlinewidth": 0,
              "ticks": ""
             }
            },
            "type": "scatter3d"
           }
          ],
          "scattercarpet": [
           {
            "marker": {
             "colorbar": {
              "outlinewidth": 0,
              "ticks": ""
             }
            },
            "type": "scattercarpet"
           }
          ],
          "scattergeo": [
           {
            "marker": {
             "colorbar": {
              "outlinewidth": 0,
              "ticks": ""
             }
            },
            "type": "scattergeo"
           }
          ],
          "scattergl": [
           {
            "marker": {
             "colorbar": {
              "outlinewidth": 0,
              "ticks": ""
             }
            },
            "type": "scattergl"
           }
          ],
          "scattermapbox": [
           {
            "marker": {
             "colorbar": {
              "outlinewidth": 0,
              "ticks": ""
             }
            },
            "type": "scattermapbox"
           }
          ],
          "scatterpolar": [
           {
            "marker": {
             "colorbar": {
              "outlinewidth": 0,
              "ticks": ""
             }
            },
            "type": "scatterpolar"
           }
          ],
          "scatterpolargl": [
           {
            "marker": {
             "colorbar": {
              "outlinewidth": 0,
              "ticks": ""
             }
            },
            "type": "scatterpolargl"
           }
          ],
          "scatterternary": [
           {
            "marker": {
             "colorbar": {
              "outlinewidth": 0,
              "ticks": ""
             }
            },
            "type": "scatterternary"
           }
          ],
          "surface": [
           {
            "colorbar": {
             "outlinewidth": 0,
             "ticks": ""
            },
            "colorscale": [
             [
              0,
              "#0d0887"
             ],
             [
              0.1111111111111111,
              "#46039f"
             ],
             [
              0.2222222222222222,
              "#7201a8"
             ],
             [
              0.3333333333333333,
              "#9c179e"
             ],
             [
              0.4444444444444444,
              "#bd3786"
             ],
             [
              0.5555555555555556,
              "#d8576b"
             ],
             [
              0.6666666666666666,
              "#ed7953"
             ],
             [
              0.7777777777777778,
              "#fb9f3a"
             ],
             [
              0.8888888888888888,
              "#fdca26"
             ],
             [
              1,
              "#f0f921"
             ]
            ],
            "type": "surface"
           }
          ],
          "table": [
           {
            "cells": {
             "fill": {
              "color": "#EBF0F8"
             },
             "line": {
              "color": "white"
             }
            },
            "header": {
             "fill": {
              "color": "#C8D4E3"
             },
             "line": {
              "color": "white"
             }
            },
            "type": "table"
           }
          ]
         },
         "layout": {
          "annotationdefaults": {
           "arrowcolor": "#2a3f5f",
           "arrowhead": 0,
           "arrowwidth": 1
          },
          "autotypenumbers": "strict",
          "coloraxis": {
           "colorbar": {
            "outlinewidth": 0,
            "ticks": ""
           }
          },
          "colorscale": {
           "diverging": [
            [
             0,
             "#8e0152"
            ],
            [
             0.1,
             "#c51b7d"
            ],
            [
             0.2,
             "#de77ae"
            ],
            [
             0.3,
             "#f1b6da"
            ],
            [
             0.4,
             "#fde0ef"
            ],
            [
             0.5,
             "#f7f7f7"
            ],
            [
             0.6,
             "#e6f5d0"
            ],
            [
             0.7,
             "#b8e186"
            ],
            [
             0.8,
             "#7fbc41"
            ],
            [
             0.9,
             "#4d9221"
            ],
            [
             1,
             "#276419"
            ]
           ],
           "sequential": [
            [
             0,
             "#0d0887"
            ],
            [
             0.1111111111111111,
             "#46039f"
            ],
            [
             0.2222222222222222,
             "#7201a8"
            ],
            [
             0.3333333333333333,
             "#9c179e"
            ],
            [
             0.4444444444444444,
             "#bd3786"
            ],
            [
             0.5555555555555556,
             "#d8576b"
            ],
            [
             0.6666666666666666,
             "#ed7953"
            ],
            [
             0.7777777777777778,
             "#fb9f3a"
            ],
            [
             0.8888888888888888,
             "#fdca26"
            ],
            [
             1,
             "#f0f921"
            ]
           ],
           "sequentialminus": [
            [
             0,
             "#0d0887"
            ],
            [
             0.1111111111111111,
             "#46039f"
            ],
            [
             0.2222222222222222,
             "#7201a8"
            ],
            [
             0.3333333333333333,
             "#9c179e"
            ],
            [
             0.4444444444444444,
             "#bd3786"
            ],
            [
             0.5555555555555556,
             "#d8576b"
            ],
            [
             0.6666666666666666,
             "#ed7953"
            ],
            [
             0.7777777777777778,
             "#fb9f3a"
            ],
            [
             0.8888888888888888,
             "#fdca26"
            ],
            [
             1,
             "#f0f921"
            ]
           ]
          },
          "colorway": [
           "#636efa",
           "#EF553B",
           "#00cc96",
           "#ab63fa",
           "#FFA15A",
           "#19d3f3",
           "#FF6692",
           "#B6E880",
           "#FF97FF",
           "#FECB52"
          ],
          "font": {
           "color": "#2a3f5f"
          },
          "geo": {
           "bgcolor": "white",
           "lakecolor": "white",
           "landcolor": "#E5ECF6",
           "showlakes": true,
           "showland": true,
           "subunitcolor": "white"
          },
          "hoverlabel": {
           "align": "left"
          },
          "hovermode": "closest",
          "mapbox": {
           "style": "light"
          },
          "paper_bgcolor": "white",
          "plot_bgcolor": "#E5ECF6",
          "polar": {
           "angularaxis": {
            "gridcolor": "white",
            "linecolor": "white",
            "ticks": ""
           },
           "bgcolor": "#E5ECF6",
           "radialaxis": {
            "gridcolor": "white",
            "linecolor": "white",
            "ticks": ""
           }
          },
          "scene": {
           "xaxis": {
            "backgroundcolor": "#E5ECF6",
            "gridcolor": "white",
            "gridwidth": 2,
            "linecolor": "white",
            "showbackground": true,
            "ticks": "",
            "zerolinecolor": "white"
           },
           "yaxis": {
            "backgroundcolor": "#E5ECF6",
            "gridcolor": "white",
            "gridwidth": 2,
            "linecolor": "white",
            "showbackground": true,
            "ticks": "",
            "zerolinecolor": "white"
           },
           "zaxis": {
            "backgroundcolor": "#E5ECF6",
            "gridcolor": "white",
            "gridwidth": 2,
            "linecolor": "white",
            "showbackground": true,
            "ticks": "",
            "zerolinecolor": "white"
           }
          },
          "shapedefaults": {
           "line": {
            "color": "#2a3f5f"
           }
          },
          "ternary": {
           "aaxis": {
            "gridcolor": "white",
            "linecolor": "white",
            "ticks": ""
           },
           "baxis": {
            "gridcolor": "white",
            "linecolor": "white",
            "ticks": ""
           },
           "bgcolor": "#E5ECF6",
           "caxis": {
            "gridcolor": "white",
            "linecolor": "white",
            "ticks": ""
           }
          },
          "title": {
           "x": 0.05
          },
          "xaxis": {
           "automargin": true,
           "gridcolor": "white",
           "linecolor": "white",
           "ticks": "",
           "title": {
            "standoff": 15
           },
           "zerolinecolor": "white",
           "zerolinewidth": 2
          },
          "yaxis": {
           "automargin": true,
           "gridcolor": "white",
           "linecolor": "white",
           "ticks": "",
           "title": {
            "standoff": 15
           },
           "zerolinecolor": "white",
           "zerolinewidth": 2
          }
         }
        },
        "width": 1020
       }
      }
     },
     "metadata": {},
     "output_type": "display_data"
    }
   ],
   "source": [
    "overallVaccine_Table_2021_perc = go.Figure(data=[go.Table( columnwidth = [15,20,20, 20,20,20,20,20],\n",
    "                                header=dict(values=['<b>Country</b>','<b>Johnson & Johnson (%)</b>', '<b>AstraZeneca (%)</b>', '<b>Comirnaty Pfizer (%)</b>' , '<b>Moderna (%)</b>', '<b>Inactivated (%)</b>', '<b>Sputnik (%)</b>'], \n",
    "                                # Appereance\n",
    "                                        line_color='white',\n",
    "                                        fill=dict(color=[palette_table[3]]),\n",
    "                                        align=['center', 'center', 'center', 'center', 'center','center', 'center', 'center'],\n",
    "                                        font=dict(color=palette_table[2], size=15),\n",
    "                                        height=30 \n",
    "                                ),\n",
    "                                cells=dict(values=[\n",
    "                                                    [iso for iso in ISO],\n",
    "                                                    janssPercs,\n",
    "                                                    azPercs,\n",
    "                                                    comPercs,\n",
    "                                                    modPercs,\n",
    "                                                    becnbg,\n",
    "                                                    spuPerc\n",
    "                                ],\n",
    "                                        # Appereance\n",
    "                                                line_color='white',\n",
    "                                                fill=dict(color=[palette_table[2], palette_table[2], palette_table[2], palette_table[2], palette_table[2], palette_table[2], palette_table[2], palette_table[2]]),\n",
    "                                                align=['center', 'center', 'center', 'center', 'center','center', 'center', 'center'],\n",
    "                                                font=dict(color=palette_table[3], size=11),\n",
    "                                                height=30                               \n",
    "                                            )                                                  \n",
    "                                )\n",
    "                     ])\n",
    "\n",
    "overallVaccine_Table_2021_perc.update_layout(height=1220, width=1020)"
   ]
  },
  {
   "cell_type": "code",
   "execution_count": null,
   "metadata": {},
   "outputs": [],
   "source": []
  }
 ],
 "metadata": {
  "interpreter": {
   "hash": "40d3a090f54c6569ab1632332b64b2c03c39dcf918b08424e98f38b5ae0af88f"
  },
  "kernelspec": {
   "display_name": "Python 3.8.8 64-bit ('base': conda)",
   "name": "python3"
  },
  "language_info": {
   "codemirror_mode": {
    "name": "ipython",
    "version": 3
   },
   "file_extension": ".py",
   "mimetype": "text/x-python",
   "name": "python",
   "nbconvert_exporter": "python",
   "pygments_lexer": "ipython3",
   "version": "3.8.8"
  },
  "orig_nbformat": 4
 },
 "nbformat": 4,
 "nbformat_minor": 2
}

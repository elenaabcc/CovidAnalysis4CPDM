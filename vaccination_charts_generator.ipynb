{
 "cells": [
  {
   "cell_type": "code",
   "execution_count": 2,
   "metadata": {},
   "outputs": [],
   "source": [
    "from vaccination_etl_dataframe import *\n",
    "from plotly.subplots import make_subplots\n",
    "import plotly.graph_objects as go"
   ]
  },
  {
   "cell_type": "markdown",
   "metadata": {},
   "source": [
    "## BAR CHART"
   ]
  },
  {
   "cell_type": "code",
   "execution_count": 11,
   "metadata": {},
   "outputs": [
    {
     "name": "stdout",
     "output_type": "stream",
     "text": [
      "Stored 'overallVaccine_BarChart_2021' (Figure)\n"
     ]
    }
   ],
   "source": [
    "# Create a list of all the tyoe of vaccine \n",
    "vaccineTypes = ['AZ', 'COM', 'JANSS', 'MOD', 'UNK', 'BECNBG', 'SPU']\n",
    "\n",
    "\n",
    "# _____________________________________CREATE BAR CHART ____________________________________________________________________________________________________________________________________________________\n",
    "\n",
    "overallVaccine_BarChart_2021 = go.Figure(data=[ \n",
    "    go.Bar(name=vaccine, x=data_covid19_ecdc_2021['ReportingCountry'].unique(), y=data_covid19_ecdc_2021[data_covid19_ecdc_2021['Vaccine']==vaccine]['TotDoses'] )for vaccine in vaccineTypes\n",
    "])\n",
    "\n",
    "overallVaccine_BarChart_2021.update_traces(marker_line_color='white',\n",
    "                  marker_line_width=1, \n",
    "                  opacity=0.6,) \n",
    "\n",
    "overallVaccine_BarChart_2021.update_layout(\n",
    "                barmode='stack',\n",
    "                height = 620,\n",
    "                title_text='Vaccine in 2021 overall',\n",
    "               )\n",
    "\n",
    "# ________________________________________________________________________________________________________________________________________________________________________________________\n",
    "\n",
    "#Storing the chart for Dashboard\n",
    "%store overallVaccine_BarChart_2021\n"
   ]
  },
  {
   "cell_type": "markdown",
   "metadata": {},
   "source": [
    "## TABLE"
   ]
  },
  {
   "cell_type": "code",
   "execution_count": 13,
   "metadata": {},
   "outputs": [
    {
     "name": "stdout",
     "output_type": "stream",
     "text": [
      "Stored 'overallVaccine_Table_2021' (Figure)\n"
     ]
    }
   ],
   "source": [
    "# Create a list of all country based on its ISO code\n",
    "ISO = ['AT', 'BE', 'BG', 'CY', 'CZ', 'DE', 'DK', 'EE', 'EL', 'ES', 'FI', 'FR', 'HR', 'HU', 'IE', 'IS', 'IT', \n",
    "        'LI', 'LT', 'LU', 'LV', 'MT', 'NL', 'NO', 'PL', 'PT', 'RO', 'SE', 'SI', 'SK']\n",
    "\n",
    "# Create a list of total vacccination of each country (sum of all the type of vaccine for all the 2021)\n",
    "totalVaccine_table = data_covid19_ecdc_2021.groupby(['ReportingCountry'], as_index=False)['TotDoses'].sum()\n",
    "totalVaccine_table.drop(['ReportingCountry'], axis=1, inplace=True)\n",
    "totalVaccine_table = totalVaccine_table.TotDoses.tolist()\n",
    "\n",
    "# Not all the country has all the type of vaccine. Next this issue is solved.\n",
    "data_covid19_ecdc_2021_bazinga = (data_covid19_ecdc_2021.set_index(['ReportingCountry','Vaccine'])['TotDoses']\n",
    "        .unstack(fill_value=0)\n",
    "        .stack()\n",
    "        .reset_index(name='TotDoses'))\n",
    "\n",
    "# Palette to generate table\n",
    "palette_table = ['#eae3db','#f2f2f2','#F4F4F8', '#393B45', '#dac9c1']\n",
    "\n",
    "# _____________________________________CREATE TABLE ____________________________________________________________________________________________________________________________________________________\n",
    "\n",
    "overallVaccine_Table_2021 = go.Figure(data=[go.Table( columnwidth = [15,20,20, 20,20,20,20,20],\n",
    "                                header=dict(values=['<b>Country</b>', '<b>Total Vaccine</b>','<b>Johnson & Johnson</b>', '<b>AstraZeneca</b>', '<b>Comirnaty Pfizer</b>' , '<b>Moderna</b>', '<b>Inactivated </b>', '<b>Sputnik</b>'], \n",
    "                                # Appereance\n",
    "                                        line_color='white',\n",
    "                                        fill=dict(color=[palette_table[3]]),\n",
    "                                        align=['center', 'center', 'center', 'center', 'center','center', 'center', 'center'],\n",
    "                                        font=dict(color=palette_table[2], size=15),\n",
    "                                        height=30 \n",
    "                                ),\n",
    "                                cells=dict(values=[\n",
    "                                                    [iso for iso in ISO],\n",
    "                                                    [value for value in totalVaccine_table],                                    \n",
    "                                                    [value for value in data_covid19_ecdc_2021_bazinga[data_covid19_ecdc_2021_bazinga['Vaccine']=='JANSS']['TotDoses']],\n",
    "                                                    [value for value in data_covid19_ecdc_2021_bazinga[data_covid19_ecdc_2021_bazinga['Vaccine']=='AZ']['TotDoses']],\n",
    "                                                    [value for value in data_covid19_ecdc_2021_bazinga[data_covid19_ecdc_2021_bazinga['Vaccine']=='COM']['TotDoses']],\n",
    "                                                    [value for value in data_covid19_ecdc_2021_bazinga[data_covid19_ecdc_2021_bazinga['Vaccine']=='MOD']['TotDoses']],\n",
    "                                                    [value for value in data_covid19_ecdc_2021_bazinga[data_covid19_ecdc_2021_bazinga['Vaccine']=='BECNBG']['TotDoses']],\n",
    "                                                    [value for value in data_covid19_ecdc_2021_bazinga[data_covid19_ecdc_2021_bazinga['Vaccine']=='SPU']['TotDoses']]], \n",
    "                                        # Appereance\n",
    "                                                line_color='white',\n",
    "                                                fill=dict(color=[palette_table[2], palette_table[2], palette_table[2], palette_table[2], palette_table[2], palette_table[2], palette_table[2], palette_table[2]]),\n",
    "                                                align=['center', 'center', 'center', 'center', 'center','center', 'center', 'center'],\n",
    "                                                font=dict(color=palette_table[3], size=11),\n",
    "                                                height=30                               \n",
    "                                            )                                                  \n",
    "                                )\n",
    "                     ])\n",
    "\n",
    "overallVaccine_Table_2021.update_layout(height=1220, width=1020)\n",
    "\n",
    "# ________________________________________________________________________________________________________________________________________________________________________________________\n",
    "\n",
    "#Storing the table for Dashboard\n",
    "%store overallVaccine_Table_2021\n"
   ]
  },
  {
   "cell_type": "code",
   "execution_count": 8,
   "metadata": {},
   "outputs": [
    {
     "data": {
      "text/plain": [
       "[15632904,\n",
       " 20265454,\n",
       " 3660609,\n",
       " 1489713,\n",
       " 14798155,\n",
       " 149794267,\n",
       " 11260744,\n",
       " 1754518,\n",
       " 16985604,\n",
       " 73661356,\n",
       " 9131777,\n",
       " 118528102,\n",
       " 4674238,\n",
       " 14377426,\n",
       " 9089709,\n",
       " 660737,\n",
       " 104558424,\n",
       " 60611,\n",
       " 3960482,\n",
       " 982677,\n",
       " 2326875,\n",
       " 1004427,\n",
       " 27968190,\n",
       " 9327692,\n",
       " 44681214,\n",
       " 18541403,\n",
       " 14551977,\n",
       " 16622447,\n",
       " 2674512,\n",
       " 6020340]"
      ]
     },
     "execution_count": 8,
     "metadata": {},
     "output_type": "execute_result"
    }
   ],
   "source": [
    "totalVaccine_table"
   ]
  },
  {
   "cell_type": "code",
   "execution_count": null,
   "metadata": {},
   "outputs": [],
   "source": []
  }
 ],
 "metadata": {
  "interpreter": {
   "hash": "40d3a090f54c6569ab1632332b64b2c03c39dcf918b08424e98f38b5ae0af88f"
  },
  "kernelspec": {
   "display_name": "Python 3.8.8 64-bit ('base': conda)",
   "name": "python3"
  },
  "language_info": {
   "codemirror_mode": {
    "name": "ipython",
    "version": 3
   },
   "file_extension": ".py",
   "mimetype": "text/x-python",
   "name": "python",
   "nbconvert_exporter": "python",
   "pygments_lexer": "ipython3",
   "version": "3.8.8"
  },
  "orig_nbformat": 4
 },
 "nbformat": 4,
 "nbformat_minor": 2
}

{
 "cells": [
  {
   "cell_type": "code",
   "execution_count": 1,
   "metadata": {},
   "outputs": [],
   "source": [
    "import pandas as pd\n",
    "\n",
    "import plotly\n",
    "from plotly.subplots import make_subplots\n",
    "\n",
    "import plotly.express as px\n",
    "import plotly.graph_objects as go\n",
    "\n",
    "from custom_charts import generateTimeSeriesChartOverYears\n",
    "\n"
   ]
  },
  {
   "cell_type": "markdown",
   "metadata": {},
   "source": [
    "# <span style=\"color:Orange\"> **Generate Time Series *pm10*** </span>\n"
   ]
  },
  {
   "cell_type": "markdown",
   "metadata": {},
   "source": [
    "### <span style=\"color:pink\"> **Romania** in *2019,2020 and 2021* </span>\n"
   ]
  },
  {
   "cell_type": "code",
   "execution_count": null,
   "metadata": {},
   "outputs": [
    {
     "name": "stdout",
     "output_type": "stream",
     "text": [
      "Stored 'timeSeries_RO_Bucharest' (Figure)\n"
     ]
    }
   ],
   "source": [
    "# Romania \n",
    "palette = ['#264653','#2a9d8f','#e9c46a','#f4a261','#e76f51']\n",
    "\n",
    "dataframesMatrix = [[p19Q1_RO_Bucharest, p19Q2_RO_Bucharest, p19Q3_RO_Bucharest, p19Q4_RO_Bucharest], [p20Q1_RO_Bucharest, p20Q2_RO_Bucharest, p20Q3_RO_Bucharest, p20Q4_RO_Bucharest], [p21Q1_RO_Bucharest, p21Q2_RO_Bucharest, p21Q3_RO_Bucharest, p21Q4_RO_Bucharest]]\n",
    "timeSeries_RO_Bucharest = generateTimeSeriesChartOverYears(dataframesMatrix, 'Date', 'max', palette)\n",
    "timeSeries_RO_Bucharest.update_layout(showlegend=False)\n",
    "%store timeSeries_RO_Bucharest"
   ]
  },
  {
   "cell_type": "markdown",
   "metadata": {},
   "source": [
    "### <span style=\"color:pink\"> **Italy** in *2019,2020 and 2021* </span>"
   ]
  },
  {
   "cell_type": "code",
   "execution_count": null,
   "metadata": {},
   "outputs": [
    {
     "name": "stdout",
     "output_type": "stream",
     "text": [
      "Stored 'timeSeries_IT_Rome' (Figure)\n"
     ]
    }
   ],
   "source": [
    "# Italy\n",
    "\n",
    "dataframesMatrix = [[p19Q1_IT_Rome, p19Q2_IT_Rome, p19Q3_IT_Rome, p19Q4_IT_Rome], [p20Q1_IT_Rome, p20Q2_IT_Rome, p20Q3_IT_Rome, p20Q4_IT_Rome], [p21Q1_IT_Rome, p21Q2_IT_Rome, p21Q3_IT_Rome, p21Q4_IT_Rome]]\n",
    "\n",
    "timeSeries_IT_Rome = generateTimeSeriesChartOverYears(dataframesMatrix, 'Date', 'max', palette)\n",
    "timeSeries_IT_Rome.update_layout(showlegend=False, title={'text': 'pm10 over years in Rome'})\n",
    "\n",
    "\n",
    "%store timeSeries_IT_Rome\n"
   ]
  },
  {
   "cell_type": "markdown",
   "metadata": {},
   "source": [
    "### <span style=\"color:pink\"> **Norway** in *2019,2020 and 2021* </span>\n"
   ]
  },
  {
   "cell_type": "markdown",
   "metadata": {},
   "source": [
    "# <span style=\"color:Orange\"> **Generate Table *pm10*** </span>"
   ]
  },
  {
   "cell_type": "markdown",
   "metadata": {},
   "source": [
    "### <span style=\"color:pink\"> **Romania** in *2019,2020 and 2021* </span>\n"
   ]
  },
  {
   "cell_type": "markdown",
   "metadata": {},
   "source": [
    "### <span style=\"color:pink\"> **Italy** in *2019,2020 and 2021* </span>\n"
   ]
  },
  {
   "cell_type": "markdown",
   "metadata": {},
   "source": [
    "### <span style=\"color:pink\"> **Norway** in *2019,2020 and 2021* </span>\n"
   ]
  },
  {
   "cell_type": "markdown",
   "metadata": {},
   "source": []
  }
 ],
 "metadata": {
  "interpreter": {
   "hash": "40d3a090f54c6569ab1632332b64b2c03c39dcf918b08424e98f38b5ae0af88f"
  },
  "kernelspec": {
   "display_name": "Python 3.8.8 64-bit ('base': conda)",
   "name": "python3"
  },
  "language_info": {
   "codemirror_mode": {
    "name": "ipython",
    "version": 3
   },
   "file_extension": ".py",
   "mimetype": "text/x-python",
   "name": "python",
   "nbconvert_exporter": "python",
   "pygments_lexer": "ipython3",
   "version": "3.8.8"
  },
  "orig_nbformat": 4
 },
 "nbformat": 4,
 "nbformat_minor": 2
}

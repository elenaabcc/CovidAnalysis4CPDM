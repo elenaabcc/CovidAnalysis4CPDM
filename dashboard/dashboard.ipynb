{
 "cells": [
  {
   "cell_type": "code",
   "execution_count": 29,
   "metadata": {},
   "outputs": [],
   "source": [
    "import os\n",
    "import glob\n",
    "import pandas as pd\n",
    "\n",
    "# Before to run this section run the follow line code to install plotly. \n",
    "# pip install plotly \n",
    "import plotly\n",
    "import plotly.express as px\n",
    "import plotly.graph_objects as go\n",
    "\n",
    "# pip install dash\n",
    "import dash\n",
    "from dash import html\n",
    "from dash import dcc\n",
    "from dash.dependencies import Input, Output\n"
   ]
  },
  {
   "cell_type": "code",
   "execution_count": 30,
   "metadata": {},
   "outputs": [],
   "source": [
    "%store -r overallVaccine_BarChart_2021\n",
    "%store -r overallVaccine_Table_2021"
   ]
  },
  {
   "cell_type": "code",
   "execution_count": 31,
   "metadata": {},
   "outputs": [],
   "source": [
    "%store -r cityTimeSeriesPM10\n",
    "%store -r cityTablePM10"
   ]
  },
  {
   "cell_type": "code",
   "execution_count": 32,
   "metadata": {},
   "outputs": [],
   "source": [
    "# Import from vaccination_charts_generator\n",
    "%store -r overallVaccine_BarChart_2021\n",
    "%store -r generalTableVaccine\n",
    "%store -r overallVaccine_Table_2021\n",
    "%store -r overallVaccine_Table_2021_perc\n",
    "%store -r pieChartVaccine"
   ]
  },
  {
   "cell_type": "code",
   "execution_count": 33,
   "metadata": {},
   "outputs": [],
   "source": [
    "# Import from pollution_charts_generator\n",
    "%store -r overallTable\n",
    "%store -r radarItaly\n",
    "%store -r radarRomania\n",
    "%store -r radarNorway"
   ]
  },
  {
   "cell_type": "code",
   "execution_count": 34,
   "metadata": {},
   "outputs": [],
   "source": [
    "# Initialize the Dashboard.\n",
    "app = dash.Dash()"
   ]
  },
  {
   "cell_type": "code",
   "execution_count": 35,
   "metadata": {},
   "outputs": [],
   "source": [
    "vaccinationChartsComponent = html.Div(children=[\n",
    "    html.H2(children='Vaccination analysis over UE', style={'textAlign': 'left','marginTop': 40, 'marginBottom': 40,'marginLeft': 60}),\n",
    "    html.H3(children='Bar Char of frequency vaccine in EU', style={'textAlign': 'left','marginTop': 40, 'marginBottom': 40,'marginLeft': 60}),\n",
    "    html.P(children='test', style={'textAlign': 'left','marginTop': 40, 'marginBottom': 40,'marginLeft': 60}),\n",
    "    dcc.Graph(figure = overallVaccine_BarChart_2021),\n",
    "    html.H3(children='Table of frequency vaccine in EU', style={'textAlign': 'left','marginTop': 40, 'marginBottom': 40,'marginLeft': 60}),\n",
    "    dcc.Graph(figure = generalTableVaccine),\n",
    "    html.H3(children='Quantity of vaccines per EU nation', style={'textAlign': 'left','marginTop': 40, 'marginBottom': 40,'marginLeft': 60}),\n",
    "    dcc.Graph(figure = overallVaccine_Table_2021),\n",
    "    html.H3(children='Quantity of vaccines in percent per eu country', style={'textAlign': 'left','marginTop': 40, 'marginBottom': 40,'marginLeft': 60}),\n",
    "    dcc.Graph(figure = overallVaccine_Table_2021_perc),\n",
    "    html.H3(children='Pie chart for vaccines in the EU', style={'textAlign': 'left','marginTop': 40, 'marginBottom': 40,'marginLeft': 60}),\n",
    "    dcc.Graph(figure = pieChartVaccine)\n",
    "])"
   ]
  },
  {
   "cell_type": "code",
   "execution_count": 36,
   "metadata": {},
   "outputs": [],
   "source": [
    "vaccinationFiguresComponent = html.Div(id='content', children =[\n",
    "    dcc.Graph(figure = overallVaccine_BarChart_2021),\n",
    "    dcc.Graph(figure = overallVaccine_Table_2021)\n",
    "])"
   ]
  },
  {
   "cell_type": "code",
   "execution_count": 37,
   "metadata": {},
   "outputs": [],
   "source": [
    "# Loop dictionaries and create html components\n",
    "citiesDataFigures = []\n",
    "for city, tSFig in cityTimeSeriesPM10.items():\n",
    "    cityComponents = []\n",
    "    cityComponents.append(html.H3(id=city+'Title', children=city, style={'textAlign': 'center'}))\n",
    "    cityComponents.append(dcc.Graph(figure = tSFig))\n",
    "    cityComponents.append(dcc.Graph(figure = cityTablePM10[city]))\n",
    "\n",
    "    cityAggregatedComponent = html.Div(id=city, children = cityComponents)\n",
    "    citiesDataFigures.append(cityAggregatedComponent)\n",
    "\n",
    "citiesDataFiguresComponent = html.Div(id = \"citiesDataFigures\", children = citiesDataFigures)"
   ]
  },
  {
   "cell_type": "code",
   "execution_count": 38,
   "metadata": {},
   "outputs": [],
   "source": [
    "pollutionChartsComponent = html.Div(children=[\n",
    "    html.H2(children='Pollution analysis', style={'textAlign': 'left','marginTop': 40, 'marginBottom': 40,'marginLeft': 60}),\n",
    "    html.H3(children='General tables for various pollution indicators', style={'textAlign': 'left','marginTop': 40, 'marginBottom': 40,'marginLeft': 60}),\n",
    "    dcc.Graph(figure = overallTable),\n",
    "    html.H3(children='Radar chart to compare the various pollution indicators for Italy.', style={'textAlign': 'left','marginTop': 40, 'marginBottom': 40,'marginLeft': 60}),\n",
    "    dcc.Graph(figure = radarItaly),\n",
    "    html.H3(children='Radar chart to compare the various pollution indicators for Romania.', style={'textAlign': 'left','marginTop': 40, 'marginBottom': 40,'marginLeft': 60}),\n",
    "    dcc.Graph(figure = radarRomania),\n",
    "    html.H3(children='Radar chart to compare the various pollution indicators for Norway.', style={'textAlign': 'left','marginTop': 40, 'marginBottom': 40,'marginLeft': 60}),\n",
    "    dcc.Graph(figure = radarNorway)\n",
    "])"
   ]
  },
  {
   "cell_type": "code",
   "execution_count": 39,
   "metadata": {},
   "outputs": [],
   "source": [
    "pollutionComponent = html.Div(id='pollution', children=[\n",
    "    html.H1(children='COVID-19 Dashboard', style={'textAlign': 'center',\n",
    "                                                           'marginTop': 40, 'marginBottom': 40}),\n",
    "    html.H2(children='Airborne Particulate trend over years', style={'textAlign': 'left',\n",
    "                                                                             'marginTop': 40, 'marginBottom': 40,\n",
    "                                                                             'marginLeft': 60}),\n",
    "    citiesDataFiguresComponent,\n",
    "])"
   ]
  },
  {
   "cell_type": "code",
   "execution_count": 40,
   "metadata": {},
   "outputs": [],
   "source": [
    "app.layout = html.Div(id='main', children=[\n",
    "    vaccinationChartsComponent,\n",
    "    pollutionChartsComponent,\n",
    "    pollutionComponent,\n",
    "])"
   ]
  },
  {
   "cell_type": "markdown",
   "metadata": {},
   "source": [
    "# <span style=\"color:orange\">**Running the Dashboard**</span>\n",
    "\n",
    "To visualize the dashboard run the next lines code. Then you will see: \n",
    "\n",
    "        \n",
    "        Dash is running on http://nnn.n.n.n:nnnn/\n",
    "        "
   ]
  },
  {
   "cell_type": "code",
   "execution_count": 41,
   "metadata": {},
   "outputs": [
    {
     "name": "stdout",
     "output_type": "stream",
     "text": [
      "Dash is running on http://127.0.0.1:8050/\n",
      "\n",
      "Dash is running on http://127.0.0.1:8050/\n",
      "\n",
      "Dash is running on http://127.0.0.1:8050/\n",
      "\n",
      " * Serving Flask app \"__main__\" (lazy loading)\n",
      " * Environment: production\n",
      "\u001b[31m   WARNING: This is a development server. Do not use it in a production deployment.\u001b[0m\n",
      "\u001b[2m   Use a production WSGI server instead.\u001b[0m\n",
      " * Debug mode: off\n"
     ]
    },
    {
     "name": "stderr",
     "output_type": "stream",
     "text": [
      " * Running on http://127.0.0.1:8050/ (Press CTRL+C to quit)\n",
      "127.0.0.1 - - [16/Feb/2022 20:49:51] \"\u001b[37mGET / HTTP/1.1\u001b[0m\" 200 -\n",
      "127.0.0.1 - - [16/Feb/2022 20:49:51] \"\u001b[37mGET /_dash-layout HTTP/1.1\u001b[0m\" 200 -\n",
      "127.0.0.1 - - [16/Feb/2022 20:49:51] \"\u001b[37mGET /_dash-dependencies HTTP/1.1\u001b[0m\" 200 -\n",
      "127.0.0.1 - - [16/Feb/2022 20:49:51] \"\u001b[37mGET /_dash-component-suites/dash/dcc/async-graph.js HTTP/1.1\u001b[0m\" 200 -\n",
      "127.0.0.1 - - [16/Feb/2022 20:49:51] \"\u001b[37mGET /_favicon.ico?v=2.0.0 HTTP/1.1\u001b[0m\" 200 -\n",
      "127.0.0.1 - - [16/Feb/2022 20:49:51] \"\u001b[37mGET /_dash-component-suites/dash/dcc/async-plotlyjs.js HTTP/1.1\u001b[0m\" 200 -\n"
     ]
    }
   ],
   "source": [
    "if __name__ == '__main__': \n",
    "    app.run_server()"
   ]
  }
 ],
 "metadata": {
  "interpreter": {
   "hash": "40d3a090f54c6569ab1632332b64b2c03c39dcf918b08424e98f38b5ae0af88f"
  },
  "kernelspec": {
   "display_name": "Python 3.8.8 64-bit ('base': conda)",
   "name": "python3"
  },
  "language_info": {
   "codemirror_mode": {
    "name": "ipython",
    "version": 3
   },
   "file_extension": ".py",
   "mimetype": "text/x-python",
   "name": "python",
   "nbconvert_exporter": "python",
   "pygments_lexer": "ipython3",
   "version": "3.8.8"
  },
  "orig_nbformat": 4
 },
 "nbformat": 4,
 "nbformat_minor": 2
}

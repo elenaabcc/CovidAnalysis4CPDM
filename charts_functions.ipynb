{
 "cells": [
  {
   "cell_type": "code",
   "execution_count": 1,
   "metadata": {},
   "outputs": [],
   "source": [
    "import pandas as pd\n",
    "\n",
    "import plotly\n",
    "from plotly.subplots import make_subplots\n",
    "\n",
    "import plotly.express as px\n",
    "import plotly.graph_objects as go"
   ]
  },
  {
   "cell_type": "markdown",
   "metadata": {},
   "source": [
    "# <span style=\"color:Orange\"> **Time Series** </span>\n"
   ]
  },
  {
   "cell_type": "markdown",
   "metadata": {},
   "source": [
    "## **How to do**"
   ]
  },
  {
   "cell_type": "code",
   "execution_count": 5,
   "metadata": {},
   "outputs": [
    {
     "ename": "NameError",
     "evalue": "name 'p19Q1_RO_Bucharest' is not defined",
     "output_type": "error",
     "traceback": [
      "\u001b[0;31m---------------------------------------------------------------------------\u001b[0m",
      "\u001b[0;31mNameError\u001b[0m                                 Traceback (most recent call last)",
      "\u001b[0;32m<ipython-input-5-d2b23f879fcf>\u001b[0m in \u001b[0;36m<module>\u001b[0;34m\u001b[0m\n\u001b[1;32m      2\u001b[0m                     subplot_titles=(\"2019\",\"2020\", \"2021\"))\n\u001b[1;32m      3\u001b[0m \u001b[0;34m\u001b[0m\u001b[0m\n\u001b[0;32m----> 4\u001b[0;31m fig.add_trace(go.Scatter(x = p19Q1_RO_Bucharest['Date'], \n\u001b[0m\u001b[1;32m      5\u001b[0m                         \u001b[0my\u001b[0m\u001b[0;34m=\u001b[0m\u001b[0mp19Q1_RO_Bucharest\u001b[0m\u001b[0;34m[\u001b[0m\u001b[0;34m'max'\u001b[0m\u001b[0;34m]\u001b[0m\u001b[0;34m,\u001b[0m\u001b[0;34m\u001b[0m\u001b[0;34m\u001b[0m\u001b[0m\n\u001b[1;32m      6\u001b[0m                         \u001b[0mline\u001b[0m \u001b[0;34m=\u001b[0m \u001b[0mdict\u001b[0m\u001b[0;34m(\u001b[0m\u001b[0mwidth\u001b[0m\u001b[0;34m=\u001b[0m\u001b[0;36m2\u001b[0m\u001b[0;34m,\u001b[0m \u001b[0mcolor\u001b[0m \u001b[0;34m=\u001b[0m \u001b[0mcolorQ1\u001b[0m \u001b[0;34m)\u001b[0m\u001b[0;34m,\u001b[0m\u001b[0;34m\u001b[0m\u001b[0;34m\u001b[0m\u001b[0m\n",
      "\u001b[0;31mNameError\u001b[0m: name 'p19Q1_RO_Bucharest' is not defined"
     ]
    }
   ],
   "source": [
    "\n",
    "fig = make_subplots(rows=3, cols=1,\n",
    "                    subplot_titles=(\"2019\",\"2020\", \"2021\"))\n",
    "\n",
    "fig.add_trace(go.Scatter(x = p19Q1_RO_Bucharest['Date'], \n",
    "                        y=p19Q1_RO_Bucharest['max'],\n",
    "                        line = dict(width=2, color = colorQ1 ),\n",
    "                        stackgroup='one'),\n",
    "            row=1, col=1)\n",
    "fig.add_trace(go.Scatter(x = p19Q2_RO_Bucharest['Date'], \n",
    "                        y=p19Q2_RO_Bucharest['max'],\n",
    "                        line = dict(width=2, color = colorQ2 ),\n",
    "                        stackgroup='two'),\n",
    "            row=1, col=1)\n",
    "fig.add_trace(go.Scatter(x = p19Q3_RO_Bucharest['Date'], \n",
    "                        y=p19Q3_RO_Bucharest['max'],\n",
    "                        line = dict(width=2, color = colorQ3 ),\n",
    "                        stackgroup='three'),\n",
    "            row=1, col=1)\n",
    "fig.add_trace(go.Scatter(x = p19Q4_RO_Bucharest['Date'], \n",
    "                        y=p19Q4_RO_Bucharest['max'],\n",
    "                        line = dict(width=2, color = colorQ4 ),\n",
    "                        stackgroup='four'),\n",
    "            row=1, col=1)\n",
    "\n",
    "\n",
    "\n",
    "fig.add_trace(go.Scatter(x = p20Q1_RO_Bucharest['Date'], \n",
    "                        y=p20Q1_RO_Bucharest['max'],\n",
    "                        line = dict(width=2, color = colorQ1 ),\n",
    "                        stackgroup='one'),\n",
    "            row=2, col=1)\n",
    "fig.add_trace(go.Scatter(x = p20Q2_RO_Bucharest['Date'], \n",
    "                        y=p20Q2_RO_Bucharest['max'],\n",
    "                        line = dict(width=2, color = colorQ2 ),\n",
    "                        stackgroup='two'),\n",
    "            row=2, col=1)\n",
    "fig.add_trace(go.Scatter(x = p20Q3_RO_Bucharest['Date'], \n",
    "                        y=p20Q3_RO_Bucharest['max'],\n",
    "                        line = dict(width=2, color = colorQ3 ),\n",
    "                        stackgroup='three'),\n",
    "            row=2, col=1)\n",
    "fig.add_trace(go.Scatter(x = p20Q4_RO_Bucharest['Date'], \n",
    "                        y=p20Q4_RO_Bucharest['max'],\n",
    "                        line = dict(width=2, color = colorQ4 ),\n",
    "                        stackgroup='four'),\n",
    "            row=2, col=1)\n",
    "\n",
    "\n",
    "fig.add_trace(go.Scatter(x = p21Q1_RO_Bucharest['Date'], \n",
    "                        y=p21Q1_RO_Bucharest['max'],\n",
    "                        line = dict(width=2, color = colorQ1 ),\n",
    "                        stackgroup='one'),\n",
    "            row=3, col=1)\n",
    "fig.add_trace(go.Scatter(x = p21Q2_RO_Bucharest['Date'], \n",
    "                        y=p21Q2_RO_Bucharest['max'],\n",
    "                        line = dict(width=2, color = colorQ2 ),\n",
    "                        stackgroup='two'),\n",
    "            row=3, col=1)\n",
    "fig.add_trace(go.Scatter(x = p21Q3_RO_Bucharest['Date'], \n",
    "                        y=p19Q3_RO_Bucharest['max'],\n",
    "                        line = dict(width=2, color = colorQ3 ),\n",
    "                        stackgroup='three'),\n",
    "            row=3, col=1)\n",
    "fig.add_trace(go.Scatter(x = p21Q4_RO_Bucharest['Date'], \n",
    "                        y=p19Q4_RO_Bucharest['max'],\n",
    "                        line = dict(width=2, color = colorQ4 ),\n",
    "                        stackgroup='four'),\n",
    "            row=3, col=1)"
   ]
  },
  {
   "cell_type": "markdown",
   "metadata": {},
   "source": [
    "## Def function **generateTimeSeriesChartOverYears**"
   ]
  },
  {
   "cell_type": "code",
   "execution_count": 3,
   "metadata": {},
   "outputs": [],
   "source": [
    "def generateTimeSeriesChartOverYears(dataframesMatrix, xaxis, yaxis, palette):\n",
    "    fig = make_subplots(rows=len(dataframes), cols=1, subplot_titles=(\"2019\",\"2020\", \"2021\"))\n",
    "    for i, dfs in dataframesMatrix:\n",
    "        for j, df in dfs:\n",
    "            fig.add_trace(go.Scatter(x = df[xaxis], \n",
    "                            y=df[yaxis],\n",
    "                            line = dict(width=2, color = palette[j]),\n",
    "                            stackgroup=j),\n",
    "                            row=i, col=1)\n",
    "    return fig"
   ]
  },
  {
   "cell_type": "markdown",
   "metadata": {},
   "source": [
    "# <span style=\"color:Orange\"> **Table** </span>\n"
   ]
  },
  {
   "cell_type": "markdown",
   "metadata": {},
   "source": [
    "## **How to do**\n",
    "\n",
    "Limits to be consider:\n",
    "\n",
    "- Daily Limit \t50 µg/m³ (not to be exceeded for more than 35 days per year)\n",
    "- Annual Limit\t40 µg/m³ (annual average)"
   ]
  },
  {
   "cell_type": "code",
   "execution_count": 12,
   "metadata": {},
   "outputs": [
    {
     "ename": "NameError",
     "evalue": "name 'all19_RO_Bucharest' is not defined",
     "output_type": "error",
     "traceback": [
      "\u001b[0;31m---------------------------------------------------------------------------\u001b[0m",
      "\u001b[0;31mNameError\u001b[0m                                 Traceback (most recent call last)",
      "\u001b[0;32m<ipython-input-12-3c8eaef54f13>\u001b[0m in \u001b[0;36m<module>\u001b[0;34m\u001b[0m\n\u001b[1;32m      2\u001b[0m                                             ),\n\u001b[1;32m      3\u001b[0m                                 cells=dict(values=[ ['Bucharest (RO) 2019', 'Bucharest (RO) 2020', 'Bucharest (RO) 2021'], \n\u001b[0;32m----> 4\u001b[0;31m                                                     \u001b[0;34m[\u001b[0m\u001b[0;34m(\u001b[0m\u001b[0mlen\u001b[0m\u001b[0;34m(\u001b[0m\u001b[0mall19_RO_Bucharest\u001b[0m\u001b[0;34m[\u001b[0m\u001b[0mall19_RO_Bucharest\u001b[0m\u001b[0;34m[\u001b[0m\u001b[0;34m'max'\u001b[0m\u001b[0;34m]\u001b[0m\u001b[0;34m>\u001b[0m\u001b[0;36m50\u001b[0m\u001b[0;34m]\u001b[0m\u001b[0;34m)\u001b[0m\u001b[0;34m)\u001b[0m\u001b[0;34m,\u001b[0m \u001b[0;34m(\u001b[0m\u001b[0mlen\u001b[0m\u001b[0;34m(\u001b[0m\u001b[0mall20_RO_Bucharest\u001b[0m\u001b[0;34m[\u001b[0m\u001b[0mall20_RO_Bucharest\u001b[0m\u001b[0;34m[\u001b[0m\u001b[0;34m'max'\u001b[0m\u001b[0;34m]\u001b[0m\u001b[0;34m>\u001b[0m\u001b[0;36m50\u001b[0m\u001b[0;34m]\u001b[0m\u001b[0;34m)\u001b[0m\u001b[0;34m)\u001b[0m\u001b[0;34m,\u001b[0m \u001b[0;34m(\u001b[0m\u001b[0mlen\u001b[0m\u001b[0;34m(\u001b[0m\u001b[0mall20_RO_Bucharest\u001b[0m\u001b[0;34m[\u001b[0m\u001b[0mall20_RO_Bucharest\u001b[0m\u001b[0;34m[\u001b[0m\u001b[0;34m'max'\u001b[0m\u001b[0;34m]\u001b[0m\u001b[0;34m>\u001b[0m\u001b[0;36m50\u001b[0m\u001b[0;34m]\u001b[0m\u001b[0;34m)\u001b[0m\u001b[0;34m)\u001b[0m\u001b[0;34m]\u001b[0m\u001b[0;34m,\u001b[0m\u001b[0;34m\u001b[0m\u001b[0;34m\u001b[0m\u001b[0m\n\u001b[0m\u001b[1;32m      5\u001b[0m                                                     [str(round(len(all19_RO_Bucharest[all19_RO_Bucharest['max']>50])/len(all19_RO_Bucharest['max'])*100,2))+' %' ,\n\u001b[1;32m      6\u001b[0m                                                         \u001b[0mstr\u001b[0m\u001b[0;34m(\u001b[0m\u001b[0mround\u001b[0m\u001b[0;34m(\u001b[0m\u001b[0mlen\u001b[0m\u001b[0;34m(\u001b[0m\u001b[0mall20_RO_Bucharest\u001b[0m\u001b[0;34m[\u001b[0m\u001b[0mall20_RO_Bucharest\u001b[0m\u001b[0;34m[\u001b[0m\u001b[0;34m'max'\u001b[0m\u001b[0;34m]\u001b[0m\u001b[0;34m>\u001b[0m\u001b[0;36m50\u001b[0m\u001b[0;34m]\u001b[0m\u001b[0;34m)\u001b[0m\u001b[0;34m/\u001b[0m\u001b[0mlen\u001b[0m\u001b[0;34m(\u001b[0m\u001b[0mall20_RO_Bucharest\u001b[0m\u001b[0;34m[\u001b[0m\u001b[0;34m'max'\u001b[0m\u001b[0;34m]\u001b[0m\u001b[0;34m)\u001b[0m\u001b[0;34m*\u001b[0m\u001b[0;36m100\u001b[0m\u001b[0;34m,\u001b[0m\u001b[0;36m2\u001b[0m\u001b[0;34m)\u001b[0m\u001b[0;34m)\u001b[0m\u001b[0;34m+\u001b[0m\u001b[0;34m' %'\u001b[0m\u001b[0;34m,\u001b[0m\u001b[0;34m\u001b[0m\u001b[0;34m\u001b[0m\u001b[0m\n",
      "\u001b[0;31mNameError\u001b[0m: name 'all19_RO_Bucharest' is not defined"
     ]
    }
   ],
   "source": [
    "table = go.Figure(data=[go.Table(header=dict(values=['','Day count where Pm10>50µg/m³', 'rate of exceeding legal limits', 'Pm10 Annual Average','Variance of Pm10']\n",
    "                                            ),\n",
    "                                cells=dict(values=[ ['Bucharest (RO) 2019', 'Bucharest (RO) 2020', 'Bucharest (RO) 2021'], \n",
    "                                                    [(len(all19_RO_Bucharest[all19_RO_Bucharest['max']>50])), (len(all20_RO_Bucharest[all20_RO_Bucharest['max']>50])), (len(all20_RO_Bucharest[all20_RO_Bucharest['max']>50]))],\n",
    "                                                    [str(round(len(all19_RO_Bucharest[all19_RO_Bucharest['max']>50])/len(all19_RO_Bucharest['max'])*100,2))+' %' ,\n",
    "                                                        str(round(len(all20_RO_Bucharest[all20_RO_Bucharest['max']>50])/len(all20_RO_Bucharest['max'])*100,2))+' %',\n",
    "                                                        str(round(len(all21_RO_Bucharest[all21_RO_Bucharest['max']>50])/len(all21_RO_Bucharest['max'])*100,2))+' %'],\n",
    "                                                   [round(all19_RO_Bucharest['max'].mean(),2), round(all20_RO_Bucharest['max'].mean(),2),round(all21_RO_Bucharest['max'].mean(),2)],\n",
    "                                                   [round(all19_RO_Bucharest.var()['max'],2), round(all20_RO_Bucharest.var()['max'],2), round(all21_RO_Bucharest.var()['max'],2)]\n",
    "                                                   ]\n",
    "                                            )\n",
    "                                )\n",
    "                        ]\n",
    "                )\n",
    "table"
   ]
  },
  {
   "cell_type": "code",
   "execution_count": null,
   "metadata": {},
   "outputs": [],
   "source": []
  }
 ],
 "metadata": {
  "interpreter": {
   "hash": "40d3a090f54c6569ab1632332b64b2c03c39dcf918b08424e98f38b5ae0af88f"
  },
  "kernelspec": {
   "display_name": "Python 3.8.8 64-bit ('base': conda)",
   "name": "python3"
  },
  "language_info": {
   "codemirror_mode": {
    "name": "ipython",
    "version": 3
   },
   "file_extension": ".py",
   "mimetype": "text/x-python",
   "name": "python",
   "nbconvert_exporter": "python",
   "pygments_lexer": "ipython3",
   "version": "3.8.8"
  },
  "orig_nbformat": 4
 },
 "nbformat": 4,
 "nbformat_minor": 2
}

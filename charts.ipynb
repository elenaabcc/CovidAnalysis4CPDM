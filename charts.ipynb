{
 "cells": [
  {
   "cell_type": "code",
   "execution_count": 5,
   "metadata": {},
   "outputs": [],
   "source": [
    "import pandas as pd\n",
    "\n",
    "import plotly\n",
    "from plotly.subplots import make_subplots\n",
    "\n",
    "import plotly.express as px\n",
    "import plotly.graph_objects as go"
   ]
  },
  {
   "cell_type": "code",
   "execution_count": 6,
   "metadata": {},
   "outputs": [],
   "source": [
    "def generateTimeSeriesChartOverYears(dataframesMatrix, xaxis, yaxis, palette):\n",
    "    fig = make_subplots(rows=len(dataframes), cols=1)\n",
    "    for i, dfs in dataframesMatrix:\n",
    "        for j, df in dfs:\n",
    "            fig.add_trace(go.Scatter(x = df[xaxis], \n",
    "                            y=df[yaxis],\n",
    "                            line = dict(width=2, color = palette[j]),\n",
    "                            stackgroup=j),\n",
    "                            row=i, col=1)\n",
    "    return fig"
   ]
  },
  {
   "cell_type": "code",
   "execution_count": null,
   "metadata": {},
   "outputs": [],
   "source": [
    "def timeSeries_OverYears():\n",
    "    fig = make_subplots(rows=3, cols=1)\n",
    "\n",
    "    fig.add_trace(go.Scatter(x = p19Q1_RO_Bucharest['Date'], \n",
    "                            y=p19Q1_RO_Bucharest['max'],\n",
    "                            line = dict(width=2, color = colorQ1 ),\n",
    "                            stackgroup='one'),\n",
    "                row=1, col=1)\n",
    "    fig.add_trace(go.Scatter(x = p19Q2_RO_Bucharest['Date'], \n",
    "                            y=p19Q2_RO_Bucharest['max'],\n",
    "                            line = dict(width=2, color = colorQ2 ),\n",
    "                            stackgroup='two'),\n",
    "                row=1, col=1)\n",
    "    fig.add_trace(go.Scatter(x = p19Q3_RO_Bucharest['Date'], \n",
    "                            y=p19Q3_RO_Bucharest['max'],\n",
    "                            line = dict(width=2, color = colorQ3 ),\n",
    "                            stackgroup='three'),\n",
    "                row=1, col=1)\n",
    "    fig.add_trace(go.Scatter(x = p19Q4_RO_Bucharest['Date'], \n",
    "                            y=p19Q4_RO_Bucharest['max'],\n",
    "                            line = dict(width=2, color = colorQ4 ),\n",
    "                            stackgroup='four'),\n",
    "                row=1, col=1)\n",
    "\n",
    "\n",
    "\n",
    "    fig.add_trace(go.Scatter(x = p20Q1_RO_Bucharest['Date'], \n",
    "                            y=p20Q1_RO_Bucharest['max'],\n",
    "                            line = dict(width=2, color = colorQ1 ),\n",
    "                            stackgroup='one'),\n",
    "                row=2, col=1)\n",
    "    fig.add_trace(go.Scatter(x = p20Q2_RO_Bucharest['Date'], \n",
    "                            y=p20Q2_RO_Bucharest['max'],\n",
    "                            line = dict(width=2, color = colorQ2 ),\n",
    "                            stackgroup='two'),\n",
    "                row=2, col=1)\n",
    "    fig.add_trace(go.Scatter(x = p20Q3_RO_Bucharest['Date'], \n",
    "                            y=p20Q3_RO_Bucharest['max'],\n",
    "                            line = dict(width=2, color = colorQ3 ),\n",
    "                            stackgroup='three'),\n",
    "                row=2, col=1)\n",
    "    fig.add_trace(go.Scatter(x = p20Q4_RO_Bucharest['Date'], \n",
    "                            y=p20Q4_RO_Bucharest['max'],\n",
    "                            line = dict(width=2, color = colorQ4 ),\n",
    "                            stackgroup='four'),\n",
    "                row=2, col=1)\n",
    "\n",
    "\n",
    "    fig.add_trace(go.Scatter(x = p21Q1_RO_Bucharest['Date'], \n",
    "                            y=p21Q1_RO_Bucharest['max'],\n",
    "                            line = dict(width=2, color = colorQ1 ),\n",
    "                            stackgroup='one'),\n",
    "                row=3, col=1)\n",
    "    fig.add_trace(go.Scatter(x = p21Q2_RO_Bucharest['Date'], \n",
    "                            y=p21Q2_RO_Bucharest['max'],\n",
    "                            line = dict(width=2, color = colorQ2 ),\n",
    "                            stackgroup='two'),\n",
    "                row=3, col=1)\n",
    "    fig.add_trace(go.Scatter(x = p21Q3_RO_Bucharest['Date'], \n",
    "                            y=p19Q3_RO_Bucharest['max'],\n",
    "                            line = dict(width=2, color = colorQ3 ),\n",
    "                            stackgroup='three'),\n",
    "                row=3, col=1)\n",
    "    fig.add_trace(go.Scatter(x = p21Q4_RO_Bucharest['Date'], \n",
    "                            y=p19Q4_RO_Bucharest['max'],\n",
    "                            line = dict(width=2, color = colorQ4 ),\n",
    "                            stackgroup='four'),\n",
    "                row=3, col=1)"
   ]
  }
 ],
 "metadata": {
  "interpreter": {
   "hash": "40d3a090f54c6569ab1632332b64b2c03c39dcf918b08424e98f38b5ae0af88f"
  },
  "kernelspec": {
   "display_name": "Python 3.8.8 64-bit ('base': conda)",
   "name": "python3"
  },
  "language_info": {
   "name": "python",
   "version": "3.8.8"
  },
  "orig_nbformat": 4
 },
 "nbformat": 4,
 "nbformat_minor": 2
}

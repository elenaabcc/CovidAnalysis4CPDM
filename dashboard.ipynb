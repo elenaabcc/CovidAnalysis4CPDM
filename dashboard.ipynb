{
 "cells": [
  {
   "cell_type": "code",
   "execution_count": 75,
   "metadata": {},
   "outputs": [],
   "source": [
    "import os\n",
    "import glob\n",
    "import pandas as pd\n",
    "\n",
    "# Before to run this section run the follow line code to install plotly. \n",
    "# pip install plotly \n",
    "import plotly\n",
    "import plotly.express as px\n",
    "import plotly.graph_objects as go\n",
    "\n",
    "# pip install dash\n",
    "import dash\n",
    "from dash import html\n",
    "from dash import dcc\n",
    "from dash.dependencies import Input, Output\n"
   ]
  },
  {
   "cell_type": "code",
   "execution_count": null,
   "metadata": {},
   "outputs": [],
   "source": [
    "%store -r overallVaccine_BarChart_2021\n",
    "%store -r overallVaccine_Table_2021"
   ]
  },
  {
   "cell_type": "code",
   "execution_count": 76,
   "metadata": {},
   "outputs": [],
   "source": [
    "%store -r cityTimeSeriesPM10\n",
    "%store -r cityTablePM10"
   ]
  },
  {
   "cell_type": "code",
   "execution_count": 77,
   "metadata": {},
   "outputs": [],
   "source": [
    "# Initialize the Dashboard.\n",
    "app = dash.Dash()"
   ]
  },
  {
   "cell_type": "code",
   "execution_count": null,
   "metadata": {},
   "outputs": [],
   "source": [
    "vaccinationFiguresComponent = html.Div(id='content', children =[\n",
    "    dcc.Graph(figure = overallVaccine_BarChart_2021),\n",
    "    dcc.Graph(figure = overallVaccine_Table_2021)\n",
    "])"
   ]
  },
  {
   "cell_type": "code",
   "execution_count": null,
   "metadata": {},
   "outputs": [],
   "source": [
    "vaccinationComponent = html.Div(id='vaccination', children=[\n",
    "    html.H1(children='Vaccination', style={'textAlign': 'center',\n",
    "                                                           'marginTop': 40, 'marginBottom': 40}),\n",
    "    html.H2(children='Description', style={'textAlign': 'left',\n",
    "                                                                             'marginTop': 40, 'marginBottom': 40,\n",
    "                                                                             'marginLeft': 60}),\n",
    "    vaccinationFiguresComponent,\n",
    "])"
   ]
  },
  {
   "cell_type": "code",
   "execution_count": 78,
   "metadata": {},
   "outputs": [],
   "source": [
    "# Loop dictionaries and create html components\n",
    "citiesDataFigures = []\n",
    "for city, tSFig in cityTimeSeriesPM10.items():\n",
    "    cityComponents = []\n",
    "    cityComponents.append(html.H3(id=city+'Title', children=city, style={'textAlign': 'center'}))\n",
    "    cityComponents.append(dcc.Graph(figure = tSFig))\n",
    "    cityComponents.append(dcc.Graph(figure = cityTablePM10[city]))\n",
    "\n",
    "    cityAggregatedComponent = html.Div(id=city, children = cityComponents)\n",
    "    citiesDataFigures.append(cityAggregatedComponent)\n",
    "\n",
    "citiesDataFiguresComponent = html.Div(id = \"citiesDataFigures\", children = citiesDataFigures)"
   ]
  },
  {
   "cell_type": "code",
   "execution_count": null,
   "metadata": {},
   "outputs": [],
   "source": [
    "pollutionComponent = html.Div(id='pollution', children=[\n",
    "    html.H1(children='COVID-19 Dashboard', style={'textAlign': 'center',\n",
    "                                                           'marginTop': 40, 'marginBottom': 40}),\n",
    "    html.H2(children='Airborne Particulate trend over years', style={'textAlign': 'left',\n",
    "                                                                             'marginTop': 40, 'marginBottom': 40,\n",
    "                                                                             'marginLeft': 60}),\n",
    "    citiesDataFiguresComponent,\n",
    "])"
   ]
  },
  {
   "cell_type": "code",
   "execution_count": 79,
   "metadata": {},
   "outputs": [],
   "source": [
    "app.layout = html.Div(id='main', children=[\n",
    "    vaccinationComponent,\n",
    "    pollutionComponent,\n",
    "])"
   ]
  },
  {
   "cell_type": "code",
   "execution_count": 80,
   "metadata": {},
   "outputs": [],
   "source": [
    "@app.callback(Output(component_id='timeSeriesGraph', component_property= 'figure'),\n",
    "              [Input(component_id='dropdown', component_property= 'value')])\n",
    "def graph_update(dropdown_value):\n",
    "    if dropdown_value== 'RO_Bucharest':\n",
    "            return timeSeries_RO_Bucharest\n",
    "    elif dropdown_value== 'IT_Rome':\n",
    "            return timeSeries_IT_Rome\n"
   ]
  },
  {
   "cell_type": "markdown",
   "metadata": {},
   "source": [
    "# <span style=\"color:orange\">**Running the Dashboard**</span>\n",
    "\n",
    "To visualize the dashboard run the next lines code. Then you will see: \n",
    "\n",
    "        \n",
    "        Dash is running on http://nnn.n.n.n:nnnn/\n",
    "        "
   ]
  },
  {
   "cell_type": "code",
   "execution_count": 81,
   "metadata": {},
   "outputs": [
    {
     "name": "stdout",
     "output_type": "stream",
     "text": [
      "Dash is running on http://127.0.0.1:8050/\n",
      "\n",
      "Dash is running on http://127.0.0.1:8050/\n",
      "\n",
      "Dash is running on http://127.0.0.1:8050/\n",
      "\n",
      "Dash is running on http://127.0.0.1:8050/\n",
      "\n",
      "Dash is running on http://127.0.0.1:8050/\n",
      "\n",
      "Dash is running on http://127.0.0.1:8050/\n",
      "\n",
      "Dash is running on http://127.0.0.1:8050/\n",
      "\n",
      "Dash is running on http://127.0.0.1:8050/\n",
      "\n",
      "Dash is running on http://127.0.0.1:8050/\n",
      "\n",
      "Dash is running on http://127.0.0.1:8050/\n",
      "\n",
      "Dash is running on http://127.0.0.1:8050/\n",
      "\n",
      "Dash is running on http://127.0.0.1:8050/\n",
      "\n",
      "Dash is running on http://127.0.0.1:8050/\n",
      "\n",
      "Dash is running on http://127.0.0.1:8050/\n",
      "\n",
      "Dash is running on http://127.0.0.1:8050/\n",
      "\n",
      "Dash is running on http://127.0.0.1:8050/\n",
      "\n",
      "Dash is running on http://127.0.0.1:8050/\n",
      "\n",
      " * Serving Flask app \"__main__\" (lazy loading)\n",
      " * Environment: production\n",
      "\u001b[31m   WARNING: This is a development server. Do not use it in a production deployment.\u001b[0m\n",
      "\u001b[2m   Use a production WSGI server instead.\u001b[0m\n",
      " * Debug mode: off\n"
     ]
    },
    {
     "name": "stderr",
     "output_type": "stream",
     "text": [
      " * Running on http://127.0.0.1:8050/ (Press CTRL+C to quit)\n",
      "127.0.0.1 - - [16/Jan/2022 21:50:00] \"\u001b[37mGET / HTTP/1.1\u001b[0m\" 200 -\n",
      "127.0.0.1 - - [16/Jan/2022 21:50:00] \"\u001b[37mGET /_dash-layout HTTP/1.1\u001b[0m\" 200 -\n",
      "127.0.0.1 - - [16/Jan/2022 21:50:00] \"\u001b[37mGET /_dash-dependencies HTTP/1.1\u001b[0m\" 200 -\n",
      "127.0.0.1 - - [16/Jan/2022 21:50:00] \"\u001b[36mGET /_dash-component-suites/dash/dcc/async-graph.js HTTP/1.1\u001b[0m\" 304 -\n",
      "127.0.0.1 - - [16/Jan/2022 21:50:00] \"\u001b[37mGET /_favicon.ico?v=2.0.0 HTTP/1.1\u001b[0m\" 200 -\n",
      "127.0.0.1 - - [16/Jan/2022 21:50:00] \"\u001b[36mGET /_dash-component-suites/dash/dcc/async-plotlyjs.js HTTP/1.1\u001b[0m\" 304 -\n"
     ]
    }
   ],
   "source": [
    "if __name__ == '__main__': \n",
    "    app.run_server()"
   ]
  }
 ],
 "metadata": {
  "interpreter": {
   "hash": "40d3a090f54c6569ab1632332b64b2c03c39dcf918b08424e98f38b5ae0af88f"
  },
  "kernelspec": {
   "display_name": "Python 3.8.8 64-bit ('base': conda)",
   "name": "python3"
  },
  "language_info": {
   "codemirror_mode": {
    "name": "ipython",
    "version": 3
   },
   "file_extension": ".py",
   "mimetype": "text/x-python",
   "name": "python",
   "nbconvert_exporter": "python",
   "pygments_lexer": "ipython3",
   "version": "3.8.8"
  },
  "orig_nbformat": 4
 },
 "nbformat": 4,
 "nbformat_minor": 2
}

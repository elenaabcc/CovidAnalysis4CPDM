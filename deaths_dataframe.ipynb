{
 "cells": [
  {
   "cell_type": "code",
   "execution_count": 40,
   "metadata": {},
   "outputs": [
    {
     "data": {
      "text/html": [
       "<div>\n",
       "<style scoped>\n",
       "    .dataframe tbody tr th:only-of-type {\n",
       "        vertical-align: middle;\n",
       "    }\n",
       "\n",
       "    .dataframe tbody tr th {\n",
       "        vertical-align: top;\n",
       "    }\n",
       "\n",
       "    .dataframe thead th {\n",
       "        text-align: right;\n",
       "    }\n",
       "</style>\n",
       "<table border=\"1\" class=\"dataframe\">\n",
       "  <thead>\n",
       "    <tr style=\"text-align: right;\">\n",
       "      <th></th>\n",
       "      <th>country</th>\n",
       "      <th>country_code</th>\n",
       "      <th>continent</th>\n",
       "      <th>population</th>\n",
       "      <th>indicator</th>\n",
       "      <th>weekly_count</th>\n",
       "      <th>year_week</th>\n",
       "      <th>rate_14_day</th>\n",
       "      <th>cumulative_count</th>\n",
       "      <th>source</th>\n",
       "      <th>note</th>\n",
       "    </tr>\n",
       "  </thead>\n",
       "  <tbody>\n",
       "    <tr>\n",
       "      <th>0</th>\n",
       "      <td>Afghanistan</td>\n",
       "      <td>AFG</td>\n",
       "      <td>Asia</td>\n",
       "      <td>38928341</td>\n",
       "      <td>cases</td>\n",
       "      <td>0.0</td>\n",
       "      <td>2020-01</td>\n",
       "      <td>NaN</td>\n",
       "      <td>0</td>\n",
       "      <td>Epidemic intelligence national data</td>\n",
       "      <td>NaN</td>\n",
       "    </tr>\n",
       "    <tr>\n",
       "      <th>1</th>\n",
       "      <td>Afghanistan</td>\n",
       "      <td>AFG</td>\n",
       "      <td>Asia</td>\n",
       "      <td>38928341</td>\n",
       "      <td>cases</td>\n",
       "      <td>0.0</td>\n",
       "      <td>2020-02</td>\n",
       "      <td>0.000000</td>\n",
       "      <td>0</td>\n",
       "      <td>Epidemic intelligence national data</td>\n",
       "      <td>NaN</td>\n",
       "    </tr>\n",
       "    <tr>\n",
       "      <th>2</th>\n",
       "      <td>Afghanistan</td>\n",
       "      <td>AFG</td>\n",
       "      <td>Asia</td>\n",
       "      <td>38928341</td>\n",
       "      <td>cases</td>\n",
       "      <td>0.0</td>\n",
       "      <td>2020-03</td>\n",
       "      <td>0.000000</td>\n",
       "      <td>0</td>\n",
       "      <td>Epidemic intelligence national data</td>\n",
       "      <td>NaN</td>\n",
       "    </tr>\n",
       "    <tr>\n",
       "      <th>3</th>\n",
       "      <td>Afghanistan</td>\n",
       "      <td>AFG</td>\n",
       "      <td>Asia</td>\n",
       "      <td>38928341</td>\n",
       "      <td>cases</td>\n",
       "      <td>0.0</td>\n",
       "      <td>2020-04</td>\n",
       "      <td>0.000000</td>\n",
       "      <td>0</td>\n",
       "      <td>Epidemic intelligence national data</td>\n",
       "      <td>NaN</td>\n",
       "    </tr>\n",
       "    <tr>\n",
       "      <th>4</th>\n",
       "      <td>Afghanistan</td>\n",
       "      <td>AFG</td>\n",
       "      <td>Asia</td>\n",
       "      <td>38928341</td>\n",
       "      <td>cases</td>\n",
       "      <td>0.0</td>\n",
       "      <td>2020-05</td>\n",
       "      <td>0.000000</td>\n",
       "      <td>0</td>\n",
       "      <td>Epidemic intelligence national data</td>\n",
       "      <td>NaN</td>\n",
       "    </tr>\n",
       "    <tr>\n",
       "      <th>...</th>\n",
       "      <td>...</td>\n",
       "      <td>...</td>\n",
       "      <td>...</td>\n",
       "      <td>...</td>\n",
       "      <td>...</td>\n",
       "      <td>...</td>\n",
       "      <td>...</td>\n",
       "      <td>...</td>\n",
       "      <td>...</td>\n",
       "      <td>...</td>\n",
       "      <td>...</td>\n",
       "    </tr>\n",
       "    <tr>\n",
       "      <th>43997</th>\n",
       "      <td>Zimbabwe</td>\n",
       "      <td>ZWE</td>\n",
       "      <td>Africa</td>\n",
       "      <td>14862927</td>\n",
       "      <td>deaths</td>\n",
       "      <td>49.0</td>\n",
       "      <td>2021-50</td>\n",
       "      <td>5.180675</td>\n",
       "      <td>4787</td>\n",
       "      <td>Epidemic intelligence national data</td>\n",
       "      <td>NaN</td>\n",
       "    </tr>\n",
       "    <tr>\n",
       "      <th>43998</th>\n",
       "      <td>Zimbabwe</td>\n",
       "      <td>ZWE</td>\n",
       "      <td>Africa</td>\n",
       "      <td>14862927</td>\n",
       "      <td>deaths</td>\n",
       "      <td>NaN</td>\n",
       "      <td>2021-52</td>\n",
       "      <td>16.483967</td>\n",
       "      <td>5032</td>\n",
       "      <td>Epidemic intelligence national data</td>\n",
       "      <td>NaN</td>\n",
       "    </tr>\n",
       "    <tr>\n",
       "      <th>43999</th>\n",
       "      <td>Zimbabwe</td>\n",
       "      <td>ZWE</td>\n",
       "      <td>Africa</td>\n",
       "      <td>14862927</td>\n",
       "      <td>deaths</td>\n",
       "      <td>128.0</td>\n",
       "      <td>2022-01</td>\n",
       "      <td>NaN</td>\n",
       "      <td>5160</td>\n",
       "      <td>Epidemic intelligence national data</td>\n",
       "      <td>NaN</td>\n",
       "    </tr>\n",
       "    <tr>\n",
       "      <th>44000</th>\n",
       "      <td>Zimbabwe</td>\n",
       "      <td>ZWE</td>\n",
       "      <td>Africa</td>\n",
       "      <td>14862927</td>\n",
       "      <td>deaths</td>\n",
       "      <td>87.0</td>\n",
       "      <td>2022-02</td>\n",
       "      <td>14.465522</td>\n",
       "      <td>5247</td>\n",
       "      <td>Epidemic intelligence national data</td>\n",
       "      <td>NaN</td>\n",
       "    </tr>\n",
       "    <tr>\n",
       "      <th>44001</th>\n",
       "      <td>Zimbabwe</td>\n",
       "      <td>ZWE</td>\n",
       "      <td>Africa</td>\n",
       "      <td>14862927</td>\n",
       "      <td>deaths</td>\n",
       "      <td>47.0</td>\n",
       "      <td>2022-03</td>\n",
       "      <td>9.015721</td>\n",
       "      <td>5294</td>\n",
       "      <td>Epidemic intelligence national data</td>\n",
       "      <td>NaN</td>\n",
       "    </tr>\n",
       "  </tbody>\n",
       "</table>\n",
       "<p>44002 rows × 11 columns</p>\n",
       "</div>"
      ],
      "text/plain": [
       "           country country_code continent  population indicator  weekly_count  \\\n",
       "0      Afghanistan          AFG      Asia    38928341     cases           0.0   \n",
       "1      Afghanistan          AFG      Asia    38928341     cases           0.0   \n",
       "2      Afghanistan          AFG      Asia    38928341     cases           0.0   \n",
       "3      Afghanistan          AFG      Asia    38928341     cases           0.0   \n",
       "4      Afghanistan          AFG      Asia    38928341     cases           0.0   \n",
       "...            ...          ...       ...         ...       ...           ...   \n",
       "43997     Zimbabwe          ZWE    Africa    14862927    deaths          49.0   \n",
       "43998     Zimbabwe          ZWE    Africa    14862927    deaths           NaN   \n",
       "43999     Zimbabwe          ZWE    Africa    14862927    deaths         128.0   \n",
       "44000     Zimbabwe          ZWE    Africa    14862927    deaths          87.0   \n",
       "44001     Zimbabwe          ZWE    Africa    14862927    deaths          47.0   \n",
       "\n",
       "      year_week  rate_14_day  cumulative_count  \\\n",
       "0       2020-01          NaN                 0   \n",
       "1       2020-02     0.000000                 0   \n",
       "2       2020-03     0.000000                 0   \n",
       "3       2020-04     0.000000                 0   \n",
       "4       2020-05     0.000000                 0   \n",
       "...         ...          ...               ...   \n",
       "43997   2021-50     5.180675              4787   \n",
       "43998   2021-52    16.483967              5032   \n",
       "43999   2022-01          NaN              5160   \n",
       "44000   2022-02    14.465522              5247   \n",
       "44001   2022-03     9.015721              5294   \n",
       "\n",
       "                                    source note  \n",
       "0      Epidemic intelligence national data  NaN  \n",
       "1      Epidemic intelligence national data  NaN  \n",
       "2      Epidemic intelligence national data  NaN  \n",
       "3      Epidemic intelligence national data  NaN  \n",
       "4      Epidemic intelligence national data  NaN  \n",
       "...                                    ...  ...  \n",
       "43997  Epidemic intelligence national data  NaN  \n",
       "43998  Epidemic intelligence national data  NaN  \n",
       "43999  Epidemic intelligence national data  NaN  \n",
       "44000  Epidemic intelligence national data  NaN  \n",
       "44001  Epidemic intelligence national data  NaN  \n",
       "\n",
       "[44002 rows x 11 columns]"
      ]
     },
     "execution_count": 40,
     "metadata": {},
     "output_type": "execute_result"
    }
   ],
   "source": [
    "import pandas as pd\n",
    "import numpy as np\n",
    "import matplotlib.pyplot as plt\n",
    "import plotly.graph_objs as go\n",
    "import plotly.io as pio\n",
    "import plotly.express as px\n",
    "pio.renderers.default='plotly_mimetype+notebook'\n",
    "deaths=pd.read_csv(r'C:\\Users\\strag\\Documents\\GitHub\\CovidAnalysis4CPDM\\PROGETTO\\new cases and new death dataframe.csv')\n",
    "deaths"
   ]
  },
  {
   "cell_type": "code",
   "execution_count": 3,
   "metadata": {},
   "outputs": [
    {
     "data": {
      "text/plain": [
       "array(['AFG', nan, 'ALB', 'DZA', 'ASM', 'AND', 'AGO', 'AIA', 'ATG', 'ARG',\n",
       "       'ARM', 'ABW', 'AUS', 'AUT', 'AZE', 'BHS', 'BHR', 'BGD', 'BRB',\n",
       "       'BLR', 'BEL', 'BLZ', 'BEN', 'BMU', 'BTN', 'BOL', 'BES', 'BIH',\n",
       "       'BWA', 'BRA', 'VGB', 'BRN', 'BGR', 'BFA', 'BDI', 'KHM', 'CMR',\n",
       "       'CAN', 'CPV', 'CYM', 'CAF', 'TCD', 'CHL', 'CHN', 'COL', 'COM',\n",
       "       'COG', 'CRI', 'CIV', 'HRV', 'CUB', 'CUW', 'CYP', 'CZE', 'COD',\n",
       "       'DNK', 'DJI', 'DMA', 'DOM', 'ECU', 'EGY', 'SLV', 'GNQ', 'ERI',\n",
       "       'EST', 'SWZ', 'ETH', 'FLK', 'FRO', 'FJI', 'FIN', 'FRA', 'PYF',\n",
       "       'GAB', 'GMB', 'GEO', 'DEU', 'GHA', 'GIB', 'GRC', 'GRL', 'GRD',\n",
       "       'GUM', 'GTM', 'GGY', 'GIN', 'GNB', 'GUY', 'HTI', 'VAT', 'HND',\n",
       "       'HUN', 'ISL', 'IND', 'IDN', 'IRN', 'IRQ', 'IRL', 'IMN', 'ISR',\n",
       "       'ITA', 'JAM', 'JPN', 'JEY', 'JOR', 'KAZ', 'KEN', 'XKX', 'KWT',\n",
       "       'KGZ', 'LAO', 'LVA', 'LBN', 'LSO', 'LBR', 'LBY', 'LIE', 'LTU',\n",
       "       'LUX', 'MDG', 'MWI', 'MYS', 'MDV', 'MLI', 'MLT', 'MHL', 'MRT',\n",
       "       'MUS', 'MEX', 'FSM', 'MDA', 'MCO', 'MNG', 'MNE', 'MSR', 'MAR',\n",
       "       'MOZ', 'MMR', 'NAM', 'NPL', 'NLD', 'NCL', 'NZL', 'NIC', 'NER',\n",
       "       'NGA', 'MKD', 'MNP', 'NOR', 'OMN', 'PAK', 'PLW', 'PSE', 'PAN',\n",
       "       'PNG', 'PRY', 'PER', 'PHL', 'POL', 'PRT', 'PRI', 'QAT', 'ROU',\n",
       "       'RUS', 'RWA', 'KNA', 'LCA', 'VCT', 'WSM', 'SMR', 'STP', 'SAU',\n",
       "       'SEN', 'SRB', 'SYC', 'SLE', 'SGP', 'SXM', 'SVK', 'SVN', 'SLB',\n",
       "       'SOM', 'ZAF', 'KOR', 'SSD', 'ESP', 'LKA', 'SDN', 'SUR', 'SWE',\n",
       "       'CHE', 'SYR', 'TWN', 'TJK', 'THA', 'TLS', 'TGO', 'TON', 'TTO',\n",
       "       'TUN', 'TUR', 'TCA', 'UGA', 'UKR', 'ARE', 'GBR', 'TZA', 'USA',\n",
       "       'VIR', 'URY', 'UZB', 'VUT', 'VEN', 'VNM', 'WLF', 'ESH', 'YEM',\n",
       "       'ZMB', 'ZWE'], dtype=object)"
      ]
     },
     "execution_count": 3,
     "metadata": {},
     "output_type": "execute_result"
    }
   ],
   "source": [
    "deaths.country_code.unique()"
   ]
  },
  {
   "cell_type": "code",
   "execution_count": 4,
   "metadata": {},
   "outputs": [
    {
     "name": "stderr",
     "output_type": "stream",
     "text": [
      "C:\\Users\\strag\\anaconda3\\lib\\site-packages\\pandas\\core\\frame.py:4308: SettingWithCopyWarning:\n",
      "\n",
      "\n",
      "A value is trying to be set on a copy of a slice from a DataFrame\n",
      "\n",
      "See the caveats in the documentation: https://pandas.pydata.org/pandas-docs/stable/user_guide/indexing.html#returning-a-view-versus-a-copy\n",
      "\n",
      "C:\\Users\\strag\\anaconda3\\lib\\site-packages\\pandas\\core\\frame.py:3191: SettingWithCopyWarning:\n",
      "\n",
      "\n",
      "A value is trying to be set on a copy of a slice from a DataFrame.\n",
      "Try using .loc[row_indexer,col_indexer] = value instead\n",
      "\n",
      "See the caveats in the documentation: https://pandas.pydata.org/pandas-docs/stable/user_guide/indexing.html#returning-a-view-versus-a-copy\n",
      "\n"
     ]
    }
   ],
   "source": [
    "#SELECT DATA ONLY FOR ITALY\n",
    "deaths_italy=deaths[deaths.country=='Italy']\n",
    "deaths_italy.drop(['country_code','continent', 'rate_14_day'], axis=1, inplace=True)\n",
    "deaths_italy[['Year', 'Week']]=deaths_italy['year_week'].str.split('-', expand=True)"
   ]
  },
  {
   "cell_type": "code",
   "execution_count": 5,
   "metadata": {},
   "outputs": [
    {
     "data": {
      "text/html": [
       "<div>\n",
       "<style scoped>\n",
       "    .dataframe tbody tr th:only-of-type {\n",
       "        vertical-align: middle;\n",
       "    }\n",
       "\n",
       "    .dataframe tbody tr th {\n",
       "        vertical-align: top;\n",
       "    }\n",
       "\n",
       "    .dataframe thead th {\n",
       "        text-align: right;\n",
       "    }\n",
       "</style>\n",
       "<table border=\"1\" class=\"dataframe\">\n",
       "  <thead>\n",
       "    <tr style=\"text-align: right;\">\n",
       "      <th>indicator</th>\n",
       "      <th>cases</th>\n",
       "    </tr>\n",
       "    <tr>\n",
       "      <th>year_week</th>\n",
       "      <th></th>\n",
       "    </tr>\n",
       "  </thead>\n",
       "  <tbody>\n",
       "    <tr>\n",
       "      <th>2020-01</th>\n",
       "      <td>0.0</td>\n",
       "    </tr>\n",
       "    <tr>\n",
       "      <th>2020-02</th>\n",
       "      <td>0.0</td>\n",
       "    </tr>\n",
       "    <tr>\n",
       "      <th>2020-03</th>\n",
       "      <td>0.0</td>\n",
       "    </tr>\n",
       "    <tr>\n",
       "      <th>2020-04</th>\n",
       "      <td>0.0</td>\n",
       "    </tr>\n",
       "    <tr>\n",
       "      <th>2020-05</th>\n",
       "      <td>2.0</td>\n",
       "    </tr>\n",
       "    <tr>\n",
       "      <th>...</th>\n",
       "      <td>...</td>\n",
       "    </tr>\n",
       "    <tr>\n",
       "      <th>2021-51</th>\n",
       "      <td>293877.0</td>\n",
       "    </tr>\n",
       "    <tr>\n",
       "      <th>2021-52</th>\n",
       "      <td>778661.0</td>\n",
       "    </tr>\n",
       "    <tr>\n",
       "      <th>2022-01</th>\n",
       "      <td>1098476.0</td>\n",
       "    </tr>\n",
       "    <tr>\n",
       "      <th>2022-02</th>\n",
       "      <td>1058186.0</td>\n",
       "    </tr>\n",
       "    <tr>\n",
       "      <th>2022-03</th>\n",
       "      <td>790897.0</td>\n",
       "    </tr>\n",
       "  </tbody>\n",
       "</table>\n",
       "<p>108 rows × 1 columns</p>\n",
       "</div>"
      ],
      "text/plain": [
       "indicator      cases\n",
       "year_week           \n",
       "2020-01          0.0\n",
       "2020-02          0.0\n",
       "2020-03          0.0\n",
       "2020-04          0.0\n",
       "2020-05          2.0\n",
       "...              ...\n",
       "2021-51     293877.0\n",
       "2021-52     778661.0\n",
       "2022-01    1098476.0\n",
       "2022-02    1058186.0\n",
       "2022-03     790897.0\n",
       "\n",
       "[108 rows x 1 columns]"
      ]
     },
     "execution_count": 5,
     "metadata": {},
     "output_type": "execute_result"
    }
   ],
   "source": [
    "only_cases=deaths_italy[deaths_italy.indicator=='cases']\n",
    "table_cases=only_cases.pivot_table(index='year_week', columns='indicator', values='weekly_count')\n",
    "table_cases"
   ]
  },
  {
   "cell_type": "code",
   "execution_count": 6,
   "metadata": {},
   "outputs": [
    {
     "data": {
      "image/png": "[encoded data removed]",
      "text/plain": [
       "<Figure size 432x288 with 1 Axes>"
      ]
     },
     "metadata": {
      "needs_background": "light"
     },
     "output_type": "display_data"
    }
   ],
   "source": [
    "#GRAFICO DEI CASI DI POSITIVITA' DAL 2020 AL 2022\n",
    "#matplotlib.colors\n",
    "#matplotlib.colors.rgb_to_hsv\n",
    "#matplotlib.colors.to_rgba\n",
    "#matplotlib.figure.Figure.get_size_inches\n",
    "#matplotlib.figure.Figure.subplots_adjust\n",
    "#matplotlib.axes.Axes.text\n",
    "#matplotlib.axes.Axes.hlines\n",
    "table_cases.plot(kind='line', color='darkorange')\n",
    "plt.savefig('Positive cases per week', dpi=300, bbox_inches='tight')\n",
    "plt.show()"
   ]
  },
  {
   "cell_type": "code",
   "execution_count": 7,
   "metadata": {},
   "outputs": [
    {
     "data": {
      "image/png": "[encoded data removed]",
      "text/plain": [
       "<Figure size 432x288 with 1 Axes>"
      ]
     },
     "metadata": {
      "needs_background": "light"
     },
     "output_type": "display_data"
    }
   ],
   "source": [
    "#GRAFICO DELLE MORTI DAL 2020 AL 2022\n",
    "only_deaths=deaths_italy[deaths_italy.indicator=='deaths']\n",
    "table_deaths=only_deaths.pivot_table(index='year_week', columns='indicator', values='weekly_count')\n",
    "table_deaths.plot(kind='line', color='black')\n",
    "plt.savefig('Number of deaths per week', dpi=300, bbox_inches='tight')\n",
    "plt.show()"
   ]
  },
  {
   "cell_type": "code",
   "execution_count": 8,
   "metadata": {},
   "outputs": [
    {
     "data": {
      "image/png": "[encoded data removed]",
      "text/plain": [
       "<Figure size 432x288 with 1 Axes>"
      ]
     },
     "metadata": {
      "needs_background": "light"
     },
     "output_type": "display_data"
    }
   ],
   "source": [
    "#GRAFICI PER CIASCUN ANNO\n",
    "only_cases_2020=only_cases[only_cases.Year=='2020']\n",
    "table_cases_2020=only_cases_2020.pivot_table(index='Week', columns='indicator', values='weekly_count')\n",
    "#plt.figure(figsize=(5, 2.7), layout='constrained')\n",
    "ax=table_cases_2020.plot(kind='bar', color='darkorange', title='Positive cases in 2020')\n",
    "ax.set(xlabel='Week', ylabel='Count')\n",
    "#plt.savefig('Cases per week in Italy 2020', dpi=300, bbox_inches='tight')\n",
    "#plt.show()"
   ]
  },
  {
   "cell_type": "code",
   "execution_count": 11,
   "metadata": {},
   "outputs": [
    {
     "data": {
      "image/png": "[encoded data removed]",
      "text/plain": [
       "<Figure size 432x288 with 1 Axes>"
      ]
     },
     "metadata": {
      "needs_background": "light"
     },
     "output_type": "display_data"
    }
   ],
   "source": [
    "only_cases_2021=only_cases[only_cases.Year=='2021']\n",
    "table_cases_2021=only_cases_2021.pivot_table(index='Week', columns='indicator', values='weekly_count')\n",
    "#plt.figure(figsize=(5, 2.7), layout='constrained')\n",
    "ax=table_cases_2021.plot(kind='bar', color='darkorange', title='Positive cases in 2021')\n",
    "ax.set(xlabel='Week', ylabel='Count')\n",
    "#plt.savefig('Cases per week in Italy 2021', dpi=300, bbox_inches='tight')\n",
    "#plt.show()"
   ]
  },
  {
   "cell_type": "code",
   "execution_count": 14,
   "metadata": {},
   "outputs": [
    {
     "data": {
      "image/png": "[encoded data removed]",
      "text/plain": [
       "<Figure size 432x288 with 1 Axes>"
      ]
     },
     "metadata": {
      "needs_background": "light"
     },
     "output_type": "display_data"
    }
   ],
   "source": [
    "#GRAFICI MORTI\n",
    "only_deaths_2020=only_deaths[only_deaths.Year=='2020']\n",
    "table_deaths_2020=only_deaths_2020.pivot_table(index='Week', columns='indicator', values='weekly_count')\n",
    "#plt.figure(figsize=(5, 2.7), layout='constrained')\n",
    "ax=table_deaths_2020.plot(kind='bar', color='black', title='Number of deaths in 2020')\n",
    "ax.set(xlabel='Week', ylabel='Count')\n",
    "#plt.savefig('Number of deaths in 2020', dpi=300, bbox_inches='tight')\n",
    "#plt.show()"
   ]
  },
  {
   "cell_type": "code",
   "execution_count": 38,
   "metadata": {},
   "outputs": [
    {
     "data": {
      "image/png": "[encoded data removed]",
      "text/plain": [
       "<Figure size 432x288 with 1 Axes>"
      ]
     },
     "metadata": {
      "needs_background": "light"
     },
     "output_type": "display_data"
    }
   ],
   "source": [
    "only_deaths_2021=only_deaths[only_deaths.Year=='2021']\n",
    "table_deaths_2021=only_deaths_2021.pivot_table(index='Week', columns='indicator', values='weekly_count')\n",
    "table_deaths_2021.plot(kind='bar', color='black', title='Number of deaths in 2021')\n",
    "plt.axis([0, 52, 0, 4000])\n",
    "plt.xlabel('Weeks')\n",
    "plt.ylabel('Deaths')\n",
    "plt.savefig('Number of deaths in 2021', dpi=300, bbox_inches='tight')"
   ]
  }
 ],
 "metadata": {
  "interpreter": {
   "hash": "e0306a1b578fb68a9533179a494c6b815c8b1b3791d62f28ff199badf2edd2ba"
  },
  "kernelspec": {
   "display_name": "Python 3.8.8 64-bit ('base': conda)",
   "language": "python",
   "name": "python3"
  },
  "language_info": {
   "codemirror_mode": {
    "name": "ipython",
    "version": 3
   },
   "file_extension": ".py",
   "mimetype": "text/x-python",
   "name": "python",
   "nbconvert_exporter": "python",
   "pygments_lexer": "ipython3",
   "version": "3.8.8"
  },
  "orig_nbformat": 4
 },
 "nbformat": 4,
 "nbformat_minor": 2
}

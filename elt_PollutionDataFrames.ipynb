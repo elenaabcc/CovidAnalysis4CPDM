{
 "cells": [
  {
   "cell_type": "code",
   "execution_count": null,
   "metadata": {},
   "outputs": [],
   "source": [
    "# import necessary libraries\n",
    "import pandas as pd\n",
    "import os\n",
    "import glob\n"
   ]
  },
  {
   "cell_type": "markdown",
   "metadata": {},
   "source": [
    "## <span style=\"color:Orange\"> **Read *.csv* files** </span>\n"
   ]
  },
  {
   "cell_type": "code",
   "execution_count": null,
   "metadata": {},
   "outputs": [],
   "source": [
    "# CSV Aggregation to better elaboration\n",
    "listNameCSV = [['pollution19Q1', 'pollution19Q2', 'pollution19Q3', 'pollution19Q4'],\n",
    "               ['pollution20Q1', 'pollution20Q2', 'pollution20Q3', 'pollution20Q4'],\n",
    "               ['pollution21Q1', 'pollution21Q2', 'pollution21Q3', 'pollution21Q4']]\n",
    "\n",
    "# dfConcatList contains dataframes of each year\n",
    "dfConcatList = []\n",
    "\n",
    "for csvs in listNameCSV:\n",
    "    dfList = []\n",
    "    for csv in csvs:\n",
    "        # print(csv)\n",
    "        year = '20' + csv[9:11]\n",
    "        # print(year)\n",
    "        # read the csv of corresponding year\n",
    "        temp_df = pd.read_csv(\"./PollutionData/\"+csv+\".csv\")\n",
    "        # remove tails (data from previous and next year of last and first month)\n",
    "        temp_df = temp_df.query(\n",
    "            \"Date.str.contains('\"+year+\"')\", engine='python')\n",
    "        dfList.append(temp_df)\n",
    "        # print(len(dfList))\n",
    "    # Union data of all quarters of the same year\n",
    "    result = pd.concat(dfList, axis=0, join=\"outer\")\n",
    "    # Save it to the list\n",
    "    dfConcatList.append(result)\n"
   ]
  },
  {
   "cell_type": "code",
   "execution_count": 6,
   "metadata": {},
   "outputs": [],
   "source": [
    "cityData = {}\n",
    "cities = ['Rome', 'Bucharest', 'Oslo']\n",
    "years = ['2019', '2020', '2021']\n",
    "specie = 'pm10'\n",
    "\n",
    "# Populate cities dictionary with corresponding dataframe\n",
    "# The structure of cityData is {'Rome':{'2019':df, '2020':df, '2021':df}, ...}\n",
    "for city in cities:\n",
    "    yearDict = {}\n",
    "    for i, year in enumerate(years):\n",
    "        yearDict[year] = dfConcatList[i].query(\n",
    "            \"City == '\"+city+\"' and Specie =='\"+specie+\"'\").sort_values(by='Date')\n",
    "    cityData[city] = yearDict\n"
   ]
  },
  {
   "cell_type": "code",
   "execution_count": null,
   "metadata": {},
   "outputs": [],
   "source": [
    "from custom_charts import generateTimeSeriesChartWithSubplots\n",
    "\n",
    "# Generate figure of each city and memorize it in a dictionary\n",
    "cityFig = {}\n",
    "# Loop the cityData dictionary\n",
    "for city, yearsDict in cityData.items():\n",
    "    cityFig[city] = generateTimeSeriesChartWithSubplots(\n",
    "        yearsDict.values(), yearsDict.keys(), 'Date', 'max')\n",
    "    cityFig[city].update_layout(showlegend=False)\n"
   ]
  }
 ],
 "metadata": {
  "interpreter": {
   "hash": "40d3a090f54c6569ab1632332b64b2c03c39dcf918b08424e98f38b5ae0af88f"
  },
  "kernelspec": {
   "display_name": "Python 3.8.8 64-bit ('base': conda)",
   "name": "python3"
  },
  "language_info": {
   "codemirror_mode": {
    "name": "ipython",
    "version": 3
   },
   "file_extension": ".py",
   "mimetype": "text/x-python",
   "name": "python",
   "nbconvert_exporter": "python",
   "pygments_lexer": "ipython3",
   "version": "3.8.8"
  },
  "orig_nbformat": 4
 },
 "nbformat": 4,
 "nbformat_minor": 2
}

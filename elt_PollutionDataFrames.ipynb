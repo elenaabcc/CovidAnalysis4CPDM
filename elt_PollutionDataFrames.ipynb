{
 "cells": [
  {
   "cell_type": "code",
   "execution_count": 2,
   "metadata": {},
   "outputs": [],
   "source": [
    "# import necessary libraries\n",
    "import pandas as pd\n",
    "import os\n",
    "import glob"
   ]
  },
  {
   "cell_type": "markdown",
   "metadata": {},
   "source": [
    "## <span style=\"color:Orange\"> **Read *.csv* files** </span>\n"
   ]
  },
  {
   "cell_type": "code",
   "execution_count": 13,
   "metadata": {},
   "outputs": [],
   "source": [
    "# assign dataset names\n",
    "listNameCSV = [['pollution19Q1','pollution19Q2','pollution19Q3','pollution19Q4'],\n",
    "                ['pollution20Q1','pollution20Q2', 'pollution20Q3', 'pollution20Q4'],\n",
    "                ['pollution21Q1','pollution21Q2', 'pollution21Q3', 'pollution21Q4']]\n",
    " \n",
    "# create empty list\n",
    "dfConcatList =[]\n",
    " \n",
    "# append datasets into teh list\n",
    "for csvs in listNameCSV:\n",
    "    dfList = []\n",
    "    for csv in csvs:\n",
    "        #print(csv)\n",
    "        year = '20' + csv[9:11]\n",
    "        # print(year)\n",
    "        temp_df = pd.read_csv(\"./PollutionData/\"+csv+\".csv\")\n",
    "        temp_df = temp_df.query(\"Date.str.contains('\"+year+\"')\", engine='python')\n",
    "        dfList.append(temp_df)\n",
    "        # print(len(dfList))\n",
    "    #print('Concat dfs of same year')\n",
    "    result = pd.concat(dfList, axis=0, join=\"outer\")\n",
    "    dfConcatList.append(result)\n"
   ]
  },
  {
   "cell_type": "markdown",
   "metadata": {},
   "source": [
    "## <span style=\"color:Orange\"> **Query *.csv* files** </span>\n"
   ]
  },
  {
   "cell_type": "code",
   "execution_count": 14,
   "metadata": {},
   "outputs": [],
   "source": [
    "\n",
    "for i, df in enumerate(dfConcatList):\n",
    "     dfConcatList[i] = dfConcatList[i].query(\"(City =='Bucharest' or City =='Rome' or City =='Olso') and Specie =='pm10'\").sort_values(by = 'Date')\n"
   ]
  },
  {
   "cell_type": "code",
   "execution_count": null,
   "metadata": {},
   "outputs": [],
   "source": []
  }
 ],
 "metadata": {
  "interpreter": {
   "hash": "40d3a090f54c6569ab1632332b64b2c03c39dcf918b08424e98f38b5ae0af88f"
  },
  "kernelspec": {
   "display_name": "Python 3.8.8 64-bit ('base': conda)",
   "name": "python3"
  },
  "language_info": {
   "codemirror_mode": {
    "name": "ipython",
    "version": 3
   },
   "file_extension": ".py",
   "mimetype": "text/x-python",
   "name": "python",
   "nbconvert_exporter": "python",
   "pygments_lexer": "ipython3",
   "version": "3.8.8"
  },
  "orig_nbformat": 4
 },
 "nbformat": 4,
 "nbformat_minor": 2
}

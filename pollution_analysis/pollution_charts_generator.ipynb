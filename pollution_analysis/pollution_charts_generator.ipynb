{
 "cells": [
  {
   "cell_type": "code",
   "execution_count": 2,
   "metadata": {},
   "outputs": [],
   "source": [
    "# import necessary libraries\n",
    "import pandas as pd\n",
    "import os\n",
    "import glob\n",
    "\n",
    "from plotly.subplots import make_subplots\n",
    "import plotly.graph_objects as go\n",
    "\n",
    "# It will take some seconds\n",
    "from etl_pollution_dataframe import *\n"
   ]
  },
  {
   "cell_type": "markdown",
   "metadata": {},
   "source": [
    "# Table of value of each Species in IT,RO,NO"
   ]
  },
  {
   "cell_type": "code",
   "execution_count": 3,
   "metadata": {},
   "outputs": [
    {
     "name": "stdout",
     "output_type": "stream",
     "text": [
      "Stored 'overallTable' (Figure)\n"
     ]
    }
   ],
   "source": [
    "countries = ['IT', 'RO', 'NO' ]\n",
    "\n",
    "\n",
    "overallTable = make_subplots(\n",
    "    rows=3, cols=1,\n",
    "    shared_xaxes=True,\n",
    "    vertical_spacing=0.03,\n",
    "    specs=[[{\"type\": \"table\"}],\n",
    "           [{\"type\": \"table\"}],\n",
    "           [{\"type\": \"table\"}]],\n",
    "    subplot_titles=(\"2019\", \"2020\", \"2021\")\n",
    "    )\n",
    "\n",
    "# 2019\n",
    "overallTable.add_trace(go.Table( columnwidth = [10,20,20, 20,20,20,20,20,20,20,20,20,20,20,20,20,20,20],\n",
    "                  header=dict(values=['<b>Country</b>', '<b>Air quality index</b>', '<b>Carbon Monoxide</b>',\n",
    "                                      '<b>Humidity</b>', '<b>Nitrogen Dioxide</b>', '<b>Ozone</b>', '<b>Airborne particulates Matter</b>', \n",
    "                                      '<b>Fine particulate matter</b>', '<b>Sulfur dioxide</b>', '<b>Temperature</b>']),\n",
    "                 cells=dict(values=[\n",
    "                      [country for country in countries],\n",
    "                      [round(value,2) for value in [res[(res['Specie'] == 'aqi') & (res['Country'] == country) & (res['Year'] == '2019')]['count'] for country in countries]],\n",
    "                      [round(value,2) for value in [res[(res['Specie'] == 'co') & (res['Country'] == country) & (res['Year'] == '2019')]['count'] for country in countries]],\n",
    "                      [round(value,2) for value in [res[(res['Specie'] == 'humidity') & (res['Country'] == country) & (res['Year'] == '2019')]['count'] for country in countries]],\n",
    "                      [round(value,2) for value in [res[(res['Specie'] == 'no2') & (res['Country'] == country) & (res['Year'] == '2019')]['count'] for country in countries]],\n",
    "                      [round(value,2) for value in [res[(res['Specie'] == 'o3') & (res['Country'] == country) & (res['Year'] == '2019')]['count'] for country in countries]],\n",
    "                      [round(value,2) for value in [res[(res['Specie'] == 'pm10') & (res['Country'] == country) & (res['Year'] == '2019')]['count'] for country in countries]],\n",
    "                      [round(value,2) for value in [res[(res['Specie'] == 'pm25') & (res['Country'] == country) & (res['Year'] == '2019')]['count'] for country in countries]],\n",
    "                      [round(value,2) for value in [res[(res['Specie'] == 'so2') & (res['Country'] == country) & (res['Year'] == '2019')]['count'] for country in countries]],\n",
    "                      [round(value,2) for value in [res[(res['Specie'] == 'temperature') & (res['Country'] == country) & (res['Year'] == '2019')]['count'] for country in countries]],\n",
    "                                    ]\n",
    "                            )\n",
    "                        ),\n",
    "                row = 1, col = 1\n",
    "                )\n",
    "\n",
    "# 2020\n",
    "overallTable.add_trace(go.Table( columnwidth = [10,20,20, 20,20,20,20,20,20,20,20,20,20,20,20,20,20,20],\n",
    "                  header=dict(values=['<b>Country</b>', '<b>Air quality index</b>', '<b>Carbon Monoxide</b>',\n",
    "                                      '<b>Humidity</b>', '<b>Nitrogen Dioxide</b>', '<b>Ozone</b>', '<b>Airborne particulates Matter</b>', \n",
    "                                      '<b>Fine particulate matter</b>', '<b>Sulfur dioxide</b>', '<b>Temperature</b>']),\n",
    "                 cells=dict(values=[\n",
    "                      [country for country in countries],\n",
    "                      [round(value,2) for value in [res[(res['Specie'] == 'aqi') & (res['Country'] == country) & (res['Year'] == '2020')]['count'] for country in countries]],\n",
    "                      [round(value,2) for value in [res[(res['Specie'] == 'co') & (res['Country'] == country) & (res['Year'] == '2020')]['count'] for country in countries]],\n",
    "                      [round(value,2) for value in [res[(res['Specie'] == 'humidity') & (res['Country'] == country) & (res['Year'] == '2020')]['count'] for country in countries]],\n",
    "                      [round(value,2) for value in [res[(res['Specie'] == 'no2') & (res['Country'] == country) & (res['Year'] == '2020')]['count'] for country in countries]],\n",
    "                      [round(value,2) for value in [res[(res['Specie'] == 'o3') & (res['Country'] == country) & (res['Year'] == '2020')]['count'] for country in countries]],\n",
    "                      [round(value,2) for value in [res[(res['Specie'] == 'pm10') & (res['Country'] == country) & (res['Year'] == '2020')]['count'] for country in countries]],\n",
    "                      [round(value,2) for value in [res[(res['Specie'] == 'pm25') & (res['Country'] == country) & (res['Year'] == '2020')]['count'] for country in countries]],\n",
    "                      [round(value,2) for value in [res[(res['Specie'] == 'so2') & (res['Country'] == country) & (res['Year'] == '2020')]['count'] for country in countries]],\n",
    "                      [round(value,2) for value in [res[(res['Specie'] == 'temperature') & (res['Country'] == country) & (res['Year'] == '2020')]['count'] for country in countries]],\n",
    "                                    ]\n",
    "                            )\n",
    "                        ),\n",
    "                row = 2, col = 1\n",
    "                )\n",
    "                      \n",
    "# 2021   \n",
    "overallTable.add_trace(go.Table( columnwidth = [10,20,20, 20,20,20,20,20,20,20,20,20,20,20,20,20,20,20],\n",
    "                header=dict(values=['<b>Country</b>', '<b>Air quality index</b>', '<b>Carbon Monoxide</b>',\n",
    "                                        '<b>Humidity</b>', '<b>Nitrogen Dioxide</b>', '<b>Ozone</b>', '<b>Airborne particulates Matter</b>', \n",
    "                                        '<b>Fine particulate matter</b>', '<b>Sulfur dioxide</b>', '<b>Temperature</b>']),\n",
    "                cells=dict(values=[\n",
    "                        [country for country in countries],\n",
    "                        [round(value,2) for value in [res[(res['Specie'] == 'aqi') & (res['Country'] == country) & (res['Year'] == '2021')]['count'] for country in countries]],\n",
    "                        [round(value,2) for value in [res[(res['Specie'] == 'co') & (res['Country'] == country) & (res['Year'] == '2021')]['count'] for country in countries]],\n",
    "                        [round(value,2) for value in [res[(res['Specie'] == 'humidity') & (res['Country'] == country) & (res['Year'] == '2021')]['count'] for country in countries]],\n",
    "                        [round(value,2) for value in [res[(res['Specie'] == 'no2') & (res['Country'] == country) & (res['Year'] == '2021')]['count'] for country in countries]],\n",
    "                        [round(value,2) for value in [res[(res['Specie'] == 'o3') & (res['Country'] == country) & (res['Year'] == '2021')]['count'] for country in countries]],\n",
    "                        [round(value,2) for value in [res[(res['Specie'] == 'pm10') & (res['Country'] == country) & (res['Year'] == '2021')]['count'] for country in countries]],\n",
    "                        [round(value,2) for value in [res[(res['Specie'] == 'pm25') & (res['Country'] == country) & (res['Year'] == '2021')]['count'] for country in countries]],\n",
    "                        [round(value,2) for value in [res[(res['Specie'] == 'so2') & (res['Country'] == country) & (res['Year'] == '2021')]['count'] for country in countries]],\n",
    "                        [round(value,2) for value in [res[(res['Specie'] == 'temperature') & (res['Country'] == country) & (res['Year'] == '2021')]['count'] for country in countries]],\n",
    "                                        ]\n",
    "                                )\n",
    "                        ),\n",
    "        row = 3, col = 1\n",
    "        )\n",
    "\n",
    "overallTable.update_layout(width=1200,height=600)\n",
    "\n",
    "\n",
    "%store overallTable"
   ]
  },
  {
   "cell_type": "markdown",
   "metadata": {},
   "source": [
    "# Radar chart for Italy 2019-2020-2021"
   ]
  },
  {
   "cell_type": "code",
   "execution_count": 4,
   "metadata": {},
   "outputs": [
    {
     "name": "stdout",
     "output_type": "stream",
     "text": [
      "Stored 'radarItaly' (Figure)\n"
     ]
    }
   ],
   "source": [
    "\n",
    "species = ['co', 'dew', 'humidity', 'no2', 'o3', 'pm10', 'pm25', 'pressure',\n",
    "       'so2', 'temperature', 'wind gust', 'wind speed', 'wind-gust',\n",
    "       'wind-speed', 'precipitation', 'wd', 'aqi', 'neph', 'uvi', 'pol',\n",
    "       'pm1', 'mepaqi']\n",
    "\n",
    "radarItaly = go.Figure()\n",
    "\n",
    "radarItaly.add_trace(go.Scatterpolar(\n",
    "      r=[value for value in res.loc[(res['Country'] == 'IT') & (res['Year'] == '2019')]['count']],\n",
    "      theta=species,\n",
    "      name='Italy in 2019'\n",
    "))\n",
    "radarItaly.add_trace(go.Scatterpolar(\n",
    "      r=[value for value in res.loc[(res['Country'] == 'IT') & (res['Year'] == '2020')]['count']],\n",
    "      theta=species,\n",
    "      name='Italy in 2020'\n",
    "))\n",
    "radarItaly.add_trace(go.Scatterpolar(\n",
    "      r=[value for value in res.loc[(res['Country'] == 'IT') & (res['Year'] == '2021')]['count']],\n",
    "      theta=species,\n",
    "      name='Italy in 2021'\n",
    "))\n",
    "\n",
    "\n",
    "radarItaly.update_layout(\n",
    "  width=600,\n",
    "    height=500,\n",
    "  polar=dict(\n",
    "    radialaxis=dict(\n",
    "      visible=True,\n",
    "    )),\n",
    "  showlegend=True\n",
    ")\n",
    "\n",
    "\n",
    "%store radarItaly\n",
    "#fig.show()"
   ]
  },
  {
   "cell_type": "markdown",
   "metadata": {},
   "source": [
    "# Radar chart for Romania 2019-2020-2021\n"
   ]
  },
  {
   "cell_type": "code",
   "execution_count": 5,
   "metadata": {},
   "outputs": [
    {
     "name": "stdout",
     "output_type": "stream",
     "text": [
      "Stored 'radarRomania' (Figure)\n"
     ]
    }
   ],
   "source": [
    "species = ['co', 'dew', 'humidity', 'no2', 'o3', 'pm10', 'pm25', 'pressure',\n",
    "       'so2', 'temperature', 'wind gust', 'wind speed', 'wind-gust',\n",
    "       'wind-speed', 'precipitation', 'wd', 'aqi', 'neph', 'uvi', 'pol',\n",
    "       'pm1', 'mepaqi']\n",
    "\n",
    "radarRomania = go.Figure()\n",
    "\n",
    "radarRomania.add_trace(go.Scatterpolar(\n",
    "      r=[value for value in res.loc[(res['Country'] == 'RO') & (res['Year'] == '2019')]['count']],\n",
    "      theta=species,\n",
    "      name='Romania in 2019'\n",
    "))\n",
    "radarRomania.add_trace(go.Scatterpolar(\n",
    "      r=[value for value in res.loc[(res['Country'] == 'RO') & (res['Year'] == '2020')]['count']],\n",
    "      theta=species,\n",
    "      name='Romania in 2020'\n",
    "))\n",
    "radarRomania.add_trace(go.Scatterpolar(\n",
    "      r=[value for value in res.loc[(res['Country'] == 'RO') & (res['Year'] == '2021')]['count']],\n",
    "      theta=species,\n",
    "      name='Romania in 2021'\n",
    "))\n",
    "\n",
    "\n",
    "radarRomania.update_layout(\n",
    "  width=600,\n",
    "    height=500,\n",
    "  polar=dict(\n",
    "    radialaxis=dict(\n",
    "      visible=True,\n",
    "    )),\n",
    "  showlegend=True\n",
    ")\n",
    "\n",
    "%store radarRomania\n",
    "\n",
    "#fig.show()"
   ]
  },
  {
   "cell_type": "markdown",
   "metadata": {},
   "source": [
    "# Radar chart for Norway 2019-2020-2021\n"
   ]
  },
  {
   "cell_type": "code",
   "execution_count": 6,
   "metadata": {},
   "outputs": [
    {
     "name": "stdout",
     "output_type": "stream",
     "text": [
      "Stored 'radarNorway' (Figure)\n"
     ]
    }
   ],
   "source": [
    "species = ['co', 'dew', 'humidity', 'no2', 'o3', 'pm10', 'pm25', 'pressure',\n",
    "       'so2', 'temperature', 'wind gust', 'wind speed', 'wind-gust',\n",
    "       'wind-speed', 'precipitation', 'wd', 'aqi', 'neph', 'uvi', 'pol',\n",
    "       'pm1', 'mepaqi']\n",
    "\n",
    "radarNorway = go.Figure()\n",
    "\n",
    "radarNorway.add_trace(go.Scatterpolar(\n",
    "      r=[value for value in res.loc[(res['Country'] == 'NO') & (res['Year'] == '2019')]['count']],\n",
    "      theta=species,\n",
    "      name='Norway in 2019'\n",
    "))\n",
    "radarNorway.add_trace(go.Scatterpolar(\n",
    "      r=[value for value in res.loc[(res['Country'] == 'NO') & (res['Year'] == '2020')]['count']],\n",
    "      theta=species,\n",
    "      name='Norway in 2020'\n",
    "))\n",
    "radarNorway.add_trace(go.Scatterpolar(\n",
    "      r=[value for value in res.loc[(res['Country'] == 'NO') & (res['Year'] == '2021')]['count']],\n",
    "      theta=species,\n",
    "      name='Norway in 2021'\n",
    "))\n",
    "\n",
    "\n",
    "radarNorway.update_layout(\n",
    "  width=600,\n",
    "    height=500,\n",
    "  polar=dict(\n",
    "    radialaxis=dict(\n",
    "      visible=True,\n",
    "    )),\n",
    "  showlegend=True\n",
    ")\n",
    "\n",
    "%store radarNorway\n",
    "\n",
    "#fig.show()"
   ]
  },
  {
   "cell_type": "markdown",
   "metadata": {},
   "source": []
  },
  {
   "cell_type": "markdown",
   "metadata": {},
   "source": [
    "__________________________________"
   ]
  },
  {
   "cell_type": "code",
   "execution_count": 7,
   "metadata": {},
   "outputs": [
    {
     "ename": "ModuleNotFoundError",
     "evalue": "No module named 'pollution_charts_function'",
     "output_type": "error",
     "traceback": [
      "\u001b[0;31m---------------------------------------------------------------------------\u001b[0m",
      "\u001b[0;31mModuleNotFoundError\u001b[0m                       Traceback (most recent call last)",
      "\u001b[0;32m<ipython-input-7-218d859442df>\u001b[0m in \u001b[0;36m<module>\u001b[0;34m\u001b[0m\n\u001b[0;32m----> 1\u001b[0;31m \u001b[0;32mfrom\u001b[0m \u001b[0mpollution_charts_function\u001b[0m \u001b[0;32mimport\u001b[0m \u001b[0mgenerateTimeSeriesChartWithSubplots\u001b[0m\u001b[0;34m\u001b[0m\u001b[0;34m\u001b[0m\u001b[0m\n\u001b[0m\u001b[1;32m      2\u001b[0m \u001b[0;34m\u001b[0m\u001b[0m\n\u001b[1;32m      3\u001b[0m \u001b[0;31m# Generate figure of each city and memorize it in a dictionary\u001b[0m\u001b[0;34m\u001b[0m\u001b[0;34m\u001b[0m\u001b[0;34m\u001b[0m\u001b[0m\n\u001b[1;32m      4\u001b[0m \u001b[0mcityTimeSeriesPM10\u001b[0m \u001b[0;34m=\u001b[0m \u001b[0;34m{\u001b[0m\u001b[0;34m}\u001b[0m\u001b[0;34m\u001b[0m\u001b[0;34m\u001b[0m\u001b[0m\n\u001b[1;32m      5\u001b[0m \u001b[0;31m# Loop the cityData dictionary\u001b[0m\u001b[0;34m\u001b[0m\u001b[0;34m\u001b[0m\u001b[0;34m\u001b[0m\u001b[0m\n",
      "\u001b[0;31mModuleNotFoundError\u001b[0m: No module named 'pollution_charts_function'"
     ]
    }
   ],
   "source": [
    "from pollution_charts_function import generateTimeSeriesChartWithSubplots\n",
    "\n",
    "# Generate figure of each city and memorize it in a dictionary\n",
    "cityTimeSeriesPM10 = {}\n",
    "# Loop the cityData dictionary\n",
    "for city, yearsDict in cityData.items():\n",
    "    cityTimeSeriesPM10[city] = generateTimeSeriesChartWithSubplots(\n",
    "        yearsDict.values(), yearsDict.keys(), 'Date', 'max')\n",
    "    cityTimeSeriesPM10[city].update_layout(showlegend=False)\n",
    "\n",
    "%store cityTimeSeriesPM10\n"
   ]
  },
  {
   "cell_type": "code",
   "execution_count": null,
   "metadata": {},
   "outputs": [
    {
     "name": "stdout",
     "output_type": "stream",
     "text": [
      "Stored 'cityTablePM10' (dict)\n"
     ]
    }
   ],
   "source": [
    "from pollution_charts_function import generatePm10EvaluationTable\n",
    "\n",
    "# Generate table of each city and memorize it in a dictionary\n",
    "cityTablePM10 = {}\n",
    "# Loop the cityData dictionary\n",
    "for city, yearsDict in cityData.items():\n",
    "    cityTablePM10[city] = generatePm10EvaluationTable(city, yearsDict)\n",
    "    cityTablePM10[city].update_layout(showlegend=False)\n",
    "\n",
    "\n",
    "%store cityTablePM10\n"
   ]
  }
 ],
 "metadata": {
  "interpreter": {
   "hash": "40d3a090f54c6569ab1632332b64b2c03c39dcf918b08424e98f38b5ae0af88f"
  },
  "kernelspec": {
   "display_name": "Python 3.8.8 64-bit ('base': conda)",
   "name": "python3"
  },
  "language_info": {
   "codemirror_mode": {
    "name": "ipython",
    "version": 3
   },
   "file_extension": ".py",
   "mimetype": "text/x-python",
   "name": "python",
   "nbconvert_exporter": "python",
   "pygments_lexer": "ipython3",
   "version": "3.8.8"
  },
  "orig_nbformat": 4
 },
 "nbformat": 4,
 "nbformat_minor": 2
}
